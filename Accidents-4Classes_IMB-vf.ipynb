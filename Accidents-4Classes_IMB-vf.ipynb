{
 "cells": [
  {
   "cell_type": "markdown",
   "metadata": {},
   "source": [
    "## Final Project - Road Accidents in France in 2019\n",
    "## N°2 / Module 'Imbalanced-Learn'"
   ]
  },
  {
   "cell_type": "code",
   "execution_count": 2,
   "metadata": {},
   "outputs": [],
   "source": [
    "import os\n",
    "import pandas as pd\n",
    "import numpy as np\n",
    "import matplotlib.pyplot as plt\n",
    "%matplotlib inline \n",
    "import seaborn as sns\n",
    "import joblib\n",
    "\n",
    "import sklearn\n",
    "from sklearn import svm\n",
    "from sklearn.linear_model import LogisticRegression, Perceptron\n",
    "from sklearn.ensemble import RandomForestClassifier, GradientBoostingClassifier, ExtraTreesClassifier\n",
    "from sklearn.model_selection import train_test_split, GridSearchCV, cross_val_score\n",
    "from sklearn.metrics import balanced_accuracy_score\n",
    "\n",
    "from imblearn.ensemble import BalancedRandomForestClassifier, BalancedBaggingClassifier, RUSBoostClassifier, EasyEnsembleClassifier\n"
   ]
  },
  {
   "cell_type": "markdown",
   "metadata": {},
   "source": [
    "### Import des fichiers de données"
   ]
  },
  {
   "cell_type": "code",
   "execution_count": 6,
   "metadata": {},
   "outputs": [],
   "source": [
    "acc = pd.read_csv('../Final-Project/data/victime_clean_dummies.csv')"
   ]
  },
  {
   "cell_type": "code",
   "execution_count": 7,
   "metadata": {},
   "outputs": [
    {
     "data": {
      "text/plain": [
       "(130901, 141)"
      ]
     },
     "execution_count": 7,
     "metadata": {},
     "output_type": "execute_result"
    }
   ],
   "source": [
    "acc.shape"
   ]
  },
  {
   "cell_type": "markdown",
   "metadata": {},
   "source": [
    "## Machine Learning"
   ]
  },
  {
   "cell_type": "code",
   "execution_count": 8,
   "metadata": {},
   "outputs": [],
   "source": [
    "from sklearn.model_selection import train_test_split\n",
    "y = acc.pop('grav')\n",
    "X = acc"
   ]
  },
  {
   "cell_type": "code",
   "execution_count": 9,
   "metadata": {},
   "outputs": [],
   "source": [
    "# Pour l'évaluation des modèles, nous utiliserons le score de Balanced Accuracy (\"exactitude pondérée\") \n",
    "# plutôt que le score d'Accuracy, car nos classes cibles sont de tailles respectives déséquilibrées. \n",
    "\n",
    "def display_scores(scores):\n",
    "    print(\"Mean Balanced Accuracy Score:\", round(scores.mean(),3))\n",
    "    print(\"Standard deviation:\", round(scores.std(),5))"
   ]
  },
  {
   "cell_type": "markdown",
   "metadata": {},
   "source": [
    "#### Choix et Entraînement de divers modèles initialisés par défaut"
   ]
  },
  {
   "cell_type": "markdown",
   "metadata": {},
   "source": [
    "On essaie plusieurs modèles de classification, initialisés par défaut.\n",
    "https://scikit-learn.org/stable/modules/multiclass.html"
   ]
  },
  {
   "cell_type": "markdown",
   "metadata": {},
   "source": [
    "Dans un second temps, on utilise la solution proposée par le module imblearn.ensemble : des modèles d'ensembles entraînés à chaque étape sur un échantillon rééquilibré automatiquement entre les différentes classes. Ce qui permet de se passer de méthodes de rééchantillonnage avant l'entraînement."
   ]
  },
  {
   "cell_type": "code",
   "execution_count": 6,
   "metadata": {},
   "outputs": [],
   "source": [
    "# Modèle : BALANCED FOREST\n",
    "X_train, X_test, y_train, y_test = train_test_split(X, y, test_size=0.2)"
   ]
  },
  {
   "cell_type": "code",
   "execution_count": 10,
   "metadata": {},
   "outputs": [],
   "source": [
    "brf1 = BalancedRandomForestClassifier()"
   ]
  },
  {
   "cell_type": "code",
   "execution_count": 8,
   "metadata": {},
   "outputs": [
    {
     "name": "stdout",
     "output_type": "stream",
     "text": [
      "Mean Balanced Accuracy Score: 0.559\n",
      "Standard deviation: 0.00701\n"
     ]
    }
   ],
   "source": [
    "brf1_scores = cross_val_score(brf1, X_train, y_train, scoring='balanced_accuracy', cv=10)\n",
    "display_scores(brf1_scores)"
   ]
  },
  {
   "cell_type": "code",
   "execution_count": 11,
   "metadata": {},
   "outputs": [],
   "source": [
    "X_train, X_test, y_train, y_test = train_test_split(X, y, test_size=0.1)"
   ]
  },
  {
   "cell_type": "code",
   "execution_count": 12,
   "metadata": {},
   "outputs": [
    {
     "data": {
      "text/plain": [
       "BalancedRandomForestClassifier()"
      ]
     },
     "execution_count": 12,
     "metadata": {},
     "output_type": "execute_result"
    }
   ],
   "source": [
    "brf1.fit(X_train, y_train)"
   ]
  },
  {
   "cell_type": "code",
   "execution_count": 13,
   "metadata": {},
   "outputs": [
    {
     "data": {
      "text/plain": [
       "[('vitesse_autorisee', 0.035839364271166976),\n",
       " ('nb_voies', 0.027990546363435814),\n",
       " ('type_veh_7', 0.026378065565434376),\n",
       " ('sens_circu_2', 0.01939722400998499),\n",
       " ('an_nais_Moins de 35 ans', 0.018554397915705824),\n",
       " ('sexe_2', 0.01805009523903349),\n",
       " ('agglo_2', 0.017947885121417782),\n",
       " ('obst_mobile_IRLVT', 0.01715549467501678),\n",
       " ('obst_fixe_IRLVT', 0.01710988882876523),\n",
       " ('dep_Sud Est', 0.01661815762454857),\n",
       " ('num_veh_B01', 0.01660858655472697),\n",
       " ('an_nais_36-75 ans', 0.016425045674577417),\n",
       " ('type_route_3', 0.015179639597053507),\n",
       " ('declivite_2', 0.014240002520396691),\n",
       " ('type_circu_2', 0.01407394749909749),\n",
       " ('dep_Sud Ouest', 0.014055935455592559),\n",
       " ('dep_Nord Est', 0.01376229021776729),\n",
       " ('dep_Nord-Ouest', 0.013518404227704435),\n",
       " ('intersection_IRLVT', 0.013333385673091764),\n",
       " ('type_usager_2', 0.01302271325302553),\n",
       " ('type_veh_33', 0.012976509163601388),\n",
       " ('choc_3', 0.012698393683063414),\n",
       " ('surface_2', 0.01265565958219427),\n",
       " ('obst_mobile_2', 0.012171733727943725),\n",
       " ('lum_3', 0.012026870332431622),\n",
       " ('type_route_4', 0.011833216015747066),\n",
       " ('sens_circu_IRLVT', 0.011815125653068106),\n",
       " ('collision_3', 0.011525144207373056),\n",
       " ('collision_6', 0.01119471533847332),\n",
       " ('choc_2', 0.011072481334962539),\n",
       " ('mois_7', 0.010787913004493256),\n",
       " ('lum_5', 0.010621804712620838),\n",
       " ('mois_6', 0.010442069340562157),\n",
       " ('infrastructure_IRLVT', 0.01042759277590918),\n",
       " ('mois_9', 0.01025822008059215),\n",
       " ('rectitude_3', 0.010186905090633556),\n",
       " ('mois_8', 0.010146830689247684),\n",
       " ('manoeuvre_veh_13', 0.009994144253465384),\n",
       " ('rectitude_2', 0.00991728668147028),\n",
       " ('place_veh_2', 0.009898599129574408),\n",
       " ('mois_10', 0.009817299503106502),\n",
       " ('mois_5', 0.009644331898089852),\n",
       " ('mois_12', 0.009496398149386872),\n",
       " ('meteo_2', 0.009460131197575761),\n",
       " ('mois_3', 0.009372118070501492),\n",
       " ('type_veh_10', 0.009310061200165854),\n",
       " ('mois_4', 0.009204756790770383),\n",
       " ('mois_2', 0.008715300361560352),\n",
       " ('mois_11', 0.008648622575375006),\n",
       " ('collision_2', 0.008404364595445309),\n",
       " ('manoeuvre_veh_2', 0.008232956239404912),\n",
       " ('type_veh_autre', 0.008074952108509087),\n",
       " ('manoeuvre_veh_15', 0.007974695401027994),\n",
       " ('intersection_3', 0.007779411047461958),\n",
       " ('situ_acc_3', 0.007772522045235252),\n",
       " ('choc_8', 0.0075814549828450315),\n",
       " ('lum_2', 0.00747726225579491),\n",
       " ('type_circu_3', 0.007362696468456537),\n",
       " ('choc_4', 0.007261168329854052),\n",
       " ('choc_7', 0.007162667740253363),\n",
       " ('type_veh_2', 0.006810476379703393),\n",
       " ('collision_IRLVT', 0.006658165950672891),\n",
       " ('type_usager_3', 0.006541390377338132),\n",
       " ('type_route_2', 0.006467920937305557),\n",
       " ('collision_5', 0.006304928077417784),\n",
       " ('choc_IRLVT', 0.006291571444942415),\n",
       " ('loc_pieton_IRLVT', 0.005925724785809834),\n",
       " ('pieton_seul_IRLVT', 0.005508703617068849),\n",
       " ('manoeuvre_veh_17', 0.005386849677089915),\n",
       " ('place_veh_10', 0.005275103429047559),\n",
       " ('collision_4', 0.005273376174550322),\n",
       " ('infrastructure_5', 0.005260117491581452),\n",
       " ('meteo_8', 0.005172378260121884),\n",
       " ('obst_fixe_autre', 0.005007299160923581),\n",
       " ('manoeuvre_veh_26', 0.0046302882901028495),\n",
       " ('intersection_9', 0.004592861513548982),\n",
       " ('obst_fixe_2', 0.004376397991586897),\n",
       " ('type_veh_30', 0.004089157242252161),\n",
       " ('infrastructure_9', 0.004047380010458141),\n",
       " ('num_veh_C01', 0.003952495875626116),\n",
       " ('manoeuvre_veh_autre', 0.003926912814408034),\n",
       " ('choc_6', 0.003919154288696301),\n",
       " ('meteo_3', 0.0036149928348150617),\n",
       " ('declivite_3', 0.0035781084628721703),\n",
       " ('manoeuvre_veh_19', 0.0035681457261668454),\n",
       " ('type_veh_32', 0.0035554888596326857),\n",
       " ('meteo_autre', 0.0035322820538588578),\n",
       " ('manoeuvre_veh_14', 0.0035321809233008804),\n",
       " ('type_veh_31', 0.0035009912630439093),\n",
       " ('choc_9', 0.0034879698173073165),\n",
       " ('situ_acc_8', 0.0033907038220018886),\n",
       " ('intersection_6', 0.0033102513427114293),\n",
       " ('obst_fixe_6', 0.0032818634177418232),\n",
       " ('meteo_7', 0.0032772819124980705),\n",
       " ('manoeuvre_veh_5', 0.0031979084190937018),\n",
       " ('choc_5', 0.003144774306370347),\n",
       " ('situ_acc_autre', 0.00300910764239318),\n",
       " ('obst_fixe_13', 0.003005181475408488),\n",
       " ('manoeuvre_veh_9', 0.0028791552708977864),\n",
       " ('manoeuvre_veh_21', 0.0027593909711894327),\n",
       " ('manoeuvre_veh_16', 0.0027392656083687667),\n",
       " ('declivite_4', 0.0027233612928768353),\n",
       " ('intersection_4', 0.0026933814311063935),\n",
       " ('infrastructure_2', 0.002608839050054956),\n",
       " ('rectitude_4', 0.002607708170556644),\n",
       " ('type_route_7', 0.0025860075887038842),\n",
       " ('place_veh_3', 0.0025725065460676815),\n",
       " ('obst_fixe_8', 0.002565440952522874),\n",
       " ('loc_pieton_3', 0.002491775002302765),\n",
       " ('surface_autre', 0.002405746866945093),\n",
       " ('manoeuvre_veh_23', 0.0023646387300332904),\n",
       " ('place_veh_4', 0.0023573589714033253),\n",
       " ('obst_fixe_3', 0.002295902378246686),\n",
       " ('type_veh_34', 0.0022895073380985284),\n",
       " ('place_veh_9', 0.0022569905192159675),\n",
       " ('place_veh_autre', 0.0021236029406819464),\n",
       " ('situ_acc_2', 0.0021092141761412156),\n",
       " ('place_veh_7', 0.0020561089504613716),\n",
       " ('obst_mobile_autre', 0.0018974984876010306),\n",
       " ('obst_fixe_4', 0.001878338874602162),\n",
       " ('loc_pieton_2', 0.0018550254583314704),\n",
       " ('type_route_autre', 0.0017918206396943797),\n",
       " ('type_veh_37', 0.0017653930590270453),\n",
       " ('manoeuvre_veh_3', 0.001761876284061419),\n",
       " ('infrastructure_3', 0.0017036820736651764),\n",
       " ('lum_4', 0.0016848877611372695),\n",
       " ('pieton_seul_2', 0.0016305870147797124),\n",
       " ('loc_pieton_autre', 0.00151724756744103),\n",
       " ('infrastructure_autre', 0.0014153576990169902),\n",
       " ('manoeuvre_veh_11', 0.0013279083800190276),\n",
       " ('manoeuvre_veh_12', 0.0012840550861797225),\n",
       " ('num_veh_autre', 0.0012428304234483138),\n",
       " ('loc_pieton_4', 0.0012279827445063755),\n",
       " ('num_veh_D01', 0.0010976579355604574),\n",
       " ('type_circu_4', 0.0010207358607370659),\n",
       " ('intersection_7', 0.000988204503293479),\n",
       " ('intersection_autre', 0.0009820513298230606),\n",
       " ('infrastructure_6', 0.000975881813489945),\n",
       " ('infrastructure_4', 0.0009531364917100336),\n",
       " ('pieton_seul_3', 0.0004405956407383177)]"
      ]
     },
     "execution_count": 13,
     "metadata": {},
     "output_type": "execute_result"
    }
   ],
   "source": [
    "[(X.columns[i], brf1.feature_importances_[i]) for i in np.argsort(brf1.feature_importances_)[::-1]]"
   ]
  },
  {
   "cell_type": "code",
   "execution_count": 18,
   "metadata": {},
   "outputs": [
    {
     "data": {
      "text/plain": [
       "0.5832251164922466"
      ]
     },
     "execution_count": 18,
     "metadata": {},
     "output_type": "execute_result"
    }
   ],
   "source": [
    "y_pred_test = brf1.predict(X_test)\n",
    "(y_test == y_pred_test).mean()"
   ]
  },
  {
   "cell_type": "code",
   "execution_count": 17,
   "metadata": {},
   "outputs": [
    {
     "ename": "KeyboardInterrupt",
     "evalue": "",
     "output_type": "error",
     "traceback": [
      "\u001b[1;31m-----------------------------------------------------------------\u001b[0m",
      "\u001b[1;31mKeyboardInterrupt\u001b[0m               Traceback (most recent call last)",
      "\u001b[1;32m<ipython-input-17-b12f4cf620fb>\u001b[0m in \u001b[0;36m<module>\u001b[1;34m\u001b[0m\n\u001b[0;32m      1\u001b[0m \u001b[1;32mfrom\u001b[0m \u001b[0msklearn\u001b[0m\u001b[1;33m.\u001b[0m\u001b[0minspection\u001b[0m \u001b[1;32mimport\u001b[0m \u001b[0mpermutation_importance\u001b[0m\u001b[1;33m\u001b[0m\u001b[1;33m\u001b[0m\u001b[0m\n\u001b[0;32m      2\u001b[0m \u001b[1;32mimport\u001b[0m \u001b[0mmatplotlib\u001b[0m\u001b[1;33m.\u001b[0m\u001b[0mpyplot\u001b[0m \u001b[1;32mas\u001b[0m \u001b[0mplt\u001b[0m\u001b[1;33m\u001b[0m\u001b[1;33m\u001b[0m\u001b[0m\n\u001b[1;32m----> 3\u001b[1;33m result = permutation_importance(brf1, X_test, y_test, n_repeats=10,\n\u001b[0m\u001b[0;32m      4\u001b[0m                                 random_state=42, n_jobs=-1)\n\u001b[0;32m      5\u001b[0m \u001b[0msorted_idx\u001b[0m \u001b[1;33m=\u001b[0m \u001b[0mresult\u001b[0m\u001b[1;33m.\u001b[0m\u001b[0mimportances_mean\u001b[0m\u001b[1;33m.\u001b[0m\u001b[0margsort\u001b[0m\u001b[1;33m(\u001b[0m\u001b[1;33m)\u001b[0m\u001b[1;33m\u001b[0m\u001b[1;33m\u001b[0m\u001b[0m\n",
      "\u001b[1;32m~\\Anaconda3\\lib\\site-packages\\sklearn\\utils\\validation.py\u001b[0m in \u001b[0;36minner_f\u001b[1;34m(*args, **kwargs)\u001b[0m\n\u001b[0;32m     61\u001b[0m             \u001b[0mextra_args\u001b[0m \u001b[1;33m=\u001b[0m \u001b[0mlen\u001b[0m\u001b[1;33m(\u001b[0m\u001b[0margs\u001b[0m\u001b[1;33m)\u001b[0m \u001b[1;33m-\u001b[0m \u001b[0mlen\u001b[0m\u001b[1;33m(\u001b[0m\u001b[0mall_args\u001b[0m\u001b[1;33m)\u001b[0m\u001b[1;33m\u001b[0m\u001b[1;33m\u001b[0m\u001b[0m\n\u001b[0;32m     62\u001b[0m             \u001b[1;32mif\u001b[0m \u001b[0mextra_args\u001b[0m \u001b[1;33m<=\u001b[0m \u001b[1;36m0\u001b[0m\u001b[1;33m:\u001b[0m\u001b[1;33m\u001b[0m\u001b[1;33m\u001b[0m\u001b[0m\n\u001b[1;32m---> 63\u001b[1;33m                 \u001b[1;32mreturn\u001b[0m \u001b[0mf\u001b[0m\u001b[1;33m(\u001b[0m\u001b[1;33m*\u001b[0m\u001b[0margs\u001b[0m\u001b[1;33m,\u001b[0m \u001b[1;33m**\u001b[0m\u001b[0mkwargs\u001b[0m\u001b[1;33m)\u001b[0m\u001b[1;33m\u001b[0m\u001b[1;33m\u001b[0m\u001b[0m\n\u001b[0m\u001b[0;32m     64\u001b[0m \u001b[1;33m\u001b[0m\u001b[0m\n\u001b[0;32m     65\u001b[0m             \u001b[1;31m# extra_args > 0\u001b[0m\u001b[1;33m\u001b[0m\u001b[1;33m\u001b[0m\u001b[1;33m\u001b[0m\u001b[0m\n",
      "\u001b[1;32m~\\Anaconda3\\lib\\site-packages\\sklearn\\inspection\\_permutation_importance.py\u001b[0m in \u001b[0;36mpermutation_importance\u001b[1;34m(estimator, X, y, scoring, n_repeats, n_jobs, random_state, sample_weight)\u001b[0m\n\u001b[0;32m    147\u001b[0m     \u001b[0mbaseline_score\u001b[0m \u001b[1;33m=\u001b[0m \u001b[0m_weights_scorer\u001b[0m\u001b[1;33m(\u001b[0m\u001b[0mscorer\u001b[0m\u001b[1;33m,\u001b[0m \u001b[0mestimator\u001b[0m\u001b[1;33m,\u001b[0m \u001b[0mX\u001b[0m\u001b[1;33m,\u001b[0m \u001b[0my\u001b[0m\u001b[1;33m,\u001b[0m \u001b[0msample_weight\u001b[0m\u001b[1;33m)\u001b[0m\u001b[1;33m\u001b[0m\u001b[1;33m\u001b[0m\u001b[0m\n\u001b[0;32m    148\u001b[0m \u001b[1;33m\u001b[0m\u001b[0m\n\u001b[1;32m--> 149\u001b[1;33m     scores = Parallel(n_jobs=n_jobs)(delayed(_calculate_permutation_scores)(\n\u001b[0m\u001b[0;32m    150\u001b[0m         \u001b[0mestimator\u001b[0m\u001b[1;33m,\u001b[0m \u001b[0mX\u001b[0m\u001b[1;33m,\u001b[0m \u001b[0my\u001b[0m\u001b[1;33m,\u001b[0m \u001b[0msample_weight\u001b[0m\u001b[1;33m,\u001b[0m \u001b[0mcol_idx\u001b[0m\u001b[1;33m,\u001b[0m \u001b[0mrandom_seed\u001b[0m\u001b[1;33m,\u001b[0m \u001b[0mn_repeats\u001b[0m\u001b[1;33m,\u001b[0m \u001b[0mscorer\u001b[0m\u001b[1;33m\u001b[0m\u001b[1;33m\u001b[0m\u001b[0m\n\u001b[0;32m    151\u001b[0m     ) for col_idx in range(X.shape[1]))\n",
      "\u001b[1;32m~\\Anaconda3\\lib\\site-packages\\joblib\\parallel.py\u001b[0m in \u001b[0;36m__call__\u001b[1;34m(self, iterable)\u001b[0m\n\u001b[0;32m   1059\u001b[0m \u001b[1;33m\u001b[0m\u001b[0m\n\u001b[0;32m   1060\u001b[0m             \u001b[1;32mwith\u001b[0m \u001b[0mself\u001b[0m\u001b[1;33m.\u001b[0m\u001b[0m_backend\u001b[0m\u001b[1;33m.\u001b[0m\u001b[0mretrieval_context\u001b[0m\u001b[1;33m(\u001b[0m\u001b[1;33m)\u001b[0m\u001b[1;33m:\u001b[0m\u001b[1;33m\u001b[0m\u001b[1;33m\u001b[0m\u001b[0m\n\u001b[1;32m-> 1061\u001b[1;33m                 \u001b[0mself\u001b[0m\u001b[1;33m.\u001b[0m\u001b[0mretrieve\u001b[0m\u001b[1;33m(\u001b[0m\u001b[1;33m)\u001b[0m\u001b[1;33m\u001b[0m\u001b[1;33m\u001b[0m\u001b[0m\n\u001b[0m\u001b[0;32m   1062\u001b[0m             \u001b[1;31m# Make sure that we get a last message telling us we are done\u001b[0m\u001b[1;33m\u001b[0m\u001b[1;33m\u001b[0m\u001b[1;33m\u001b[0m\u001b[0m\n\u001b[0;32m   1063\u001b[0m             \u001b[0melapsed_time\u001b[0m \u001b[1;33m=\u001b[0m \u001b[0mtime\u001b[0m\u001b[1;33m.\u001b[0m\u001b[0mtime\u001b[0m\u001b[1;33m(\u001b[0m\u001b[1;33m)\u001b[0m \u001b[1;33m-\u001b[0m \u001b[0mself\u001b[0m\u001b[1;33m.\u001b[0m\u001b[0m_start_time\u001b[0m\u001b[1;33m\u001b[0m\u001b[1;33m\u001b[0m\u001b[0m\n",
      "\u001b[1;32m~\\Anaconda3\\lib\\site-packages\\joblib\\parallel.py\u001b[0m in \u001b[0;36mretrieve\u001b[1;34m(self)\u001b[0m\n\u001b[0;32m    938\u001b[0m             \u001b[1;32mtry\u001b[0m\u001b[1;33m:\u001b[0m\u001b[1;33m\u001b[0m\u001b[1;33m\u001b[0m\u001b[0m\n\u001b[0;32m    939\u001b[0m                 \u001b[1;32mif\u001b[0m \u001b[0mgetattr\u001b[0m\u001b[1;33m(\u001b[0m\u001b[0mself\u001b[0m\u001b[1;33m.\u001b[0m\u001b[0m_backend\u001b[0m\u001b[1;33m,\u001b[0m \u001b[1;34m'supports_timeout'\u001b[0m\u001b[1;33m,\u001b[0m \u001b[1;32mFalse\u001b[0m\u001b[1;33m)\u001b[0m\u001b[1;33m:\u001b[0m\u001b[1;33m\u001b[0m\u001b[1;33m\u001b[0m\u001b[0m\n\u001b[1;32m--> 940\u001b[1;33m                     \u001b[0mself\u001b[0m\u001b[1;33m.\u001b[0m\u001b[0m_output\u001b[0m\u001b[1;33m.\u001b[0m\u001b[0mextend\u001b[0m\u001b[1;33m(\u001b[0m\u001b[0mjob\u001b[0m\u001b[1;33m.\u001b[0m\u001b[0mget\u001b[0m\u001b[1;33m(\u001b[0m\u001b[0mtimeout\u001b[0m\u001b[1;33m=\u001b[0m\u001b[0mself\u001b[0m\u001b[1;33m.\u001b[0m\u001b[0mtimeout\u001b[0m\u001b[1;33m)\u001b[0m\u001b[1;33m)\u001b[0m\u001b[1;33m\u001b[0m\u001b[1;33m\u001b[0m\u001b[0m\n\u001b[0m\u001b[0;32m    941\u001b[0m                 \u001b[1;32melse\u001b[0m\u001b[1;33m:\u001b[0m\u001b[1;33m\u001b[0m\u001b[1;33m\u001b[0m\u001b[0m\n\u001b[0;32m    942\u001b[0m                     \u001b[0mself\u001b[0m\u001b[1;33m.\u001b[0m\u001b[0m_output\u001b[0m\u001b[1;33m.\u001b[0m\u001b[0mextend\u001b[0m\u001b[1;33m(\u001b[0m\u001b[0mjob\u001b[0m\u001b[1;33m.\u001b[0m\u001b[0mget\u001b[0m\u001b[1;33m(\u001b[0m\u001b[1;33m)\u001b[0m\u001b[1;33m)\u001b[0m\u001b[1;33m\u001b[0m\u001b[1;33m\u001b[0m\u001b[0m\n",
      "\u001b[1;32m~\\Anaconda3\\lib\\site-packages\\joblib\\_parallel_backends.py\u001b[0m in \u001b[0;36mwrap_future_result\u001b[1;34m(future, timeout)\u001b[0m\n\u001b[0;32m    540\u001b[0m         AsyncResults.get from multiprocessing.\"\"\"\n\u001b[0;32m    541\u001b[0m         \u001b[1;32mtry\u001b[0m\u001b[1;33m:\u001b[0m\u001b[1;33m\u001b[0m\u001b[1;33m\u001b[0m\u001b[0m\n\u001b[1;32m--> 542\u001b[1;33m             \u001b[1;32mreturn\u001b[0m \u001b[0mfuture\u001b[0m\u001b[1;33m.\u001b[0m\u001b[0mresult\u001b[0m\u001b[1;33m(\u001b[0m\u001b[0mtimeout\u001b[0m\u001b[1;33m=\u001b[0m\u001b[0mtimeout\u001b[0m\u001b[1;33m)\u001b[0m\u001b[1;33m\u001b[0m\u001b[1;33m\u001b[0m\u001b[0m\n\u001b[0m\u001b[0;32m    543\u001b[0m         \u001b[1;32mexcept\u001b[0m \u001b[0mCfTimeoutError\u001b[0m \u001b[1;32mas\u001b[0m \u001b[0me\u001b[0m\u001b[1;33m:\u001b[0m\u001b[1;33m\u001b[0m\u001b[1;33m\u001b[0m\u001b[0m\n\u001b[0;32m    544\u001b[0m             \u001b[1;32mraise\u001b[0m \u001b[0mTimeoutError\u001b[0m \u001b[1;32mfrom\u001b[0m \u001b[0me\u001b[0m\u001b[1;33m\u001b[0m\u001b[1;33m\u001b[0m\u001b[0m\n",
      "\u001b[1;32m~\\Anaconda3\\lib\\concurrent\\futures\\_base.py\u001b[0m in \u001b[0;36mresult\u001b[1;34m(self, timeout)\u001b[0m\n\u001b[0;32m    432\u001b[0m                 \u001b[1;32mreturn\u001b[0m \u001b[0mself\u001b[0m\u001b[1;33m.\u001b[0m\u001b[0m__get_result\u001b[0m\u001b[1;33m(\u001b[0m\u001b[1;33m)\u001b[0m\u001b[1;33m\u001b[0m\u001b[1;33m\u001b[0m\u001b[0m\n\u001b[0;32m    433\u001b[0m \u001b[1;33m\u001b[0m\u001b[0m\n\u001b[1;32m--> 434\u001b[1;33m             \u001b[0mself\u001b[0m\u001b[1;33m.\u001b[0m\u001b[0m_condition\u001b[0m\u001b[1;33m.\u001b[0m\u001b[0mwait\u001b[0m\u001b[1;33m(\u001b[0m\u001b[0mtimeout\u001b[0m\u001b[1;33m)\u001b[0m\u001b[1;33m\u001b[0m\u001b[1;33m\u001b[0m\u001b[0m\n\u001b[0m\u001b[0;32m    435\u001b[0m \u001b[1;33m\u001b[0m\u001b[0m\n\u001b[0;32m    436\u001b[0m             \u001b[1;32mif\u001b[0m \u001b[0mself\u001b[0m\u001b[1;33m.\u001b[0m\u001b[0m_state\u001b[0m \u001b[1;32min\u001b[0m \u001b[1;33m[\u001b[0m\u001b[0mCANCELLED\u001b[0m\u001b[1;33m,\u001b[0m \u001b[0mCANCELLED_AND_NOTIFIED\u001b[0m\u001b[1;33m]\u001b[0m\u001b[1;33m:\u001b[0m\u001b[1;33m\u001b[0m\u001b[1;33m\u001b[0m\u001b[0m\n",
      "\u001b[1;32m~\\Anaconda3\\lib\\threading.py\u001b[0m in \u001b[0;36mwait\u001b[1;34m(self, timeout)\u001b[0m\n\u001b[0;32m    300\u001b[0m         \u001b[1;32mtry\u001b[0m\u001b[1;33m:\u001b[0m    \u001b[1;31m# restore state no matter what (e.g., KeyboardInterrupt)\u001b[0m\u001b[1;33m\u001b[0m\u001b[1;33m\u001b[0m\u001b[0m\n\u001b[0;32m    301\u001b[0m             \u001b[1;32mif\u001b[0m \u001b[0mtimeout\u001b[0m \u001b[1;32mis\u001b[0m \u001b[1;32mNone\u001b[0m\u001b[1;33m:\u001b[0m\u001b[1;33m\u001b[0m\u001b[1;33m\u001b[0m\u001b[0m\n\u001b[1;32m--> 302\u001b[1;33m                 \u001b[0mwaiter\u001b[0m\u001b[1;33m.\u001b[0m\u001b[0macquire\u001b[0m\u001b[1;33m(\u001b[0m\u001b[1;33m)\u001b[0m\u001b[1;33m\u001b[0m\u001b[1;33m\u001b[0m\u001b[0m\n\u001b[0m\u001b[0;32m    303\u001b[0m                 \u001b[0mgotit\u001b[0m \u001b[1;33m=\u001b[0m \u001b[1;32mTrue\u001b[0m\u001b[1;33m\u001b[0m\u001b[1;33m\u001b[0m\u001b[0m\n\u001b[0;32m    304\u001b[0m             \u001b[1;32melse\u001b[0m\u001b[1;33m:\u001b[0m\u001b[1;33m\u001b[0m\u001b[1;33m\u001b[0m\u001b[0m\n",
      "\u001b[1;31mKeyboardInterrupt\u001b[0m: "
     ]
    }
   ],
   "source": [
    "from sklearn.inspection import permutation_importance\n",
    "import matplotlib.pyplot as plt\n",
    "result = permutation_importance(brf1, X_test, y_test, n_repeats=10,\n",
    "                                random_state=42, n_jobs=-1)\n",
    "sorted_idx = result.importances_mean.argsort()\n",
    "\n",
    "fig, ax = plt.subplots()\n",
    "ax.boxplot(result.importances[sorted_idx].T,\n",
    "           vert=False, labels=X.columns[sorted_idx])\n",
    "ax.set_title(\"Permutation Importances (val set)\")\n",
    "fig.tight_layout()\n",
    "plt.show()"
   ]
  },
  {
   "cell_type": "code",
   "execution_count": 3,
   "metadata": {},
   "outputs": [
    {
     "ename": "NameError",
     "evalue": "name 'X_train' is not defined",
     "output_type": "error",
     "traceback": [
      "\u001b[1;31m-----------------------------------------------------------------\u001b[0m",
      "\u001b[1;31mNameError\u001b[0m                       Traceback (most recent call last)",
      "\u001b[1;32m<ipython-input-3-c97f9b17a8ea>\u001b[0m in \u001b[0;36m<module>\u001b[1;34m\u001b[0m\n\u001b[1;32m----> 1\u001b[1;33m \u001b[0mX_train\u001b[0m\u001b[1;33m,\u001b[0m \u001b[0mX_val\u001b[0m\u001b[1;33m,\u001b[0m \u001b[0my_train\u001b[0m\u001b[1;33m,\u001b[0m \u001b[0my_val\u001b[0m\u001b[1;33m=\u001b[0m \u001b[0mtrain_test_split\u001b[0m\u001b[1;33m(\u001b[0m\u001b[0mX_train\u001b[0m\u001b[1;33m,\u001b[0m \u001b[0my_train\u001b[0m\u001b[1;33m,\u001b[0m \u001b[0mtest_size\u001b[0m\u001b[1;33m=\u001b[0m\u001b[1;36m0.1\u001b[0m\u001b[1;33m)\u001b[0m\u001b[1;33m\u001b[0m\u001b[1;33m\u001b[0m\u001b[0m\n\u001b[0m",
      "\u001b[1;31mNameError\u001b[0m: name 'X_train' is not defined"
     ]
    }
   ],
   "source": [
    "X_train, X_val, y_train, y_val= train_test_split(X_train, y_train, test_size=0.1)"
   ]
  },
  {
   "cell_type": "code",
   "execution_count": 11,
   "metadata": {},
   "outputs": [
    {
     "data": {
      "text/plain": [
       "BalancedRandomForestClassifier()"
      ]
     },
     "execution_count": 11,
     "metadata": {},
     "output_type": "execute_result"
    }
   ],
   "source": [
    "brf1.fit(X_train, y_train)"
   ]
  },
  {
   "cell_type": "code",
   "execution_count": 12,
   "metadata": {},
   "outputs": [],
   "source": [
    "y_pred_val = brf1.predict(X_val)"
   ]
  },
  {
   "cell_type": "code",
   "execution_count": 13,
   "metadata": {},
   "outputs": [
    {
     "data": {
      "text/plain": [
       "0.5601577149423805"
      ]
     },
     "execution_count": 13,
     "metadata": {},
     "output_type": "execute_result"
    }
   ],
   "source": [
    "balanced_accuracy_score(y_val, y_pred_val)"
   ]
  },
  {
   "cell_type": "code",
   "execution_count": 14,
   "metadata": {},
   "outputs": [],
   "source": [
    "from sklearn.metrics import classification_report"
   ]
  },
  {
   "cell_type": "code",
   "execution_count": 15,
   "metadata": {},
   "outputs": [
    {
     "name": "stdout",
     "output_type": "stream",
     "text": [
      "              precision    recall  f1-score   support\n",
      "\n",
      "           1       0.75      0.77      0.76      4964\n",
      "           2       0.11      0.64      0.19       301\n",
      "           3       0.37      0.36      0.36      1833\n",
      "           4       0.70      0.47      0.56      4683\n",
      "\n",
      "    accuracy                           0.58     11781\n",
      "   macro avg       0.48      0.56      0.47     11781\n",
      "weighted avg       0.65      0.58      0.61     11781\n",
      "\n"
     ]
    }
   ],
   "source": [
    "print(classification_report(y_val, y_pred_val))"
   ]
  },
  {
   "cell_type": "code",
   "execution_count": 16,
   "metadata": {},
   "outputs": [],
   "source": [
    "from sklearn.metrics import confusion_matrix"
   ]
  },
  {
   "cell_type": "code",
   "execution_count": 17,
   "metadata": {},
   "outputs": [
    {
     "data": {
      "text/plain": [
       "array([[0.7719581 , 0.06466559, 0.04774376, 0.11563255],\n",
       "       [0.05980066, 0.63787375, 0.24252492, 0.05980066],\n",
       "       [0.09056192, 0.34969995, 0.35951991, 0.20021822],\n",
       "       [0.23361093, 0.11787316, 0.17723681, 0.47127909]])"
      ]
     },
     "execution_count": 17,
     "metadata": {},
     "output_type": "execute_result"
    }
   ],
   "source": [
    "confusion_matrix(y_val, y_pred_val, normalize=\"true\")"
   ]
  },
  {
   "cell_type": "code",
   "execution_count": 18,
   "metadata": {},
   "outputs": [
    {
     "data": {
      "text/plain": [
       "(11781,)"
      ]
     },
     "execution_count": 18,
     "metadata": {},
     "output_type": "execute_result"
    }
   ],
   "source": [
    "y_val.shape"
   ]
  },
  {
   "cell_type": "code",
   "execution_count": 19,
   "metadata": {},
   "outputs": [
    {
     "data": {
      "text/plain": [
       "array([  641,  1032,  1271,  2313,  3549,  3945,  4479,  4776,  5345,\n",
       "        6380,  7103,  7295,  7372,  8209,  9613, 10003, 10257, 10673],\n",
       "      dtype=int64)"
      ]
     },
     "execution_count": 19,
     "metadata": {},
     "output_type": "execute_result"
    }
   ],
   "source": [
    "np.intersect1d(np.where(y_val == 2)[0], np.where(y_pred_val == 1)[0])"
   ]
  },
  {
   "cell_type": "code",
   "execution_count": 20,
   "metadata": {},
   "outputs": [],
   "source": [
    "df = pd.read_csv('./data/victime_clean_forTableau.csv')"
   ]
  },
  {
   "cell_type": "code",
   "execution_count": 21,
   "metadata": {},
   "outputs": [
    {
     "data": {
      "text/plain": [
       "mois                              11\n",
       "lum                                5\n",
       "dep                    Ile de france\n",
       "agglo                              2\n",
       "intersection                   IRLVT\n",
       "meteo                              2\n",
       "collision                          2\n",
       "type_route                         3\n",
       "type_circu                         2\n",
       "nb_voies                           4\n",
       "declivite                          1\n",
       "rectitude                          1\n",
       "surface                            2\n",
       "infrastructure                 IRLVT\n",
       "situ_acc                           1\n",
       "vitesse_autorisee                 50\n",
       "sens_circu                         2\n",
       "type_veh                           7\n",
       "obst_fixe                      IRLVT\n",
       "obst_mobile                        2\n",
       "choc                               1\n",
       "manoeuvre_veh                      1\n",
       "num_veh                          A01\n",
       "place_veh                          1\n",
       "type_usager                        1\n",
       "sexe                               1\n",
       "an_nais              Moins de 35 ans\n",
       "loc_pieton                     IRLVT\n",
       "pieton_seul                    IRLVT\n",
       "grav                               1\n",
       "Name: 2019, dtype: object"
      ]
     },
     "execution_count": 21,
     "metadata": {},
     "output_type": "execute_result"
    }
   ],
   "source": [
    "df.iloc[641]"
   ]
  },
  {
   "cell_type": "code",
   "execution_count": 22,
   "metadata": {},
   "outputs": [
    {
     "data": {
      "text/plain": [
       "mois                             6\n",
       "lum                              1\n",
       "dep                  Ile de france\n",
       "agglo                            2\n",
       "intersection                     2\n",
       "meteo                            1\n",
       "collision                        6\n",
       "type_route                       3\n",
       "type_circu                       3\n",
       "nb_voies                         4\n",
       "declivite                        1\n",
       "rectitude                        1\n",
       "surface                          1\n",
       "infrastructure                   5\n",
       "situ_acc                         1\n",
       "vitesse_autorisee               70\n",
       "sens_circu                       1\n",
       "type_veh                         7\n",
       "obst_fixe                    IRLVT\n",
       "obst_mobile                      2\n",
       "choc                             4\n",
       "manoeuvre_veh                    1\n",
       "num_veh                        B01\n",
       "place_veh                        1\n",
       "type_usager                      1\n",
       "sexe                             2\n",
       "an_nais                  36-75 ans\n",
       "loc_pieton                   IRLVT\n",
       "pieton_seul                  IRLVT\n",
       "grav                             4\n",
       "Name: 3324, dtype: object"
      ]
     },
     "execution_count": 22,
     "metadata": {},
     "output_type": "execute_result"
    }
   ],
   "source": [
    "df.iloc[1032]"
   ]
  },
  {
   "cell_type": "code",
   "execution_count": null,
   "metadata": {},
   "outputs": [],
   "source": []
  },
  {
   "cell_type": "code",
   "execution_count": null,
   "metadata": {},
   "outputs": [],
   "source": []
  },
  {
   "cell_type": "code",
   "execution_count": 23,
   "metadata": {},
   "outputs": [],
   "source": [
    "# Modèle : BALANCED BAGGING\n",
    "bbc1 = BalancedBaggingClassifier()"
   ]
  },
  {
   "cell_type": "code",
   "execution_count": 24,
   "metadata": {},
   "outputs": [
    {
     "name": "stdout",
     "output_type": "stream",
     "text": [
      "Mean Balanced Accuracy Score: 0.523\n",
      "Standard deviation: 0.00579\n"
     ]
    }
   ],
   "source": [
    "bbc1_scores = cross_val_score(bbc1, X_train, y_train, scoring='balanced_accuracy', cv=10)\n",
    "display_scores(bbc1_scores)"
   ]
  },
  {
   "cell_type": "code",
   "execution_count": 25,
   "metadata": {},
   "outputs": [
    {
     "data": {
      "text/plain": [
       "RUSBoostClassifier()"
      ]
     },
     "execution_count": 25,
     "metadata": {},
     "output_type": "execute_result"
    }
   ],
   "source": [
    "# Modèle : RUS BOOST\n",
    "rusboost1 = RUSBoostClassifier()\n",
    "rusboost1.fit(X_train, y_train) "
   ]
  },
  {
   "cell_type": "code",
   "execution_count": 26,
   "metadata": {},
   "outputs": [
    {
     "name": "stdout",
     "output_type": "stream",
     "text": [
      "Mean Balanced Accuracy Score: 0.482\n",
      "Standard deviation: 0.00973\n"
     ]
    }
   ],
   "source": [
    "rusboost1_scores = cross_val_score(rusboost1, X_train, y_train, scoring='balanced_accuracy', cv=10)\n",
    "display_scores(rusboost1_scores)"
   ]
  },
  {
   "cell_type": "code",
   "execution_count": 27,
   "metadata": {},
   "outputs": [],
   "source": [
    "# Modèle : EASY ENSEMBLE\n",
    "ee1 = EasyEnsembleClassifier()"
   ]
  },
  {
   "cell_type": "code",
   "execution_count": 28,
   "metadata": {},
   "outputs": [
    {
     "name": "stdout",
     "output_type": "stream",
     "text": [
      "Mean Balanced Accuracy Score: 0.528\n",
      "Standard deviation: 0.0028\n"
     ]
    }
   ],
   "source": [
    "ee1_scores = cross_val_score(ee1, X_train, y_train, scoring='balanced_accuracy', cv=10)\n",
    "display_scores(ee1_scores)"
   ]
  },
  {
   "cell_type": "markdown",
   "metadata": {},
   "source": [
    "#### RESUME"
   ]
  },
  {
   "cell_type": "code",
   "execution_count": 29,
   "metadata": {},
   "outputs": [
    {
     "data": {
      "text/html": [
       "<style  type=\"text/css\" >\n",
       "</style><table id=\"T_c0d6adc0_f79f_11eb_91e2_b9cc9fbfc9f6\" ><thead>    <tr>        <th class=\"col_heading level0 col0\" >Model Name</th>        <th class=\"col_heading level0 col1\" >Balanced Accuracy on Train</th>    </tr></thead><tbody>\n",
       "                <tr>\n",
       "                                <td id=\"T_c0d6adc0_f79f_11eb_91e2_b9cc9fbfc9f6row0_col0\" class=\"data row0 col0\" >BalancedRandomForestClassifier</td>\n",
       "                        <td id=\"T_c0d6adc0_f79f_11eb_91e2_b9cc9fbfc9f6row0_col1\" class=\"data row0 col1\" >0.559266</td>\n",
       "            </tr>\n",
       "            <tr>\n",
       "                                <td id=\"T_c0d6adc0_f79f_11eb_91e2_b9cc9fbfc9f6row1_col0\" class=\"data row1 col0\" >EasyEnsembleClassifier</td>\n",
       "                        <td id=\"T_c0d6adc0_f79f_11eb_91e2_b9cc9fbfc9f6row1_col1\" class=\"data row1 col1\" >0.527648</td>\n",
       "            </tr>\n",
       "            <tr>\n",
       "                                <td id=\"T_c0d6adc0_f79f_11eb_91e2_b9cc9fbfc9f6row2_col0\" class=\"data row2 col0\" >BalancedBaggingClassifier</td>\n",
       "                        <td id=\"T_c0d6adc0_f79f_11eb_91e2_b9cc9fbfc9f6row2_col1\" class=\"data row2 col1\" >0.522711</td>\n",
       "            </tr>\n",
       "            <tr>\n",
       "                                <td id=\"T_c0d6adc0_f79f_11eb_91e2_b9cc9fbfc9f6row3_col0\" class=\"data row3 col0\" >RUSBoostClassifier</td>\n",
       "                        <td id=\"T_c0d6adc0_f79f_11eb_91e2_b9cc9fbfc9f6row3_col1\" class=\"data row3 col1\" >0.482152</td>\n",
       "            </tr>\n",
       "    </tbody></table>"
      ],
      "text/plain": [
       "<pandas.io.formats.style.Styler at 0x1b4c4d272b0>"
      ]
     },
     "execution_count": 29,
     "metadata": {},
     "output_type": "execute_result"
    }
   ],
   "source": [
    "scordict = { \"Model Name\":[\"BalancedRandomForestClassifier\", 'BalancedBaggingClassifier', 'RUSBoostClassifier', 'EasyEnsembleClassifier'],\n",
    "            \"Balanced Accuracy on Train\": [brf1_scores.mean(), bbc1_scores.mean(), rusboost1_scores.mean(), ee1_scores.mean()]\n",
    "           }\n",
    "df_scores = pd.DataFrame(scordict)\n",
    "df_scores.sort_values(by='Mean Cross-Val Balanced Accuracy',ascending=False).style.hide_index()"
   ]
  },
  {
   "cell_type": "markdown",
   "metadata": {},
   "source": [
    "#### CONCLUSION\n",
    "Avec un score de 55% sur le jeu d'entraînement, le modèle \"Balanced Forest Classifier\" est le plus prometteur, mais reste insuffisant.\n",
    "\n",
    "Pistes d'amélioration : undersampling des 2 classes majoritaires, rajout de features pour complexifier le jeu d'apprentissage, sélection d'autres algorithmes plus complexes."
   ]
  },
  {
   "cell_type": "code",
   "execution_count": 30,
   "metadata": {},
   "outputs": [
    {
     "name": "stdout",
     "output_type": "stream",
     "text": [
      "finished!\n"
     ]
    }
   ],
   "source": [
    "print('finished!')"
   ]
  }
 ],
 "metadata": {
  "kernelspec": {
   "display_name": "Python 3",
   "language": "python",
   "name": "python3"
  },
  "language_info": {
   "codemirror_mode": {
    "name": "ipython",
    "version": 3
   },
   "file_extension": ".py",
   "mimetype": "text/x-python",
   "name": "python",
   "nbconvert_exporter": "python",
   "pygments_lexer": "ipython3",
   "version": "3.8.5"
  }
 },
 "nbformat": 4,
 "nbformat_minor": 4
}
