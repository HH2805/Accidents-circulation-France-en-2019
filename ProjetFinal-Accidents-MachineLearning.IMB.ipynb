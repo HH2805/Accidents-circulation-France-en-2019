{
 "cells": [
  {
   "cell_type": "markdown",
   "metadata": {},
   "source": [
    "## Final Project - Road Accidents in France in 2019\n",
    "## N°1 / SKLEARN"
   ]
  },
  {
   "cell_type": "code",
   "execution_count": null,
   "metadata": {},
   "outputs": [],
   "source": [
    "import os\n",
    "import pandas as pd\n",
    "import numpy as np\n",
    "import matplotlib.pyplot as plt\n",
    "%matplotlib inline \n",
    "import seaborn as sns\n",
    "import joblib\n",
    "\n",
    "import sklearn\n",
    "from sklearn import svm\n",
    "from sklearn.svm import SVC\n",
    "from sklearn.linear_model import LogisticRegression, Perceptron\n",
    "from sklearn.ensemble import RandomForestClassifier, GradientBoostingClassifier, ExtraTreesClassifier\n",
    "from sklearn.model_selection import train_test_split, GridSearchCV, cross_val_score\n",
    "from sklearn.neural_network import MLPClassifier\n",
    "from sklearn.metrics import balanced_accuracy_score\n",
    "\n",
    "from imblearn.ensemble import BalancedRandomForestClassifier, BalancedBaggingClassifier, RUSBoostClassifier, EasyEnsembleClassifier\n"
   ]
  },
  {
   "cell_type": "markdown",
   "metadata": {},
   "source": [
    "### Import des fichiers de données"
   ]
  },
  {
   "cell_type": "code",
   "execution_count": 2,
   "metadata": {},
   "outputs": [],
   "source": [
    "acc = pd.read_csv('../data/victime_clean_dummies.csv')"
   ]
  },
  {
   "cell_type": "code",
   "execution_count": 3,
   "metadata": {},
   "outputs": [
    {
     "data": {
      "text/plain": [
       "(130901, 141)"
      ]
     },
     "execution_count": 3,
     "metadata": {},
     "output_type": "execute_result"
    }
   ],
   "source": [
    "acc.shape"
   ]
  },
  {
   "cell_type": "markdown",
   "metadata": {},
   "source": [
    "## Machine Learning"
   ]
  },
  {
   "cell_type": "code",
   "execution_count": 4,
   "metadata": {},
   "outputs": [],
   "source": [
    "from sklearn.model_selection import train_test_split\n",
    "y = acc.pop('grav')\n",
    "X = acc"
   ]
  },
  {
   "cell_type": "markdown",
   "metadata": {},
   "source": [
    "#### Choix et Entraînement de divers modèles initialisés par défaut"
   ]
  },
  {
   "cell_type": "markdown",
   "metadata": {},
   "source": [
    "Pour évaluer nos modèles, nous utiliserons le score de Balanced Accuracy (\"exactitude pondérée\") plutôt que le score d'Accuracy, car nos classes cibles sont de tailles respectives déséquilibrées. "
   ]
  },
  {
   "cell_type": "markdown",
   "metadata": {},
   "source": [
    "On essaie plusieurs modèles de classification, initialisés par défaut.\n",
    "https://scikit-learn.org/stable/modules/multiclass.html\n",
    "Dans un premier temps, on essaie des classifieurs intrinsèquement multi-classes : RF, ETC, GB. "
   ]
  },
  {
   "cell_type": "code",
   "execution_count": 5,
   "metadata": {},
   "outputs": [
    {
     "data": {
      "text/plain": [
       "RandomForestClassifier()"
      ]
     },
     "execution_count": 5,
     "metadata": {},
     "output_type": "execute_result"
    }
   ],
   "source": [
    "#Premier modèle : RANDOM FOREST\n",
    "X_train, X_test, y_train, y_test = train_test_split(X, y, test_size=0.2)\n",
    "rf1 = RandomForestClassifier()\n",
    "# On lance l'apprentissage :\n",
    "rf1.fit(X_train, y_train)"
   ]
  },
  {
   "cell_type": "code",
   "execution_count": 6,
   "metadata": {},
   "outputs": [
    {
     "name": "stdout",
     "output_type": "stream",
     "text": [
      "Final Balanced Accuracy Score on Train Set = 0.997\n"
     ]
    }
   ],
   "source": [
    "rf1_pred_train = rf1.predict(X_train)\n",
    "rf1_train_score = balanced_accuracy_score(y_train, rf1_pred_train)\n",
    "print(\"Final Balanced Accuracy Score on Train Set =\", round(rf1_train_score,3))"
   ]
  },
  {
   "cell_type": "code",
   "execution_count": 7,
   "metadata": {},
   "outputs": [
    {
     "name": "stdout",
     "output_type": "stream",
     "text": [
      "Final Balanced Accuracy Score on Test Set = 0.484\n"
     ]
    }
   ],
   "source": [
    "rf1_pred_test = rf1.predict(X_test)\n",
    "rf1_test_score = balanced_accuracy_score(y_test, rf1_pred_test)\n",
    "print(\"Final Balanced Accuracy Score on Test Set =\", round(rf1_test_score,3))"
   ]
  },
  {
   "cell_type": "code",
   "execution_count": 8,
   "metadata": {},
   "outputs": [
    {
     "data": {
      "text/plain": [
       "ExtraTreesClassifier()"
      ]
     },
     "execution_count": 8,
     "metadata": {},
     "output_type": "execute_result"
    }
   ],
   "source": [
    "# Modèle : EXTRA-TREES\n",
    "X_train, X_test, y_train, y_test = train_test_split(X, y, test_size=0.2)\n",
    "etc1 = ExtraTreesClassifier()\n",
    "etc1.fit(X_train, y_train)"
   ]
  },
  {
   "cell_type": "code",
   "execution_count": 9,
   "metadata": {},
   "outputs": [
    {
     "name": "stdout",
     "output_type": "stream",
     "text": [
      "Final Balanced Accuracy Score on Train Set = 0.998\n"
     ]
    }
   ],
   "source": [
    "etc1_pred_train = etc1.predict(X_train)\n",
    "etc1_train_score = balanced_accuracy_score(y_train, etc1_pred_train)\n",
    "print(\"Final Balanced Accuracy Score on Train Set =\", round(etc1_train_score,3))"
   ]
  },
  {
   "cell_type": "code",
   "execution_count": 10,
   "metadata": {},
   "outputs": [
    {
     "name": "stdout",
     "output_type": "stream",
     "text": [
      "Final Balanced Accuracy Score on Test Set = 0.474\n"
     ]
    }
   ],
   "source": [
    "etc1_pred_test = etc1.predict(X_test)\n",
    "etc1_test_score = balanced_accuracy_score(y_test, etc1_pred_test)\n",
    "print(\"Final Balanced Accuracy Score on Test Set =\", round(etc1_test_score,3))"
   ]
  },
  {
   "cell_type": "code",
   "execution_count": 11,
   "metadata": {},
   "outputs": [
    {
     "data": {
      "text/plain": [
       "GradientBoostingClassifier()"
      ]
     },
     "execution_count": 11,
     "metadata": {},
     "output_type": "execute_result"
    }
   ],
   "source": [
    "# Modèle : GRADIENT BOOSTING\n",
    "X_train, X_test, y_train, y_test = train_test_split(X, y, test_size=0.2)\n",
    "gbc1 = GradientBoostingClassifier()\n",
    "gbc1.fit(X_train, y_train)"
   ]
  },
  {
   "cell_type": "code",
   "execution_count": 12,
   "metadata": {},
   "outputs": [
    {
     "name": "stdout",
     "output_type": "stream",
     "text": [
      "Final Balanced Accuracy Score on Train Set = 0.453\n"
     ]
    }
   ],
   "source": [
    "gbc1_pred_train = gbc1.predict(X_train)\n",
    "gbc1_train_score = balanced_accuracy_score(y_train, gbc1_pred_train)\n",
    "print(\"Final Balanced Accuracy Score on Train Set =\", round(gbc1_train_score,3))"
   ]
  },
  {
   "cell_type": "code",
   "execution_count": 13,
   "metadata": {},
   "outputs": [
    {
     "name": "stdout",
     "output_type": "stream",
     "text": [
      "Final Balanced Accuracy Score on Test Set = 0.446\n"
     ]
    }
   ],
   "source": [
    "gbc1_pred_test = gbc1.predict(X_test)\n",
    "gbc1_test_score = balanced_accuracy_score(y_test, gbc1_pred_test)\n",
    "print(\"Final Balanced Accuracy Score on Test Set =\", round(gbc1_test_score,3))"
   ]
  },
  {
   "cell_type": "code",
   "execution_count": 14,
   "metadata": {},
   "outputs": [
    {
     "data": {
      "text/plain": [
       "LogisticRegression(max_iter=10000, multi_class='multinomial')"
      ]
     },
     "execution_count": 14,
     "metadata": {},
     "output_type": "execute_result"
    }
   ],
   "source": [
    "# Modèle : LOGISTIC REGRESSION (MULTI-CLASS)\n",
    "X_train, X_test, y_train, y_test = train_test_split(X, y, test_size=0.2)\n",
    "logreg1 = LogisticRegression(multi_class= \"multinomial\", max_iter=10000)\n",
    "logreg1.fit(X_train, y_train)"
   ]
  },
  {
   "cell_type": "code",
   "execution_count": 15,
   "metadata": {},
   "outputs": [
    {
     "name": "stdout",
     "output_type": "stream",
     "text": [
      "Final Balanced Accuracy Score on Train Set = 0.457\n"
     ]
    }
   ],
   "source": [
    "logreg1_pred_train = logreg1.predict(X_train)\n",
    "logreg1_train_score = balanced_accuracy_score(y_train, logreg1_pred_train)\n",
    "print(\"Final Balanced Accuracy Score on Train Set =\", round(logreg1_train_score,3))"
   ]
  },
  {
   "cell_type": "code",
   "execution_count": 16,
   "metadata": {},
   "outputs": [
    {
     "name": "stdout",
     "output_type": "stream",
     "text": [
      "Final Balanced Accuracy Score on Test Set = 0.458\n"
     ]
    }
   ],
   "source": [
    "logreg1_pred_test = logreg1.predict(X_test)\n",
    "logreg1_test_score = balanced_accuracy_score(y_test, logreg1_pred_test)\n",
    "print(\"Final Balanced Accuracy Score on Test Set =\", round(logreg1_test_score,3))"
   ]
  },
  {
   "cell_type": "code",
   "execution_count": null,
   "metadata": {},
   "outputs": [],
   "source": [
    "# Modèle : MULTI-LAYER PERCEPTRON\n",
    "X_train, X_test, y_train, y_test = train_test_split(X, y, test_size=0.2)\n",
    "mlp = MLPClassifier(()\n",
    "mlp.fit(X_train, y_train)"
   ]
  },
  {
   "cell_type": "code",
   "execution_count": null,
   "metadata": {},
   "outputs": [],
   "source": [
    "mlp_pred_train = mlp.predict(X_train)\n",
    "mlp_train_score = balanced_accuracy_score(y_train, mlp_pred_train)\n",
    "print(\"Final Balanced Accuracy Score on Train Set =\", round(mlp_train_score,3))"
   ]
  },
  {
   "cell_type": "code",
   "execution_count": null,
   "metadata": {},
   "outputs": [],
   "source": [
    "mlp_pred_test = mlp.predict(X_test)\n",
    "mlp_test_score = balanced_accuracy_score(y_test, mlp_pred_test)\n",
    "print(\"Final Balanced Accuracy Score on Test Set =\", round(mlp_test_score,3))"
   ]
  },
  {
   "cell_type": "markdown",
   "metadata": {},
   "source": [
    "Multiclass as One-Vs-One"
   ]
  },
  {
   "cell_type": "code",
   "execution_count": null,
   "metadata": {},
   "outputs": [],
   "source": [
    "# Modèle : SVM SVC\n",
    "X_train, X_test, y_train, y_test = train_test_split(X, y, test_size=0.2)\n",
    "svmsvc = svm.SVC()\n",
    "svmsvc.fit(X_train, y_train)"
   ]
  },
  {
   "cell_type": "code",
   "execution_count": null,
   "metadata": {},
   "outputs": [],
   "source": [
    "svmsvc_pred_train = svmsvc.predict(X_train)\n",
    "svmsvc_train_score = balanced_accuracy_score(y_train, svmsvc_pred_train)\n",
    "print(\"Final Balanced Accuracy Score on Train Set =\", round(svmsvc_train_score,3))"
   ]
  },
  {
   "cell_type": "code",
   "execution_count": null,
   "metadata": {},
   "outputs": [],
   "source": [
    "svmsvc_pred_test = svmsvc.predict(X_test)\n",
    "svmsvc_test_score = balanced_accuracy_score(y_test, svmsvc_pred_test)\n",
    "print(\"Final Balanced Accuracy Score on Test Set =\", round(svmsvc_test_score,3))"
   ]
  },
  {
   "cell_type": "markdown",
   "metadata": {},
   "source": [
    "Multiclass as One-Vs-The-Rest"
   ]
  },
  {
   "cell_type": "code",
   "execution_count": null,
   "metadata": {},
   "outputs": [],
   "source": [
    "# Modèle : Multiclass as One-Vs-The-Rest / PERCEPTRON\n",
    "X_train, X_test, y_train, y_test = train_test_split(X, y, test_size=0.2)\n",
    "pclf = Perceptron(()\n",
    "pclf.fit(X_train, y_train)"
   ]
  },
  {
   "cell_type": "code",
   "execution_count": null,
   "metadata": {},
   "outputs": [],
   "source": [
    "pclf_pred_train = pclf.predict(X_train)\n",
    "pclf_train_score = balanced_accuracy_score(y_train, pclf_pred_train)\n",
    "print(\"Final Balanced Accuracy Score on Train Set =\", round(pclf_train_score,3))"
   ]
  },
  {
   "cell_type": "code",
   "execution_count": null,
   "metadata": {},
   "outputs": [],
   "source": [
    "pclf_pred_test = pclf.predict(X_test)\n",
    "pclf_test_score = balanced_accuracy_score(y_test, pclf_pred_test)\n",
    "print(\"Final Balanced Accuracy Score on Test Set =\", round(pclf_test_score,3))"
   ]
  },
  {
   "cell_type": "markdown",
   "metadata": {},
   "source": [
    "**Conclusions :**\n",
    "Avec un score très élevé sur le train mais inférieur à 50% sur le test, les modèles \"Random Forest\" et \"Extra Trees Classifier\" sont overfit.\n",
    "Avec un score inférieur à 50% sur le jeu d'entraînement, les modèles \"Gradient Boosting\" et \"Logistic Regression Multi-Class\" sont décevants. On est dans un cas d'underfitting."
   ]
  },
  {
   "cell_type": "markdown",
   "metadata": {},
   "source": [
    "Dans un second fichier, on utilisera la solution proposée par le module imblearn.ensemble : des modèles d'ensembles destinés aux classes déséquilibrées."
   ]
  },
  {
   "cell_type": "code",
   "execution_count": null,
   "metadata": {},
   "outputs": [],
   "source": [
    "print('finished! see next file')"
   ]
  },
  {
   "cell_type": "code",
   "execution_count": null,
   "metadata": {},
   "outputs": [],
   "source": []
  }
 ],
 "metadata": {
  "kernelspec": {
   "display_name": "Python 3",
   "language": "python",
   "name": "python3"
  },
  "language_info": {
   "codemirror_mode": {
    "name": "ipython",
    "version": 3
   },
   "file_extension": ".py",
   "mimetype": "text/x-python",
   "name": "python",
   "nbconvert_exporter": "python",
   "pygments_lexer": "ipython3",
   "version": "3.8.5"
  }
 },
 "nbformat": 4,
 "nbformat_minor": 4
}
