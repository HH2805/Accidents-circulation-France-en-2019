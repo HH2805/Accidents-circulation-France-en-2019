{
 "cells": [
  {
   "cell_type": "markdown",
   "metadata": {},
   "source": [
    "# Mini_project  Module 3  Hélène+Orphée (v. Hélène)"
   ]
  },
  {
   "cell_type": "code",
   "execution_count": 1,
   "metadata": {},
   "outputs": [],
   "source": [
    "import os\n",
    "import pandas as pd\n",
    "import numpy as np\n",
    "import matplotlib.pyplot as plt\n",
    "%matplotlib inline \n",
    "import seaborn as sns\n",
    "import sklearn"
   ]
  },
  {
   "cell_type": "markdown",
   "metadata": {},
   "source": [
    "### Import des fichiers de données"
   ]
  },
  {
   "cell_type": "code",
   "execution_count": 2,
   "metadata": {},
   "outputs": [],
   "source": [
    "carac = pd.read_csv(\"./data/carac-2019.csv\",sep=';')\n",
    "lieux = pd.read_csv(\"./data/lieux-2019.csv\",sep=';')\n",
    "veh = pd.read_csv(\"./data/vehicules-2019.csv\",sep=';')\n",
    "vict = pd.read_csv(\"./data/usagers-2019.csv\",sep=';')"
   ]
  },
  {
   "cell_type": "code",
   "execution_count": 3,
   "metadata": {},
   "outputs": [
    {
     "name": "stdout",
     "output_type": "stream",
     "text": [
      "Forme de carac = (58840, 15)\n",
      "Forme de lieux = (58840, 18)\n",
      "Forme de veh = (100710, 11)\n",
      "Forme de vict = (132977, 15)\n"
     ]
    }
   ],
   "source": [
    "print(f'Forme de carac = {carac.shape}')\n",
    "print(f'Forme de lieux = {lieux.shape}')\n",
    "print(f'Forme de veh = {veh.shape}')\n",
    "print(f'Forme de vict = {vict.shape}')"
   ]
  },
  {
   "cell_type": "code",
   "execution_count": 4,
   "metadata": {},
   "outputs": [
    {
     "name": "stdout",
     "output_type": "stream",
     "text": [
      "{'Num_Acc'}\n",
      "{'Num_Acc'}\n",
      "{'Num_Acc'}\n",
      "{'Num_Acc'}\n",
      "{'Num_Acc'}\n",
      "{'Num_Acc'}\n",
      "{'Num_Acc', 'num_veh', 'id_vehicule'}\n"
     ]
    }
   ],
   "source": [
    "print(set(carac.columns).intersection(set(lieux.columns)))\n",
    "print(set(carac.columns).intersection(set(veh.columns)))\n",
    "print(set(carac.columns).intersection(set(vict.columns)))\n",
    "print(set(lieux.columns).intersection(set(veh.columns)))\n",
    "print(set(lieux.columns).intersection(set(vict.columns)))\n",
    "print(set(veh.columns).intersection(set(carac.columns)))\n",
    "print(set(veh.columns).intersection(set(vict.columns)))"
   ]
  },
  {
   "cell_type": "markdown",
   "metadata": {},
   "source": [
    "**Observations**\n",
    "\n",
    "Les 4 fichiers ont en commun la colonne 'NumAcc' (numéro d'accident).\n",
    "\n",
    "Les fichiers 'veh' et 'vict' ont en commun 2 autres colonnes : 'num_veh' (identifiant de véhicule) et 'id_vehicule' (identifiant unique du véhicule). "
   ]
  },
  {
   "cell_type": "code",
   "execution_count": 5,
   "metadata": {},
   "outputs": [
    {
     "name": "stdout",
     "output_type": "stream",
     "text": [
      "'carac' file:\n",
      "Number of NumAcc unique values = 58840\n",
      "Max count by NumAcc unique value = 1\n",
      "Number of rows = 58840\n",
      "\n",
      "'lieux' file:\n",
      "Number of NumAcc unique values = 58840\n",
      "Max count by NumAcc unique value = 1\n",
      "Number of rows = 58840\n",
      "\n",
      "'veh' file:\n",
      "Number of NumAcc unique values = 58840\n",
      "Max count by NumAcc unique value = 12\n",
      "Number of rows = 100710\n",
      "\n",
      "'vict' file:\n",
      "Number of NumAcc unique values = 58840\n",
      "Max count by NumAcc unique value = 33\n",
      "Number of rows = 132977\n",
      "\n"
     ]
    }
   ],
   "source": [
    "print(\"'carac' file:\")\n",
    "print(f\"Number of NumAcc unique values = {carac.Num_Acc.nunique()}\")\n",
    "print(f'Max count by NumAcc unique value = {max(list(carac.Num_Acc.value_counts().values))}')\n",
    "print(f'Number of rows = {len(carac)}')\n",
    "print()\n",
    "print(\"'lieux' file:\")\n",
    "print(f\"Number of NumAcc unique values = {lieux.Num_Acc.nunique()}\")\n",
    "print(f'Max count by NumAcc unique value = {max(list(lieux.Num_Acc.value_counts().values))}')\n",
    "print(f'Number of rows = {len(lieux)}')\n",
    "print()\n",
    "print(\"'veh' file:\")\n",
    "print(f\"Number of NumAcc unique values = {veh.Num_Acc.nunique()}\")\n",
    "print(f'Max count by NumAcc unique value = {max(list(veh.Num_Acc.value_counts().values))}')\n",
    "print(f'Number of rows = {len(veh)}')\n",
    "print()\n",
    "print(\"'vict' file:\")\n",
    "print(f\"Number of NumAcc unique values = {vict.Num_Acc.nunique()}\")\n",
    "print(f'Max count by NumAcc unique value = {max(list(vict.Num_Acc.value_counts().values))}')\n",
    "print(f'Number of rows = {len(vict)}')\n",
    "print()"
   ]
  },
  {
   "cell_type": "markdown",
   "metadata": {},
   "source": [
    "**Observations**\n",
    "\n",
    "A ce stade on peut supposer que : \n",
    "- chaque fichier recense les mêmes 58140 accidents distincts, identifiés par un identifiant unique. \n",
    "- ces 58140 accidents sont survenus chacun dans un lieu distinct (d'où 58140 lieux distincts), ont impliqué un nombre de véhicules plus ou moins grand (de 1 à 12) et occasionné un nombre de victimes plus ou moins grand (de 1 à 33).\n",
    "Pour confirmer ces chiffres, nous devrons au préalable supprimer les éventuelles lignes en double dans chaque fichier."
   ]
  },
  {
   "cell_type": "markdown",
   "metadata": {},
   "source": [
    "### Fusion des fichiers"
   ]
  },
  {
   "cell_type": "markdown",
   "metadata": {},
   "source": [
    "Notre étude porte sur la gravité des accidents pour les victimes, nous souhaitons donc disposer d'un fichier unique qui comptera 1 ligne par victime distincte.\n",
    "Nous fusionnons donc le fichier 'vict' avec les 3 autres en excluant les lignes supplémentaires éventuelles de ces autres fichiers."
   ]
  },
  {
   "cell_type": "code",
   "execution_count": 6,
   "metadata": {},
   "outputs": [],
   "source": [
    "victime = vict.merge(veh,on=['Num_Acc','num_veh','id_vehicule'], how='left').merge(carac,on = 'Num_Acc', how='left').merge(lieux, on=['Num_Acc'], how='left')"
   ]
  },
  {
   "cell_type": "markdown",
   "metadata": {},
   "source": [
    "### Premières observations sur le fichier"
   ]
  },
  {
   "cell_type": "code",
   "execution_count": 7,
   "metadata": {},
   "outputs": [
    {
     "data": {
      "text/plain": [
       "(132977, 54)"
      ]
     },
     "execution_count": 7,
     "metadata": {},
     "output_type": "execute_result"
    }
   ],
   "source": [
    "victime.shape"
   ]
  },
  {
   "cell_type": "code",
   "execution_count": 8,
   "metadata": {},
   "outputs": [
    {
     "data": {
      "text/plain": [
       "101"
      ]
     },
     "execution_count": 8,
     "metadata": {},
     "output_type": "execute_result"
    }
   ],
   "source": [
    "victime.duplicated().sum()"
   ]
  },
  {
   "cell_type": "code",
   "execution_count": 9,
   "metadata": {},
   "outputs": [
    {
     "data": {
      "text/plain": [
       "(132876, 54)"
      ]
     },
     "execution_count": 9,
     "metadata": {},
     "output_type": "execute_result"
    }
   ],
   "source": [
    "victime = victime.drop_duplicates()\n",
    "victime.shape"
   ]
  },
  {
   "cell_type": "code",
   "execution_count": 10,
   "metadata": {},
   "outputs": [
    {
     "data": {
      "text/html": [
       "<div>\n",
       "<style scoped>\n",
       "    .dataframe tbody tr th:only-of-type {\n",
       "        vertical-align: middle;\n",
       "    }\n",
       "\n",
       "    .dataframe tbody tr th {\n",
       "        vertical-align: top;\n",
       "    }\n",
       "\n",
       "    .dataframe thead th {\n",
       "        text-align: right;\n",
       "    }\n",
       "</style>\n",
       "<table border=\"1\" class=\"dataframe\">\n",
       "  <thead>\n",
       "    <tr style=\"text-align: right;\">\n",
       "      <th></th>\n",
       "      <th>Num_Acc</th>\n",
       "      <th>id_vehicule</th>\n",
       "      <th>num_veh</th>\n",
       "      <th>place</th>\n",
       "      <th>catu</th>\n",
       "      <th>grav</th>\n",
       "      <th>sexe</th>\n",
       "      <th>an_nais</th>\n",
       "      <th>trajet</th>\n",
       "      <th>secu1</th>\n",
       "      <th>...</th>\n",
       "      <th>prof</th>\n",
       "      <th>pr</th>\n",
       "      <th>pr1</th>\n",
       "      <th>plan</th>\n",
       "      <th>lartpc</th>\n",
       "      <th>larrout</th>\n",
       "      <th>surf</th>\n",
       "      <th>infra</th>\n",
       "      <th>situ</th>\n",
       "      <th>vma</th>\n",
       "    </tr>\n",
       "  </thead>\n",
       "  <tbody>\n",
       "    <tr>\n",
       "      <th>0</th>\n",
       "      <td>201900000001</td>\n",
       "      <td>138 306 524</td>\n",
       "      <td>B01</td>\n",
       "      <td>2</td>\n",
       "      <td>2</td>\n",
       "      <td>4</td>\n",
       "      <td>2</td>\n",
       "      <td>2002</td>\n",
       "      <td>0</td>\n",
       "      <td>1</td>\n",
       "      <td>...</td>\n",
       "      <td>1</td>\n",
       "      <td>6</td>\n",
       "      <td>900</td>\n",
       "      <td>2</td>\n",
       "      <td>NaN</td>\n",
       "      <td>NaN</td>\n",
       "      <td>1</td>\n",
       "      <td>2</td>\n",
       "      <td>1</td>\n",
       "      <td>70</td>\n",
       "    </tr>\n",
       "    <tr>\n",
       "      <th>1</th>\n",
       "      <td>201900000001</td>\n",
       "      <td>138 306 524</td>\n",
       "      <td>B01</td>\n",
       "      <td>1</td>\n",
       "      <td>1</td>\n",
       "      <td>4</td>\n",
       "      <td>2</td>\n",
       "      <td>1993</td>\n",
       "      <td>5</td>\n",
       "      <td>1</td>\n",
       "      <td>...</td>\n",
       "      <td>1</td>\n",
       "      <td>6</td>\n",
       "      <td>900</td>\n",
       "      <td>2</td>\n",
       "      <td>NaN</td>\n",
       "      <td>NaN</td>\n",
       "      <td>1</td>\n",
       "      <td>2</td>\n",
       "      <td>1</td>\n",
       "      <td>70</td>\n",
       "    </tr>\n",
       "    <tr>\n",
       "      <th>2</th>\n",
       "      <td>201900000001</td>\n",
       "      <td>138 306 525</td>\n",
       "      <td>A01</td>\n",
       "      <td>1</td>\n",
       "      <td>1</td>\n",
       "      <td>1</td>\n",
       "      <td>1</td>\n",
       "      <td>1959</td>\n",
       "      <td>0</td>\n",
       "      <td>1</td>\n",
       "      <td>...</td>\n",
       "      <td>1</td>\n",
       "      <td>6</td>\n",
       "      <td>900</td>\n",
       "      <td>2</td>\n",
       "      <td>NaN</td>\n",
       "      <td>NaN</td>\n",
       "      <td>1</td>\n",
       "      <td>2</td>\n",
       "      <td>1</td>\n",
       "      <td>70</td>\n",
       "    </tr>\n",
       "    <tr>\n",
       "      <th>3</th>\n",
       "      <td>201900000002</td>\n",
       "      <td>138 306 523</td>\n",
       "      <td>A01</td>\n",
       "      <td>1</td>\n",
       "      <td>1</td>\n",
       "      <td>4</td>\n",
       "      <td>2</td>\n",
       "      <td>1994</td>\n",
       "      <td>0</td>\n",
       "      <td>1</td>\n",
       "      <td>...</td>\n",
       "      <td>4</td>\n",
       "      <td>3</td>\n",
       "      <td>845</td>\n",
       "      <td>2</td>\n",
       "      <td>NaN</td>\n",
       "      <td>NaN</td>\n",
       "      <td>1</td>\n",
       "      <td>0</td>\n",
       "      <td>1</td>\n",
       "      <td>70</td>\n",
       "    </tr>\n",
       "    <tr>\n",
       "      <th>4</th>\n",
       "      <td>201900000003</td>\n",
       "      <td>138 306 520</td>\n",
       "      <td>A01</td>\n",
       "      <td>1</td>\n",
       "      <td>1</td>\n",
       "      <td>1</td>\n",
       "      <td>1</td>\n",
       "      <td>1996</td>\n",
       "      <td>0</td>\n",
       "      <td>1</td>\n",
       "      <td>...</td>\n",
       "      <td>1</td>\n",
       "      <td>10</td>\n",
       "      <td>500</td>\n",
       "      <td>3</td>\n",
       "      <td>NaN</td>\n",
       "      <td>NaN</td>\n",
       "      <td>1</td>\n",
       "      <td>0</td>\n",
       "      <td>1</td>\n",
       "      <td>90</td>\n",
       "    </tr>\n",
       "  </tbody>\n",
       "</table>\n",
       "<p>5 rows × 54 columns</p>\n",
       "</div>"
      ],
      "text/plain": [
       "        Num_Acc  id_vehicule num_veh  place  catu  grav  sexe  an_nais  \\\n",
       "0  201900000001  138 306 524     B01      2     2     4     2     2002   \n",
       "1  201900000001  138 306 524     B01      1     1     4     2     1993   \n",
       "2  201900000001  138 306 525     A01      1     1     1     1     1959   \n",
       "3  201900000002  138 306 523     A01      1     1     4     2     1994   \n",
       "4  201900000003  138 306 520     A01      1     1     1     1     1996   \n",
       "\n",
       "   trajet  secu1  ...  prof  pr  pr1 plan  lartpc  larrout  surf  infra  situ  \\\n",
       "0       0      1  ...     1   6  900    2     NaN      NaN     1      2     1   \n",
       "1       5      1  ...     1   6  900    2     NaN      NaN     1      2     1   \n",
       "2       0      1  ...     1   6  900    2     NaN      NaN     1      2     1   \n",
       "3       0      1  ...     4   3  845    2     NaN      NaN     1      0     1   \n",
       "4       0      1  ...     1  10  500    3     NaN      NaN     1      0     1   \n",
       "\n",
       "   vma  \n",
       "0   70  \n",
       "1   70  \n",
       "2   70  \n",
       "3   70  \n",
       "4   90  \n",
       "\n",
       "[5 rows x 54 columns]"
      ]
     },
     "execution_count": 10,
     "metadata": {},
     "output_type": "execute_result"
    }
   ],
   "source": [
    "victime.head()"
   ]
  },
  {
   "cell_type": "code",
   "execution_count": 11,
   "metadata": {},
   "outputs": [
    {
     "name": "stdout",
     "output_type": "stream",
     "text": [
      "<class 'pandas.core.frame.DataFrame'>\n",
      "Int64Index: 132876 entries, 0 to 132976\n",
      "Data columns (total 54 columns):\n",
      " #   Column       Non-Null Count   Dtype  \n",
      "---  ------       --------------   -----  \n",
      " 0   Num_Acc      132876 non-null  int64  \n",
      " 1   id_vehicule  132876 non-null  object \n",
      " 2   num_veh      132876 non-null  object \n",
      " 3   place        132876 non-null  int64  \n",
      " 4   catu         132876 non-null  int64  \n",
      " 5   grav         132876 non-null  int64  \n",
      " 6   sexe         132876 non-null  int64  \n",
      " 7   an_nais      132876 non-null  int64  \n",
      " 8   trajet       132876 non-null  int64  \n",
      " 9   secu1        132876 non-null  int64  \n",
      " 10  secu2        132876 non-null  int64  \n",
      " 11  secu3        132876 non-null  int64  \n",
      " 12  locp         132876 non-null  int64  \n",
      " 13  actp         132876 non-null  object \n",
      " 14  etatp        132876 non-null  int64  \n",
      " 15  senc         132876 non-null  int64  \n",
      " 16  catv         132876 non-null  int64  \n",
      " 17  obs          132876 non-null  int64  \n",
      " 18  obsm         132876 non-null  int64  \n",
      " 19  choc         132876 non-null  int64  \n",
      " 20  manv         132876 non-null  int64  \n",
      " 21  motor        132876 non-null  int64  \n",
      " 22  occutc       1834 non-null    float64\n",
      " 23  jour         132876 non-null  int64  \n",
      " 24  mois         132876 non-null  int64  \n",
      " 25  an           132876 non-null  int64  \n",
      " 26  hrmn         132876 non-null  object \n",
      " 27  lum          132876 non-null  int64  \n",
      " 28  dep          132876 non-null  object \n",
      " 29  com          132876 non-null  object \n",
      " 30  agg          132876 non-null  int64  \n",
      " 31  int          132876 non-null  int64  \n",
      " 32  atm          132876 non-null  int64  \n",
      " 33  col          132876 non-null  int64  \n",
      " 34  adr          131857 non-null  object \n",
      " 35  lat          132876 non-null  object \n",
      " 36  long         132876 non-null  object \n",
      " 37  catr         132876 non-null  int64  \n",
      " 38  voie         126963 non-null  object \n",
      " 39  v1           108312 non-null  float64\n",
      " 40  v2           9729 non-null    object \n",
      " 41  circ         132876 non-null  int64  \n",
      " 42  nbv          132876 non-null  int64  \n",
      " 43  vosp         132876 non-null  int64  \n",
      " 44  prof         132876 non-null  int64  \n",
      " 45  pr           132876 non-null  object \n",
      " 46  pr1          132876 non-null  object \n",
      " 47  plan         132876 non-null  int64  \n",
      " 48  lartpc       467 non-null     float64\n",
      " 49  larrout      831 non-null     float64\n",
      " 50  surf         132876 non-null  int64  \n",
      " 51  infra        132876 non-null  int64  \n",
      " 52  situ         132876 non-null  int64  \n",
      " 53  vma          132876 non-null  int64  \n",
      "dtypes: float64(4), int64(37), object(13)\n",
      "memory usage: 55.8+ MB\n"
     ]
    }
   ],
   "source": [
    "victime.info()"
   ]
  },
  {
   "cell_type": "markdown",
   "metadata": {},
   "source": [
    "**Observations**\n",
    "\n",
    "- Nous constatons qu'un certain nombre de colonnes est en format \"objet\". En vue du traitement ultérieur de machine learning, nous devons convertir en format numérique les colonnes qui peuvent l'être. \n",
    "- Nous observons également des colonnes comportant un certain nombre de valeurs manquantes, que nous devons changer (supprimer ou remplacer).\n",
    "- Nous commencerons par la conversion en format numérique des colonnes, celle-ci étant susceptible de générer des valeurs manquantes.\n",
    "\n",
    "- unités de valeurs à convertir ?\n",
    "- Réduction de granularité (binning) ?\n",
    "- rescaling à faire ?"
   ]
  },
  {
   "cell_type": "markdown",
   "metadata": {},
   "source": [
    "### Preprocessing "
   ]
  },
  {
   "cell_type": "markdown",
   "metadata": {},
   "source": [
    "**Etude de la nature des variable - Sélection de variables**\n",
    "Les variables suivantes ne nous paraissent pas de nature à influencer positivement la classification de la variable cible (non pertinence ou risque de surapprentissage/overfitting). Nous choisissons de les écarter :\n",
    "- année de naissance de la victime, nbe d'occupants du transport en commpun, jour de l'accident (on garde le mois), heure/min de l'accident (on garde l'éclairage), adresse postale et code insee de la commune (on garde le département et en agglo/hors agglo), indices du numéro de voie v1 et v2, pr et pr1 (n° du point de repère le plus proche et distance au point)"
   ]
  },
  {
   "cell_type": "code",
   "execution_count": 12,
   "metadata": {},
   "outputs": [
    {
     "name": "stdout",
     "output_type": "stream",
     "text": [
      "(132876, 54)\n",
      "(132876, 54)\n"
     ]
    }
   ],
   "source": [
    "print(victime.shape)\n",
    "\n",
    "# victime.drop(['an_nais', 'occutc', 'jour', 'hrmn', 'adr', 'com', 'adr', 'v1', 'v2', 'pr', 'pr1'], axis=1, inplace=True)\n",
    "\n",
    "#check\n",
    "print(victime.shape)"
   ]
  },
  {
   "cell_type": "markdown",
   "metadata": {},
   "source": [
    "**Unités de valeur**\n",
    "La plupart des informations sont présentées sous forme de code numérique (par exemple 0='jaune', 1='rouge', 2=bleu, etc.)\n",
    "Dans ce code, le \"-1\" signifie toujours \"valeur non renseignée\"."
   ]
  },
  {
   "cell_type": "markdown",
   "metadata": {},
   "source": [
    "**Format des colonnes**"
   ]
  },
  {
   "cell_type": "code",
   "execution_count": 13,
   "metadata": {},
   "outputs": [
    {
     "name": "stdout",
     "output_type": "stream",
     "text": [
      "Initialement, 13 colonnes sont de format catégoriel : ['id_vehicule', 'num_veh', 'actp', 'hrmn', 'dep', 'com', 'adr', 'lat', 'long', 'voie', 'v2', 'pr', 'pr1']\n"
     ]
    }
   ],
   "source": [
    "print(f\"Initialement, {len(list(victime.dtypes[victime.dtypes == object]))} colonnes sont de format catégoriel : {list(victime.dtypes[victime.dtypes == object].index)}\")"
   ]
  },
  {
   "cell_type": "markdown",
   "metadata": {},
   "source": [
    "**Observations**\n",
    "\n",
    "La série 'id_véhicule' doit être nettoyée pour pouvoir être convertie en format numérique."
   ]
  },
  {
   "cell_type": "code",
   "execution_count": 14,
   "metadata": {},
   "outputs": [
    {
     "data": {
      "text/plain": [
       "'138\\xa0306\\xa0524'"
      ]
     },
     "execution_count": 14,
     "metadata": {},
     "output_type": "execute_result"
    }
   ],
   "source": [
    "victime.loc[0,'id_vehicule']"
   ]
  },
  {
   "cell_type": "code",
   "execution_count": 15,
   "metadata": {},
   "outputs": [
    {
     "data": {
      "text/plain": [
       "dtype('int64')"
      ]
     },
     "execution_count": 15,
     "metadata": {},
     "output_type": "execute_result"
    }
   ],
   "source": [
    "from unicodedata import normalize\n",
    "import re\n",
    "def clean_up(text):\n",
    "    text = normalize('NFKD', text)\n",
    "    text = re.sub('\\W*','',text)\n",
    "    return int(text)\n",
    "\n",
    "victime['id_vehicule'] = victime['id_vehicule'].apply(clean_up)\n",
    "\n",
    "#check\n",
    "victime['id_vehicule'].dtypes"
   ]
  },
  {
   "cell_type": "markdown",
   "metadata": {},
   "source": [
    "**Observations**"
   ]
  },
  {
   "cell_type": "code",
   "execution_count": 16,
   "metadata": {},
   "outputs": [
    {
     "name": "stdout",
     "output_type": "stream",
     "text": [
      "Les colonnes suivantes peuvent être directement converties au format numérique : ['actp', 'dep', 'com', 'pr', 'pr1']\n"
     ]
    }
   ],
   "source": [
    "aconvertir = ['actp', 'dep',  'com', 'pr', 'pr1']\n",
    "print(f\"Les colonnes suivantes peuvent être directement converties au format numérique : {aconvertir}\")"
   ]
  },
  {
   "cell_type": "code",
   "execution_count": 17,
   "metadata": {},
   "outputs": [
    {
     "name": "stdout",
     "output_type": "stream",
     "text": [
      "Num_Acc          int64\n",
      "id_vehicule      int64\n",
      "num_veh         object\n",
      "place            int64\n",
      "catu             int64\n",
      "grav             int64\n",
      "sexe             int64\n",
      "an_nais          int64\n",
      "trajet           int64\n",
      "secu1            int64\n",
      "secu2            int64\n",
      "secu3            int64\n",
      "locp             int64\n",
      "actp           float64\n",
      "etatp            int64\n",
      "senc             int64\n",
      "catv             int64\n",
      "obs              int64\n",
      "obsm             int64\n",
      "choc             int64\n",
      "manv             int64\n",
      "motor            int64\n",
      "occutc         float64\n",
      "jour             int64\n",
      "mois             int64\n",
      "an               int64\n",
      "hrmn            object\n",
      "lum              int64\n",
      "dep            float64\n",
      "com            float64\n",
      "agg              int64\n",
      "int              int64\n",
      "atm              int64\n",
      "col              int64\n",
      "adr             object\n",
      "lat             object\n",
      "long            object\n",
      "catr             int64\n",
      "voie            object\n",
      "v1             float64\n",
      "v2              object\n",
      "circ             int64\n",
      "nbv              int64\n",
      "vosp             int64\n",
      "prof             int64\n",
      "pr             float64\n",
      "pr1            float64\n",
      "plan             int64\n",
      "lartpc         float64\n",
      "larrout        float64\n",
      "surf             int64\n",
      "infra            int64\n",
      "situ             int64\n",
      "vma              int64\n",
      "dtype: object\n"
     ]
    }
   ],
   "source": [
    "def convert_to_numeric(col):\n",
    "    victime[col] = pd.to_numeric(victime[col], errors='coerce')\n",
    "\n",
    "for c in aconvertir:\n",
    "    convert_to_numeric(c) \n",
    "\n",
    "print(victime.dtypes)"
   ]
  },
  {
   "cell_type": "code",
   "execution_count": 18,
   "metadata": {},
   "outputs": [
    {
     "name": "stdout",
     "output_type": "stream",
     "text": [
      "Les 7 autres colonnes ne sont pas de nature numérique et resteront au format catégoriel :\n",
      "['num_veh', 'hrmn', 'adr', 'lat', 'long', 'voie', 'v2']\n"
     ]
    }
   ],
   "source": [
    "print(f\"Les {len(list(victime.dtypes[victime.dtypes == object].index))} autres colonnes ne sont pas de nature numérique et resteront au format catégoriel :\")\n",
    "print(list(victime.dtypes[victime.dtypes == object].index))"
   ]
  },
  {
   "cell_type": "code",
   "execution_count": 19,
   "metadata": {},
   "outputs": [
    {
     "name": "stdout",
     "output_type": "stream",
     "text": [
      "Nous avons donc, dans notre jeu de données, 7 colonnes de type catégoriel et 47 de type numérique.\n"
     ]
    }
   ],
   "source": [
    "print(f\"Nous avons donc, dans notre jeu de données, {len(list(victime.dtypes[victime.dtypes == object].index))} colonnes de type catégoriel et {len(list(victime.dtypes[victime.dtypes != object].index))} de type numérique.\")"
   ]
  },
  {
   "cell_type": "markdown",
   "metadata": {},
   "source": [
    "**Valeurs manquantes**"
   ]
  },
  {
   "cell_type": "markdown",
   "metadata": {},
   "source": [
    "Les valeurs manquantes sont repérées par la valeur 'NaN', mais également par la valeur '-1' dont le référentiel nous indique qu'elle signifie \"non renseigné\". \n",
    "Par ailleurs, la feature \"trajet\" utilise le code \"0\" pour indiquer les valeurs manquantes. \n",
    "Afin de comptabiliser l'intégralité des valeurs manquantes, on remplace ces chiffres par 'NaN'."
   ]
  },
  {
   "cell_type": "code",
   "execution_count": 20,
   "metadata": {},
   "outputs": [],
   "source": [
    "victime.replace(-1,np.NaN, inplace=True)"
   ]
  },
  {
   "cell_type": "code",
   "execution_count": 21,
   "metadata": {},
   "outputs": [],
   "source": [
    "victime.trajet.replace(0,np.NaN, inplace=True)"
   ]
  },
  {
   "cell_type": "markdown",
   "metadata": {},
   "source": [
    "Imprimons toutes les colonnes qui comprennent des valeurs manquantes."
   ]
  },
  {
   "cell_type": "code",
   "execution_count": 22,
   "metadata": {},
   "outputs": [
    {
     "data": {
      "text/html": [
       "<div>\n",
       "<style scoped>\n",
       "    .dataframe tbody tr th:only-of-type {\n",
       "        vertical-align: middle;\n",
       "    }\n",
       "\n",
       "    .dataframe tbody tr th {\n",
       "        vertical-align: top;\n",
       "    }\n",
       "\n",
       "    .dataframe thead th {\n",
       "        text-align: right;\n",
       "    }\n",
       "</style>\n",
       "<table border=\"1\" class=\"dataframe\">\n",
       "  <thead>\n",
       "    <tr style=\"text-align: right;\">\n",
       "      <th></th>\n",
       "      <th>column_name</th>\n",
       "      <th>missing_percent</th>\n",
       "    </tr>\n",
       "  </thead>\n",
       "  <tbody>\n",
       "    <tr>\n",
       "      <th>0</th>\n",
       "      <td>lartpc</td>\n",
       "      <td>99.648545</td>\n",
       "    </tr>\n",
       "    <tr>\n",
       "      <th>1</th>\n",
       "      <td>larrout</td>\n",
       "      <td>99.374605</td>\n",
       "    </tr>\n",
       "    <tr>\n",
       "      <th>2</th>\n",
       "      <td>secu3</td>\n",
       "      <td>98.679972</td>\n",
       "    </tr>\n",
       "    <tr>\n",
       "      <th>3</th>\n",
       "      <td>occutc</td>\n",
       "      <td>98.619766</td>\n",
       "    </tr>\n",
       "    <tr>\n",
       "      <th>4</th>\n",
       "      <td>v2</td>\n",
       "      <td>92.678136</td>\n",
       "    </tr>\n",
       "    <tr>\n",
       "      <th>5</th>\n",
       "      <td>etatp</td>\n",
       "      <td>91.704296</td>\n",
       "    </tr>\n",
       "    <tr>\n",
       "      <th>6</th>\n",
       "      <td>locp</td>\n",
       "      <td>37.976008</td>\n",
       "    </tr>\n",
       "    <tr>\n",
       "      <th>7</th>\n",
       "      <td>secu2</td>\n",
       "      <td>30.186038</td>\n",
       "    </tr>\n",
       "    <tr>\n",
       "      <th>8</th>\n",
       "      <td>trajet</td>\n",
       "      <td>26.265089</td>\n",
       "    </tr>\n",
       "    <tr>\n",
       "      <th>9</th>\n",
       "      <td>actp</td>\n",
       "      <td>20.225624</td>\n",
       "    </tr>\n",
       "    <tr>\n",
       "      <th>10</th>\n",
       "      <td>v1</td>\n",
       "      <td>18.486408</td>\n",
       "    </tr>\n",
       "    <tr>\n",
       "      <th>11</th>\n",
       "      <td>pr1</td>\n",
       "      <td>12.382974</td>\n",
       "    </tr>\n",
       "    <tr>\n",
       "      <th>12</th>\n",
       "      <td>pr</td>\n",
       "      <td>11.871971</td>\n",
       "    </tr>\n",
       "    <tr>\n",
       "      <th>13</th>\n",
       "      <td>circ</td>\n",
       "      <td>5.058099</td>\n",
       "    </tr>\n",
       "    <tr>\n",
       "      <th>14</th>\n",
       "      <td>voie</td>\n",
       "      <td>4.450014</td>\n",
       "    </tr>\n",
       "    <tr>\n",
       "      <th>15</th>\n",
       "      <td>vma</td>\n",
       "      <td>1.428399</td>\n",
       "    </tr>\n",
       "    <tr>\n",
       "      <th>16</th>\n",
       "      <td>com</td>\n",
       "      <td>1.082965</td>\n",
       "    </tr>\n",
       "    <tr>\n",
       "      <th>17</th>\n",
       "      <td>dep</td>\n",
       "      <td>1.082965</td>\n",
       "    </tr>\n",
       "    <tr>\n",
       "      <th>18</th>\n",
       "      <td>vosp</td>\n",
       "      <td>1.075439</td>\n",
       "    </tr>\n",
       "    <tr>\n",
       "      <th>19</th>\n",
       "      <td>nbv</td>\n",
       "      <td>1.056624</td>\n",
       "    </tr>\n",
       "    <tr>\n",
       "      <th>20</th>\n",
       "      <td>adr</td>\n",
       "      <td>0.766880</td>\n",
       "    </tr>\n",
       "    <tr>\n",
       "      <th>21</th>\n",
       "      <td>motor</td>\n",
       "      <td>0.278455</td>\n",
       "    </tr>\n",
       "    <tr>\n",
       "      <th>22</th>\n",
       "      <td>situ</td>\n",
       "      <td>0.170836</td>\n",
       "    </tr>\n",
       "    <tr>\n",
       "      <th>23</th>\n",
       "      <td>infra</td>\n",
       "      <td>0.074506</td>\n",
       "    </tr>\n",
       "    <tr>\n",
       "      <th>24</th>\n",
       "      <td>obsm</td>\n",
       "      <td>0.066980</td>\n",
       "    </tr>\n",
       "    <tr>\n",
       "      <th>25</th>\n",
       "      <td>secu1</td>\n",
       "      <td>0.066227</td>\n",
       "    </tr>\n",
       "    <tr>\n",
       "      <th>26</th>\n",
       "      <td>choc</td>\n",
       "      <td>0.036876</td>\n",
       "    </tr>\n",
       "    <tr>\n",
       "      <th>27</th>\n",
       "      <td>manv</td>\n",
       "      <td>0.034619</td>\n",
       "    </tr>\n",
       "    <tr>\n",
       "      <th>28</th>\n",
       "      <td>senc</td>\n",
       "      <td>0.034619</td>\n",
       "    </tr>\n",
       "    <tr>\n",
       "      <th>29</th>\n",
       "      <td>obs</td>\n",
       "      <td>0.032361</td>\n",
       "    </tr>\n",
       "    <tr>\n",
       "      <th>30</th>\n",
       "      <td>surf</td>\n",
       "      <td>0.030103</td>\n",
       "    </tr>\n",
       "    <tr>\n",
       "      <th>31</th>\n",
       "      <td>prof</td>\n",
       "      <td>0.023330</td>\n",
       "    </tr>\n",
       "    <tr>\n",
       "      <th>32</th>\n",
       "      <td>plan</td>\n",
       "      <td>0.012041</td>\n",
       "    </tr>\n",
       "    <tr>\n",
       "      <th>33</th>\n",
       "      <td>col</td>\n",
       "      <td>0.001505</td>\n",
       "    </tr>\n",
       "    <tr>\n",
       "      <th>34</th>\n",
       "      <td>atm</td>\n",
       "      <td>0.000753</td>\n",
       "    </tr>\n",
       "  </tbody>\n",
       "</table>\n",
       "</div>"
      ],
      "text/plain": [
       "   column_name  missing_percent\n",
       "0       lartpc        99.648545\n",
       "1      larrout        99.374605\n",
       "2        secu3        98.679972\n",
       "3       occutc        98.619766\n",
       "4           v2        92.678136\n",
       "5        etatp        91.704296\n",
       "6         locp        37.976008\n",
       "7        secu2        30.186038\n",
       "8       trajet        26.265089\n",
       "9         actp        20.225624\n",
       "10          v1        18.486408\n",
       "11         pr1        12.382974\n",
       "12          pr        11.871971\n",
       "13        circ         5.058099\n",
       "14        voie         4.450014\n",
       "15         vma         1.428399\n",
       "16         com         1.082965\n",
       "17         dep         1.082965\n",
       "18        vosp         1.075439\n",
       "19         nbv         1.056624\n",
       "20         adr         0.766880\n",
       "21       motor         0.278455\n",
       "22        situ         0.170836\n",
       "23       infra         0.074506\n",
       "24        obsm         0.066980\n",
       "25       secu1         0.066227\n",
       "26        choc         0.036876\n",
       "27        manv         0.034619\n",
       "28        senc         0.034619\n",
       "29         obs         0.032361\n",
       "30        surf         0.030103\n",
       "31        prof         0.023330\n",
       "32        plan         0.012041\n",
       "33         col         0.001505\n",
       "34         atm         0.000753"
      ]
     },
     "execution_count": 22,
     "metadata": {},
     "output_type": "execute_result"
    }
   ],
   "source": [
    "percent_missing = victime.isna().sum() * 100 / len(victime)\n",
    "missing_value_df = pd.DataFrame({'column_name': victime.columns, 'missing_percent': percent_missing}).sort_values(by='missing_percent', ascending=False).reset_index(drop=True)\n",
    "missing_value_df = missing_value_df[missing_value_df['missing_percent']>0]\n",
    "missing_value_df"
   ]
  },
  {
   "cell_type": "markdown",
   "metadata": {},
   "source": [
    "Supprimons les colonnes qui contiennent plus de 10% de valeurs manquantes."
   ]
  },
  {
   "cell_type": "code",
   "execution_count": 23,
   "metadata": {},
   "outputs": [
    {
     "name": "stdout",
     "output_type": "stream",
     "text": [
      "   column_name  missing_percent\n",
      "0         circ         5.058099\n",
      "1         voie         4.450014\n",
      "2          vma         1.428399\n",
      "3          com         1.082965\n",
      "4          dep         1.082965\n",
      "5         vosp         1.075439\n",
      "6          nbv         1.056624\n",
      "7          adr         0.766880\n",
      "8        motor         0.278455\n",
      "9         situ         0.170836\n",
      "10       infra         0.074506\n",
      "11        obsm         0.066980\n",
      "12       secu1         0.066227\n",
      "13        choc         0.036876\n",
      "14        manv         0.034619\n",
      "15        senc         0.034619\n",
      "16         obs         0.032361\n",
      "17        surf         0.030103\n",
      "18        prof         0.023330\n",
      "19        plan         0.012041\n",
      "20         col         0.001505\n",
      "21         atm         0.000753\n"
     ]
    }
   ],
   "source": [
    "missing_value_df = pd.DataFrame({'column_name': victime.columns, 'missing_percent': victime.isna().sum() * 100 / len(victime)}).sort_values(by='missing_percent', ascending=False).reset_index(drop=True)\n",
    "missing_value_df_morethan10 = missing_value_df[(missing_value_df['missing_percent']>0)&(missing_value_df['missing_percent']>10)]\n",
    "missing_list = list(missing_value_df_morethan10['column_name'])\n",
    "\n",
    "for i in range(len(missing_list)):\n",
    "    if len(missing_list)>0:\n",
    "        victime.drop(missing_list[0], axis=1, inplace=True)\n",
    "        missing_value_df = pd.DataFrame({'column_name': victime.columns, 'missing_percent': victime.isna().sum() * 100 / len(victime)}).sort_values(by='missing_percent', ascending=False).reset_index(drop=True)\n",
    "        missing_value_df_morethan10 = missing_value_df[(missing_value_df['missing_percent']>0) & (missing_value_df['missing_percent']>10)]\n",
    "        missing_list = list(missing_value_df_morethan10['column_name'])\n",
    "    else:\n",
    "        break\n",
    "        \n",
    "percent_missing = victime.isna().sum() * 100 / len(victime)\n",
    "missing_value_df = pd.DataFrame({'column_name': victime.columns, 'missing_percent': percent_missing}).sort_values(by='missing_percent', ascending=False).reset_index(drop=True)\n",
    "missing_value_df = missing_value_df[missing_value_df['missing_percent']>0]\n",
    "print(missing_value_df)"
   ]
  },
  {
   "cell_type": "markdown",
   "metadata": {},
   "source": [
    "Ensuite, suppprimons les lignes dont les valeurs manquantes représentent moins d'1% de leurs colonnes respectives."
   ]
  },
  {
   "cell_type": "code",
   "execution_count": 24,
   "metadata": {},
   "outputs": [
    {
     "data": {
      "text/html": [
       "<div>\n",
       "<style scoped>\n",
       "    .dataframe tbody tr th:only-of-type {\n",
       "        vertical-align: middle;\n",
       "    }\n",
       "\n",
       "    .dataframe tbody tr th {\n",
       "        vertical-align: top;\n",
       "    }\n",
       "\n",
       "    .dataframe thead th {\n",
       "        text-align: right;\n",
       "    }\n",
       "</style>\n",
       "<table border=\"1\" class=\"dataframe\">\n",
       "  <thead>\n",
       "    <tr style=\"text-align: right;\">\n",
       "      <th></th>\n",
       "      <th>column_name</th>\n",
       "      <th>missing_percent</th>\n",
       "    </tr>\n",
       "  </thead>\n",
       "  <tbody>\n",
       "    <tr>\n",
       "      <th>0</th>\n",
       "      <td>circ</td>\n",
       "      <td>4.804877</td>\n",
       "    </tr>\n",
       "    <tr>\n",
       "      <th>1</th>\n",
       "      <td>voie</td>\n",
       "      <td>4.278920</td>\n",
       "    </tr>\n",
       "    <tr>\n",
       "      <th>2</th>\n",
       "      <td>dep</td>\n",
       "      <td>1.111559</td>\n",
       "    </tr>\n",
       "    <tr>\n",
       "      <th>3</th>\n",
       "      <td>com</td>\n",
       "      <td>1.111559</td>\n",
       "    </tr>\n",
       "    <tr>\n",
       "      <th>4</th>\n",
       "      <td>vma</td>\n",
       "      <td>1.052689</td>\n",
       "    </tr>\n",
       "  </tbody>\n",
       "</table>\n",
       "</div>"
      ],
      "text/plain": [
       "  column_name  missing_percent\n",
       "0        circ         4.804877\n",
       "1        voie         4.278920\n",
       "2         dep         1.111559\n",
       "3         com         1.111559\n",
       "4         vma         1.052689"
      ]
     },
     "execution_count": 24,
     "metadata": {},
     "output_type": "execute_result"
    }
   ],
   "source": [
    "missing_value_df_lessthan1 = missing_value_df[(missing_value_df['missing_percent']>0)&(missing_value_df['missing_percent']<1)]\n",
    "missing_list = list(missing_value_df_lessthan1['column_name'])\n",
    "\n",
    "for i in range(len(missing_list)):\n",
    "    if len(missing_list)>0:\n",
    "        victime.dropna(subset=[missing_list[0]], inplace=True)\n",
    "        victime.reset_index(drop=True)\n",
    "        missing_value_df = pd.DataFrame({'column_name': victime.columns, 'missing_percent': victime.isna().sum() * 100 / len(victime)}).sort_values(by='missing_percent', ascending=False).reset_index(drop=True)\n",
    "        missing_value_df_lessthan1 = missing_value_df[(missing_value_df['missing_percent']>0) & (missing_value_df['missing_percent']<1)]\n",
    "        missing_list = list(missing_value_df_lessthan1['column_name'])\n",
    "    else:\n",
    "        break\n",
    "\n",
    "percent_missing = victime.isna().sum() * 100 / len(victime)\n",
    "missing_value_df = pd.DataFrame({'column_name': victime.columns, 'missing_percent': percent_missing}).sort_values(by='missing_percent', ascending=False).reset_index(drop=True)\n",
    "missing_value_df = missing_value_df[missing_value_df['missing_percent']>0]\n",
    "missing_value_df"
   ]
  },
  {
   "cell_type": "code",
   "execution_count": 25,
   "metadata": {},
   "outputs": [
    {
     "data": {
      "text/plain": [
       "circ    float64\n",
       "voie     object\n",
       "com     float64\n",
       "dep     float64\n",
       "vma     float64\n",
       "dtype: object"
      ]
     },
     "execution_count": 25,
     "metadata": {},
     "output_type": "execute_result"
    }
   ],
   "source": [
    "victime[['circ','voie','com','dep','vma']].dtypes"
   ]
  },
  {
   "cell_type": "markdown",
   "metadata": {},
   "source": [
    "Quelques colonnes ont un ratio de valeurs manquantes comprises entre 1 et 10%.\n",
    "\n",
    "A l'exception d'1 seule, toutes sont numériques : \n",
    "*circ = régime de circulation \n",
    "*vma = Vitesse maximale autorisée sur le lieu et au moment de l’accident\n",
    "*com = numéro de commune\n",
    "*dep = numéro de département\n",
    "\n",
    "Nous pouvons donc et décidons de remplacer les valeurs manquantes de ces séries numériques par la médiane des séries pour 'circ' et 'vma', par 0 pour 'dep' et 'com'."
   ]
  },
  {
   "cell_type": "code",
   "execution_count": 26,
   "metadata": {},
   "outputs": [
    {
     "data": {
      "text/html": [
       "<div>\n",
       "<style scoped>\n",
       "    .dataframe tbody tr th:only-of-type {\n",
       "        vertical-align: middle;\n",
       "    }\n",
       "\n",
       "    .dataframe tbody tr th {\n",
       "        vertical-align: top;\n",
       "    }\n",
       "\n",
       "    .dataframe thead th {\n",
       "        text-align: right;\n",
       "    }\n",
       "</style>\n",
       "<table border=\"1\" class=\"dataframe\">\n",
       "  <thead>\n",
       "    <tr style=\"text-align: right;\">\n",
       "      <th></th>\n",
       "      <th>column_name</th>\n",
       "      <th>missing_percent</th>\n",
       "    </tr>\n",
       "  </thead>\n",
       "  <tbody>\n",
       "    <tr>\n",
       "      <th>0</th>\n",
       "      <td>voie</td>\n",
       "      <td>4.27892</td>\n",
       "    </tr>\n",
       "  </tbody>\n",
       "</table>\n",
       "</div>"
      ],
      "text/plain": [
       "  column_name  missing_percent\n",
       "0        voie          4.27892"
      ]
     },
     "execution_count": 26,
     "metadata": {},
     "output_type": "execute_result"
    }
   ],
   "source": [
    "victime.circ.fillna(victime.circ.median(), inplace=True)\n",
    "victime.vma.fillna(victime.vma.median(), inplace=True)\n",
    "victime.dep.fillna(0, inplace=True)\n",
    "victime.com.fillna(0, inplace=True)\n",
    "percent_missing = victime.isna().sum() * 100 / len(victime)\n",
    "missing_value_df = pd.DataFrame({'column_name': victime.columns, 'missing_percent': percent_missing}).sort_values(by='missing_percent', ascending=False).reset_index(drop=True)\n",
    "missing_value_df = missing_value_df[missing_value_df['missing_percent']>0]\n",
    "missing_value_df"
   ]
  },
  {
   "cell_type": "markdown",
   "metadata": {},
   "source": [
    "La série 'voie' est une série catégorielle qui comprend le numéro de la route où l'accident s'est produit. Elle n'est pas utile à notre étude et nous décidons de la supprimer."
   ]
  },
  {
   "cell_type": "code",
   "execution_count": 27,
   "metadata": {},
   "outputs": [],
   "source": [
    "victime.drop('voie', axis=1, inplace=True)"
   ]
  },
  {
   "cell_type": "markdown",
   "metadata": {},
   "source": [
    "Vérifions que notre jeu de données ne comprend plus aucune valeur manquante :"
   ]
  },
  {
   "cell_type": "code",
   "execution_count": 28,
   "metadata": {},
   "outputs": [
    {
     "name": "stdout",
     "output_type": "stream",
     "text": [
      "Plus de valeur manquante dans le jeu de données.\n"
     ]
    }
   ],
   "source": [
    "if victime.isna().sum().any() == False:\n",
    "    print('Plus de valeur manquante dans le jeu de données.')\n",
    "else:\n",
    "    print(victime.isna().sum())"
   ]
  },
  {
   "cell_type": "code",
   "execution_count": 29,
   "metadata": {},
   "outputs": [
    {
     "data": {
      "text/plain": [
       "(129098, 40)"
      ]
     },
     "execution_count": 29,
     "metadata": {},
     "output_type": "execute_result"
    }
   ],
   "source": [
    "victime.shape"
   ]
  },
  {
   "cell_type": "markdown",
   "metadata": {},
   "source": [
    "**Valeurs aberrantes**\n",
    "\n",
    "Repérons et traitons les valeurs aberrantes."
   ]
  },
  {
   "cell_type": "code",
   "execution_count": 30,
   "metadata": {},
   "outputs": [
    {
     "data": {
      "text/plain": [
       "Num_Acc                       201900058840\n",
       "id_vehicule                      138306525\n",
       "num_veh                                \\01\n",
       "place                                   10\n",
       "catu                                     3\n",
       "grav                                     4\n",
       "sexe                                     2\n",
       "an_nais                               2019\n",
       "secu1                                    9\n",
       "senc                                     3\n",
       "catv                                    99\n",
       "obs                                     17\n",
       "obsm                                     9\n",
       "choc                                     9\n",
       "manv                                    26\n",
       "motor                                    6\n",
       "jour                                    31\n",
       "mois                                    12\n",
       "an                                    2019\n",
       "hrmn                                 23:59\n",
       "lum                                      5\n",
       "dep                                    988\n",
       "com                                  98833\n",
       "agg                                      2\n",
       "int                                      9\n",
       "atm                                      9\n",
       "col                                      7\n",
       "adr            échangeur de la croix rouge\n",
       "lat                             63,5680660\n",
       "long                             9,5507480\n",
       "catr                                     9\n",
       "circ                                     4\n",
       "nbv                                     12\n",
       "vosp                                     3\n",
       "prof                                     4\n",
       "plan                                     4\n",
       "surf                                     9\n",
       "infra                                    9\n",
       "situ                                     8\n",
       "vma                                    800\n",
       "dtype: object"
      ]
     },
     "execution_count": 30,
     "metadata": {},
     "output_type": "execute_result"
    }
   ],
   "source": [
    "victime.max()"
   ]
  },
  {
   "cell_type": "markdown",
   "metadata": {},
   "source": [
    "**Observations**\n",
    "\n",
    "En premier lieu, la colonne 'vma' (= vitesse maximale autorisée au lieu de l'accident), avec une valeur maximale de 800 km/h, comprend de toute évidence des valeurs aberrantes.\n",
    "Nous décidons de la winsoriser."
   ]
  },
  {
   "cell_type": "code",
   "execution_count": 31,
   "metadata": {},
   "outputs": [
    {
     "data": {
      "text/plain": [
       "<AxesSubplot:>"
      ]
     },
     "execution_count": 31,
     "metadata": {},
     "output_type": "execute_result"
    },
    {
     "data": {
      "image/png": "[encoded data removed]",
      "text/plain": [
       "<Figure size 432x288 with 1 Axes>"
      ]
     },
     "metadata": {
      "needs_background": "light"
     },
     "output_type": "display_data"
    }
   ],
   "source": [
    "victime.boxplot(column=['vma'])"
   ]
  },
  {
   "cell_type": "code",
   "execution_count": 32,
   "metadata": {},
   "outputs": [
    {
     "data": {
      "text/plain": [
       "130.0"
      ]
     },
     "execution_count": 32,
     "metadata": {},
     "output_type": "execute_result"
    }
   ],
   "source": [
    "upper = 130\n",
    "lower = 10\n",
    "victime.vma = victime['vma'].clip(lower, upper)\n",
    "\n",
    "victime.vma.max()"
   ]
  },
  {
   "cell_type": "code",
   "execution_count": 33,
   "metadata": {},
   "outputs": [
    {
     "data": {
      "text/plain": [
       "<AxesSubplot:>"
      ]
     },
     "execution_count": 33,
     "metadata": {},
     "output_type": "execute_result"
    },
    {
     "data": {
      "image/png": "[encoded data removed]",
      "text/plain": [
       "<Figure size 432x288 with 1 Axes>"
      ]
     },
     "metadata": {
      "needs_background": "light"
     },
     "output_type": "display_data"
    }
   ],
   "source": [
    "victime.boxplot(column=['vma'])"
   ]
  },
  {
   "cell_type": "code",
   "execution_count": 34,
   "metadata": {},
   "outputs": [
    {
     "data": {
      "text/plain": [
       "<AxesSubplot:>"
      ]
     },
     "execution_count": 34,
     "metadata": {},
     "output_type": "execute_result"
    },
    {
     "data": {
      "image/png": "[encoded data removed]",
      "text/plain": [
       "<Figure size 432x288 with 1 Axes>"
      ]
     },
     "metadata": {
      "needs_background": "light"
     },
     "output_type": "display_data"
    }
   ],
   "source": [
    "victime.boxplot(column=['catv'])"
   ]
  },
  {
   "cell_type": "markdown",
   "metadata": {},
   "source": [
    "**Observations**\n",
    "\n",
    "Notre jeu de données a désormais la forme suivante."
   ]
  },
  {
   "cell_type": "code",
   "execution_count": 35,
   "metadata": {},
   "outputs": [
    {
     "data": {
      "text/plain": [
       "(129098, 40)"
      ]
     },
     "execution_count": 35,
     "metadata": {},
     "output_type": "execute_result"
    }
   ],
   "source": [
    "victime.shape"
   ]
  },
  {
   "cell_type": "markdown",
   "metadata": {},
   "source": [
    "**Corrélations / Fléau de la dimension**\n",
    "\n",
    "Recherchons les fortes corrélations entre colonnes (qui sont à éviter). \n",
    "Nous fixons à 90% le seuil à partir duquel nous considérons que la corrélation entre 2 colonnes est tellement élevée qu'il convient de supprimer l'une des 2 colonnes.\n",
    "En l'occurrence, ce seuil n'est atteint pour aucune paire de colonnes, aussi nous n'identifions pas de colonnes redondantes."
   ]
  },
  {
   "cell_type": "code",
   "execution_count": 36,
   "metadata": {},
   "outputs": [
    {
     "data": {
      "text/plain": [
       "<AxesSubplot:>"
      ]
     },
     "execution_count": 36,
     "metadata": {},
     "output_type": "execute_result"
    },
    {
     "data": {
      "image/png": "[encoded data removed]",
      "text/plain": [
       "<Figure size 1440x1440 with 2 Axes>"
      ]
     },
     "metadata": {
      "needs_background": "light"
     },
     "output_type": "display_data"
    }
   ],
   "source": [
    "plt.figure(figsize=(20, 20))\n",
    "sns.heatmap(np.abs(victime.corr())>0.9, annot=True)"
   ]
  },
  {
   "cell_type": "markdown",
   "metadata": {},
   "source": [
    "\n",
    "\n",
    "matrice de cramer\n",
    "\n"
   ]
  },
  {
   "cell_type": "markdown",
   "metadata": {},
   "source": [
    "Par ailleurs, nous observons une variance nulle de la série de données 'an'. Une vérification permet de constater qu'il s'agit de l'année de survenance de l'accident et qu'effectivement toutes les données ont été recueillies la même année (2019). \n",
    "Nous décidons de supprimer cette colonne dans la mesure où les données ne varient pas."
   ]
  },
  {
   "cell_type": "code",
   "execution_count": 37,
   "metadata": {},
   "outputs": [
    {
     "data": {
      "text/plain": [
       "an             0.000000e+00\n",
       "sexe           2.176286e-01\n",
       "agg            2.348615e-01\n",
       "prof           3.131390e-01\n",
       "vosp           3.294850e-01\n",
       "circ           3.619370e-01\n",
       "catu           3.943431e-01\n",
       "plan           4.440504e-01\n",
       "surf           6.571246e-01\n",
       "senc           6.876858e-01\n",
       "motor          1.099605e+00\n",
       "obsm           1.186730e+00\n",
       "situ           1.241440e+00\n",
       "catr           1.632551e+00\n",
       "grav           1.882520e+00\n",
       "nbv            2.098621e+00\n",
       "lum            2.234127e+00\n",
       "atm            2.781270e+00\n",
       "col            3.463398e+00\n",
       "int            3.905630e+00\n",
       "infra          4.876633e+00\n",
       "choc           5.714462e+00\n",
       "secu1          6.108636e+00\n",
       "place          7.184099e+00\n",
       "obs            1.066227e+01\n",
       "mois           1.143117e+01\n",
       "manv           6.582514e+01\n",
       "jour           7.654311e+01\n",
       "catv           1.508897e+02\n",
       "an_nais        3.656911e+02\n",
       "vma            4.925522e+02\n",
       "dep            4.127707e+04\n",
       "Num_Acc        2.882639e+08\n",
       "com            8.872516e+08\n",
       "id_vehicule    1.045878e+09\n",
       "dtype: float64"
      ]
     },
     "execution_count": 37,
     "metadata": {},
     "output_type": "execute_result"
    }
   ],
   "source": [
    "victime.var().sort_values()"
   ]
  },
  {
   "cell_type": "code",
   "execution_count": 38,
   "metadata": {},
   "outputs": [
    {
     "data": {
      "text/plain": [
       "2019    129098\n",
       "Name: an, dtype: int64"
      ]
     },
     "execution_count": 38,
     "metadata": {},
     "output_type": "execute_result"
    }
   ],
   "source": [
    "victime.an.value_counts()"
   ]
  },
  {
   "cell_type": "code",
   "execution_count": 39,
   "metadata": {},
   "outputs": [],
   "source": [
    "victime.drop('an', axis=1, inplace=True)"
   ]
  },
  {
   "cell_type": "markdown",
   "metadata": {},
   "source": [
    "Conscients du fléau de la dimension, nous savons que le nombre de lignes doit être exponentiellement proportionnel au nombre de features. Nous vérifions ci-dessous que c'est bien le cas."
   ]
  },
  {
   "cell_type": "code",
   "execution_count": 40,
   "metadata": {},
   "outputs": [
    {
     "data": {
      "text/plain": [
       "3310.2051282051284"
      ]
     },
     "execution_count": 40,
     "metadata": {},
     "output_type": "execute_result"
    }
   ],
   "source": [
    "victime.shape[0]/victime.shape[1]"
   ]
  },
  {
   "cell_type": "markdown",
   "metadata": {},
   "source": [
    "Pour finir, notre dataset a la forme suivante : "
   ]
  },
  {
   "cell_type": "code",
   "execution_count": 41,
   "metadata": {},
   "outputs": [
    {
     "data": {
      "text/plain": [
       "(129098, 39)"
      ]
     },
     "execution_count": 41,
     "metadata": {},
     "output_type": "execute_result"
    }
   ],
   "source": [
    "victime.shape"
   ]
  },
  {
   "cell_type": "code",
   "execution_count": null,
   "metadata": {},
   "outputs": [],
   "source": []
  },
  {
   "cell_type": "code",
   "execution_count": null,
   "metadata": {},
   "outputs": [],
   "source": []
  },
  {
   "cell_type": "code",
   "execution_count": null,
   "metadata": {},
   "outputs": [],
   "source": []
  },
  {
   "cell_type": "code",
   "execution_count": 42,
   "metadata": {},
   "outputs": [
    {
     "ename": "NameError",
     "evalue": "name 'dq' is not defined",
     "output_type": "error",
     "traceback": [
      "\u001b[1;31m---------------------------------------------------------------------\u001b[0m",
      "\u001b[1;31mNameError\u001b[0m                           Traceback (most recent call last)",
      "\u001b[1;32m<ipython-input-42-8c30d86ce6dc>\u001b[0m in \u001b[0;36m<module>\u001b[1;34m\u001b[0m\n\u001b[1;32m----> 1\u001b[1;33m \u001b[0mdq\u001b[0m\u001b[1;33m\u001b[0m\u001b[1;33m\u001b[0m\u001b[0m\n\u001b[0m",
      "\u001b[1;31mNameError\u001b[0m: name 'dq' is not defined"
     ]
    }
   ],
   "source": [
    "dq"
   ]
  },
  {
   "cell_type": "markdown",
   "metadata": {},
   "source": [
    "### Create a Test Set"
   ]
  },
  {
   "cell_type": "code",
   "execution_count": null,
   "metadata": {},
   "outputs": [],
   "source": [
    "import numpy as np\n",
    "from sklearn.model_selection import train_test_split\n",
    "train_set, test_set = train_test_split(ecl, test_size=0.2, random_state=42)\n",
    "\n",
    "print(len(train_set))\n",
    "len(test_set)"
   ]
  },
  {
   "cell_type": "markdown",
   "metadata": {},
   "source": [
    "**Ensure that the test set is representative of the various categories in the whole dataset**"
   ]
  },
  {
   "cell_type": "markdown",
   "metadata": {},
   "source": [
    "Suppose you want to ensure that the test set is representative of the various categories of incomes in the whole dataset.\n",
    "Since the median income is a continuous numerical attribute, you first need to create an income category attribute.\n",
    "The following code uses the pd.cut() function to create an income category attribute with 5 categories (labeled from 1 to 5): category 1 ranges from 0 to 1.5 (i.e., less than $15,000), category 2 from 1.5 to 3, and so on."
   ]
  },
  {
   "cell_type": "code",
   "execution_count": null,
   "metadata": {},
   "outputs": [],
   "source": [
    "ecl[\"income_cat\"] = pd.cut(ecl[\"median_income\"],bins=[0., 1.5, 3.0, 4.5, 6., np.inf], labels=[1, 2, 3, 4, 5])\n",
    "\n",
    "ecl[\"income_cat\"].hist(bins=15)"
   ]
  },
  {
   "cell_type": "markdown",
   "metadata": {},
   "source": [
    "Now you are ready to do stratified sampling based on the income category. For this you can use Scikit-Learn’s StratifiedShuffleSplit class."
   ]
  },
  {
   "cell_type": "code",
   "execution_count": null,
   "metadata": {},
   "outputs": [],
   "source": [
    "from sklearn.model_selection import StratifiedShuffleSplit\n",
    "split = StratifiedShuffleSplit(n_splits=1, test_size=0.2, random_state=42)\n",
    "\n",
    "for train_index, test_index in split.split(ecl, ecl[\"income_cat\"]):\n",
    "    strat_train_set = ecl.loc[train_index]\n",
    "    strat_test_set = ecl.loc[test_index]\n",
    "\n",
    "#check\n",
    "strat_test_set[\"income_cat\"].value_counts() / len(strat_test_set)"
   ]
  },
  {
   "cell_type": "code",
   "execution_count": null,
   "metadata": {},
   "outputs": [],
   "source": [
    "# as compared to:\n",
    "ecl[\"income_cat\"].value_counts() / len(ecl)"
   ]
  },
  {
   "cell_type": "code",
   "execution_count": null,
   "metadata": {},
   "outputs": [],
   "source": [
    "# as compared to:\n",
    "train_set, test_set = train_test_split(ecl, test_size=0.2, random_state=42)\n",
    "test_set[\"income_cat\"].value_counts() / len(test_set)"
   ]
  },
  {
   "cell_type": "markdown",
   "metadata": {},
   "source": [
    "As you can see, the test set generated using stratified sampling has income category proportions almost identical to those in the full dataset, whereas thetest set generated using purely random sampling is quite skewed.\n",
    "Now let's remove the income_cat attribute so the data is back to its original state."
   ]
  },
  {
   "cell_type": "code",
   "execution_count": null,
   "metadata": {},
   "outputs": [],
   "source": [
    "for set_ in (strat_train_set, strat_test_set):\n",
    "    set_.drop(\"income_cat\", axis=1, inplace=True)"
   ]
  },
  {
   "cell_type": "markdown",
   "metadata": {},
   "source": [
    "### Discover and Visualize the Data to Gain Insights"
   ]
  },
  {
   "cell_type": "code",
   "execution_count": null,
   "metadata": {},
   "outputs": [],
   "source": [
    "strat_train_set.shape"
   ]
  },
  {
   "cell_type": "code",
   "execution_count": null,
   "metadata": {},
   "outputs": [],
   "source": [
    "strat_test_set.shape"
   ]
  },
  {
   "cell_type": "code",
   "execution_count": null,
   "metadata": {},
   "outputs": [],
   "source": [
    "ecl = strat_train_set.copy()"
   ]
  },
  {
   "cell_type": "code",
   "execution_count": null,
   "metadata": {},
   "outputs": [],
   "source": [
    "ecl.plot(kind=\"scatter\", x=\"longitude\", y=\"latitude\")"
   ]
  },
  {
   "cell_type": "code",
   "execution_count": null,
   "metadata": {},
   "outputs": [],
   "source": [
    "ecl.plot(kind=\"scatter\", x=\"longitude\", y=\"latitude\", alpha=0.1)"
   ]
  },
  {
   "cell_type": "code",
   "execution_count": null,
   "metadata": {},
   "outputs": [],
   "source": [
    "ecl.plot(kind=\"scatter\", x=\"longitude\", y=\"latitude\", alpha=0.4,\n",
    " s=ecl[\"population\"]/100, label=\"population\", figsize=(10,7),\n",
    " c=\"median_house_value\", cmap=plt.get_cmap(\"jet\"), colorbar=True,\n",
    ")\n",
    "plt.legend()"
   ]
  },
  {
   "cell_type": "markdown",
   "metadata": {},
   "source": [
    "### Creating Useful New Attribute Combinations"
   ]
  },
  {
   "cell_type": "code",
   "execution_count": null,
   "metadata": {},
   "outputs": [],
   "source": [
    "ecl[\"rooms_per_household\"] = ecl[\"total_rooms\"]/ecl[\"households\"]\n",
    "ecl[\"bedrooms_per_room\"] = ecl[\"total_bedrooms\"]/ecl[\"total_rooms\"]\n",
    "ecl[\"population_per_household\"] = ecl[\"population\"]/ecl[\"households\"]\n",
    "\n",
    "ecl.corr()[\"median_house_value\"].sort_values(ascending=False)"
   ]
  },
  {
   "cell_type": "markdown",
   "metadata": {},
   "source": [
    "Hey, not bad! Our new attributes are much more correlated with our target attribute than the old ones."
   ]
  },
  {
   "cell_type": "markdown",
   "metadata": {},
   "source": [
    "### Custom Transformers"
   ]
  },
  {
   "cell_type": "markdown",
   "metadata": {},
   "source": [
    "Although Scikit-Learn provides many useful transformers, you will need to write your own for tasks such as custom cleanup operations or combining specific attributes.\n",
    "\n",
    "In the example below the transformer has one hyperparameter, add_bedrooms_per_room, set to True by default. \n",
    "More generally, you should add a hyperparameter to gate any data preparation step that you are not 100% sure about. \n",
    "The more you automate these data preparation steps, the more combinations you can automatically try out, making it much more likely that you will find a great combination (and saving you a lot of time)."
   ]
  },
  {
   "cell_type": "code",
   "execution_count": null,
   "metadata": {},
   "outputs": [],
   "source": [
    "from sklearn.base import BaseEstimator, TransformerMixin\n",
    "rooms_ix, bedrooms_ix, population_ix, households_ix = 3, 4, 5, 6\n",
    "\n",
    "class CombinedAttributesAdder(BaseEstimator, TransformerMixin):\n",
    "    def __init__(self, add_bedrooms_per_room = True): # no *args or **kargs\n",
    "        self.add_bedrooms_per_room = add_bedrooms_per_room\n",
    "    def fit(self, X, y=None):\n",
    "        return self # nothing else to do\n",
    "    def transform(self, X, y=None):\n",
    "        rooms_per_household = X[:, rooms_ix] / X[:, households_ix]\n",
    "        population_per_household = X[:, population_ix] / X[:, households_ix]\n",
    "        if self.add_bedrooms_per_room:\n",
    "            bedrooms_per_room = X[:, bedrooms_ix] / X[:, rooms_ix]\n",
    "            return np.c_[X, rooms_per_household, population_per_household, bedrooms_per_room]\n",
    "        else:\n",
    "             return np.c_[X, rooms_per_household, population_per_household]\n",
    "        \n",
    "attr_adder = CombinedAttributesAdder(add_bedrooms_per_room=False)\n",
    "ecl_extra_attribs = attr_adder.transform(ecl.values)"
   ]
  },
  {
   "cell_type": "markdown",
   "metadata": {},
   "source": [
    "### Feature Scaling"
   ]
  },
  {
   "cell_type": "markdown",
   "metadata": {},
   "source": [
    "With few exceptions, Machine Learning algorithms don’t perform well when the input numerical attributes have very different scales. This is the case for the ecl data: the total number of rooms ranges from about 6 to 39,320, while the median incomes only range from 0 to 15.\n",
    "\n",
    "Note that scaling the target values is generally NOT required. \n",
    "\n",
    "There are two common ways to get all attributes to have the same scale: min-max scaling/normalization and standardization.\n",
    "Normalization is quite simple: values are shifted and rescaled so that they end up ranging from 0 to 1. Scikit-Learn provides a\n",
    "transformer called MinMaxScaler for this.\n",
    "Standardization is quite different: first it subtracts the mean value (so standardized values always have a zero mean), and then it divides by the standard deviation so that the resulting distribution has unit variance.\n"
   ]
  },
  {
   "cell_type": "markdown",
   "metadata": {},
   "source": [
    "### Transformation Pipelines"
   ]
  },
  {
   "cell_type": "markdown",
   "metadata": {},
   "source": [
    "As you can see, there are many data transformation steps that need to be executed in the right order. Fortunately, Scikit-Learn provides the Pipeline class to help with\n",
    "such sequences of transformations."
   ]
  },
  {
   "cell_type": "code",
   "execution_count": null,
   "metadata": {},
   "outputs": [],
   "source": [
    "from sklearn.pipeline import Pipeline\n",
    "from sklearn.preprocessing import StandardScaler\n",
    "num_pipeline = Pipeline([\n",
    "     ('imputer', SimpleImputer(strategy=\"median\")),\n",
    "     ('attribs_adder', CombinedAttributesAdder()),\n",
    "     ('std_scaler', StandardScaler())\n",
    "     ])\n",
    "ecl_num_tr = num_pipeline.fit_transform(ecl_num)"
   ]
  },
  {
   "cell_type": "markdown",
   "metadata": {},
   "source": [
    "The Pipeline constructor defines a sequence of steps. All but the last estimator must be transformers (i.e., they must have a\n",
    "fit_transform() method).\n",
    "When you call the pipeline’s fit() method, it calls fit_transform() sequentially on all transformers, passing the output of each call as the parameter to the next call, until it reaches the final estimator, for which it just calls the fit() method."
   ]
  },
  {
   "cell_type": "code",
   "execution_count": null,
   "metadata": {},
   "outputs": [],
   "source": [
    "pd.DataFrame(ecl_num_tr)"
   ]
  },
  {
   "cell_type": "code",
   "execution_count": null,
   "metadata": {},
   "outputs": [],
   "source": [
    "from sklearn.compose import ColumnTransformer\n",
    "num_attribs = list(ecl_num)\n",
    "cat_attribs = [\"ocean_proximity\"]\n",
    "full_pipeline = ColumnTransformer([\n",
    " (\"num\", num_pipeline, num_attribs),\n",
    " (\"cat\", OneHotEncoder(), cat_attribs),\n",
    " ])\n",
    "ecl_prepared = full_pipeline.fit_transform(ecl)"
   ]
  },
  {
   "cell_type": "code",
   "execution_count": null,
   "metadata": {},
   "outputs": [],
   "source": [
    "ecl_prepared.shape"
   ]
  },
  {
   "cell_type": "markdown",
   "metadata": {},
   "source": [
    "Returns arrays"
   ]
  },
  {
   "cell_type": "markdown",
   "metadata": {},
   "source": [
    "### Select and Train a Model"
   ]
  },
  {
   "cell_type": "code",
   "execution_count": null,
   "metadata": {},
   "outputs": [],
   "source": [
    "from sklearn.linear_model import LinearRegression\n",
    "lin_reg = LinearRegression()\n",
    "lin_reg.fit(ecl_prepared, ecl_labels)"
   ]
  },
  {
   "cell_type": "code",
   "execution_count": null,
   "metadata": {},
   "outputs": [],
   "source": [
    "some_data = ecl.iloc[:5]\n",
    "some_labels = ecl_labels.iloc[:5]\n",
    "some_data_prepared = full_pipeline.transform(some_data)\n",
    "print(\"Predictions:\", lin_reg.predict(some_data_prepared))\n",
    "print(\"Labels:\", list(some_labels))"
   ]
  },
  {
   "cell_type": "code",
   "execution_count": null,
   "metadata": {},
   "outputs": [],
   "source": [
    "from sklearn.metrics import mean_squared_error\n",
    "ecl_predictions = lin_reg.predict(ecl_prepared)\n",
    "lin_mse = mean_squared_error(ecl_labels, ecl_predictions)\n",
    "lin_rmse = np.sqrt(lin_mse)\n",
    "lin_rmse"
   ]
  },
  {
   "cell_type": "markdown",
   "metadata": {},
   "source": [
    "Okay, this is better than nothing but clearly not a great score: most districts’ median_ecl_values range between $120,000 and $265,000, so a typical prediction error of $68,628 is not very satisfying. This is an example of a model underfitting the training data.\n",
    "When this happens it can mean that the features do not provide enough information to make good predictions, or that the model is not powerful enough. \n",
    "As we saw in the previous chapter, the main ways to fix underfitting are to select a more powerful model, to feed the training algorithm with better features, or to reduce the constraints on the model. This model is not regularized, so this rules out the last option. You could try to add more features (e.g., the log of the population), but first let’s try a more complex model to see how it does."
   ]
  },
  {
   "cell_type": "code",
   "execution_count": null,
   "metadata": {},
   "outputs": [],
   "source": [
    "from sklearn.tree import DecisionTreeRegressor\n",
    "tree_reg = DecisionTreeRegressor()\n",
    "tree_reg.fit(ecl_prepared, ecl_labels)\n",
    "\n",
    "ecl_predictions = tree_reg.predict(ecl_prepared)\n",
    "tree_mse = mean_squared_error(ecl_labels, ecl_predictions)\n",
    "tree_rmse = np.sqrt(tree_mse)\n",
    "tree_rmse"
   ]
  },
  {
   "cell_type": "markdown",
   "metadata": {},
   "source": [
    "Wait, what!? No error at all? Could this model really be absolutely perfect? Of course,\n",
    "it is much more likely that the model has badly overfit the data. How can you be sure?\n",
    "As we saw earlier, you don’t want to touch the test set until you are ready to launch a\n",
    "model you are confident about, so you need to use part of the training set for train‐\n",
    "ing, and part for model validation.\n"
   ]
  },
  {
   "cell_type": "markdown",
   "metadata": {},
   "source": [
    "### Better Evaluation Using Cross-Validation"
   ]
  },
  {
   "cell_type": "markdown",
   "metadata": {},
   "source": [
    "The following code randomly splits the training set into 10 distinct subsets called folds, then it\n",
    "trains and evaluates the Decision Tree model 10 times, picking a different fold for evaluation every time and training on the other 9 folds. The result is an array containing the 10 evaluation scores:"
   ]
  },
  {
   "cell_type": "code",
   "execution_count": null,
   "metadata": {},
   "outputs": [],
   "source": [
    "from sklearn.model_selection import cross_val_score\n",
    "scores = cross_val_score(tree_reg, ecl_prepared, ecl_labels, scoring=\"neg_mean_squared_error\", cv=10)\n",
    "tree_rmse_scores = np.sqrt(-scores)\n",
    "\n",
    "def display_scores(scores):\n",
    "    print(\"Scores:\", scores)\n",
    "    print(\"Mean:\", scores.mean())\n",
    "    print(\"Standard deviation:\", scores.std())\n",
    "display_scores(tree_rmse_scores)"
   ]
  },
  {
   "cell_type": "code",
   "execution_count": null,
   "metadata": {},
   "outputs": [],
   "source": [
    "lin_scores = cross_val_score(lin_reg, ecl_prepared, ecl_labels,scoring=\"neg_mean_squared_error\", cv=10)\n",
    "lin_rmse_scores = np.sqrt(-lin_scores)\n",
    "display_scores(lin_rmse_scores)"
   ]
  },
  {
   "cell_type": "markdown",
   "metadata": {},
   "source": [
    "That’s right: the Decision Tree model is overfitting so badly that it performs worse\n",
    "than the Linear Regression model."
   ]
  },
  {
   "cell_type": "code",
   "execution_count": null,
   "metadata": {},
   "outputs": [],
   "source": [
    "ecl_prepared.shape\n"
   ]
  },
  {
   "cell_type": "code",
   "execution_count": null,
   "metadata": {},
   "outputs": [],
   "source": [
    "ecl_labels.shape"
   ]
  },
  {
   "cell_type": "code",
   "execution_count": null,
   "metadata": {},
   "outputs": [],
   "source": [
    "from sklearn.ensemble import RandomForestRegressor\n",
    "forest_reg = RandomForestRegressor(n_jobs=-1)\n",
    "forest_reg.fit(ecl_prepared, ecl_labels)\n",
    "eclpred = forest_reg.predict(ecl_prepared)\n",
    "forest_mse = mean_squared_error(ecl_labels, eclpred)\n",
    "forest_rmse = np.sqrt(forest_mse)"
   ]
  },
  {
   "cell_type": "code",
   "execution_count": null,
   "metadata": {},
   "outputs": [],
   "source": [
    "forest_scores = cross_val_score(forest_reg, ecl_prepared, ecl_labels,scoring=\"neg_mean_squared_error\", cv=10, verbose=10, n_jobs=-1)\n",
    "forest_rmse_scores = np.sqrt(-forest_scores)\n",
    "display_scores(forest_rmse_scores)"
   ]
  },
  {
   "cell_type": "markdown",
   "metadata": {},
   "source": [
    "Wow, this is much better: Random Forests look very promising. However, note that\n",
    "the score on the training set is still much lower than on the validation sets, meaning\n",
    "that the model is still overfitting the training set"
   ]
  },
  {
   "cell_type": "code",
   "execution_count": null,
   "metadata": {},
   "outputs": [],
   "source": []
  },
  {
   "cell_type": "code",
   "execution_count": null,
   "metadata": {},
   "outputs": [],
   "source": [
    "import joblib\n",
    "joblib.dump(forest_reg, \"my_model.pkl\")\n",
    "#\n",
    "#my_model_loaded = joblib.load(\"my_model.pkl\")"
   ]
  },
  {
   "cell_type": "code",
   "execution_count": null,
   "metadata": {},
   "outputs": [],
   "source": [
    "from sklearn.model_selection import GridSearchCV\n",
    "param_grid = [ {'n_estimators': [3, 10, 30], 'max_features': [2, 4, 6, 8]},\n",
    "               {'bootstrap': [False],'n_estimators': [3, 10], 'max_features': [2, 3, 4]} ]\n",
    "forest_reg = RandomForestRegressor()\n",
    "grid_search = GridSearchCV(forest_reg, param_grid, cv=5, scoring='neg_mean_squared_error',return_train_score=True)\n",
    "grid_search.fit(ecl_prepared, ecl_labels)"
   ]
  },
  {
   "cell_type": "code",
   "execution_count": null,
   "metadata": {},
   "outputs": [],
   "source": [
    "grid_search.best_estimator_"
   ]
  },
  {
   "cell_type": "code",
   "execution_count": null,
   "metadata": {},
   "outputs": [],
   "source": [
    "grid_search.best_params_"
   ]
  },
  {
   "cell_type": "code",
   "execution_count": null,
   "metadata": {},
   "outputs": [],
   "source": [
    "cvres = grid_search.cv_results_\n",
    "for mean_score, params in zip(cvres[\"mean_test_score\"], cvres[\"params\"]):\n",
    "    print(np.sqrt(-mean_score), params)"
   ]
  },
  {
   "cell_type": "code",
   "execution_count": null,
   "metadata": {},
   "outputs": [],
   "source": [
    "feature_importances = grid_search.best_estimator_.feature_importances_\n",
    "feature_importances"
   ]
  },
  {
   "cell_type": "code",
   "execution_count": null,
   "metadata": {},
   "outputs": [],
   "source": [
    "extra_attribs = [\"rooms_per_hhold\", \"pop_per_hhold\", \"bedrooms_per_room\"]\n",
    "cat_encoder = full_pipeline.named_transformers_[\"cat\"]\n",
    "cat_one_hot_attribs = list(cat_encoder.categories_[0])\n",
    "attributes = num_attribs + extra_attribs + cat_one_hot_attribs\n",
    "sorted(zip(feature_importances, attributes), reverse=True)"
   ]
  },
  {
   "cell_type": "markdown",
   "metadata": {},
   "source": [
    "### Evaluate Your System on the Test Set"
   ]
  },
  {
   "cell_type": "code",
   "execution_count": null,
   "metadata": {},
   "outputs": [],
   "source": [
    "final_model = grid_search.best_estimator_\n",
    "X_test = strat_test_set.drop(\"median_house_value\", axis=1)\n",
    "y_test = strat_test_set[\"median_house_value\"].copy()\n",
    "X_test_prepared = full_pipeline.transform(X_test)\n",
    "final_predictions = final_model.predict(X_test_prepared)\n",
    "final_mse = mean_squared_error(y_test, final_predictions)\n",
    "final_rmse = np.sqrt(final_mse)\n",
    "final_rmse"
   ]
  },
  {
   "cell_type": "code",
   "execution_count": null,
   "metadata": {},
   "outputs": [],
   "source": [
    "from scipy import stats\n",
    "confidence = 0.95\n",
    "squared_errors = (final_predictions - y_test) ** 2\n",
    "np.sqrt(stats.t.interval(confidence, len(squared_errors) - 1, loc=squared_errors.mean(), scale=stats.sem(squared_errors)))\n"
   ]
  },
  {
   "cell_type": "code",
   "execution_count": null,
   "metadata": {},
   "outputs": [],
   "source": []
  },
  {
   "cell_type": "code",
   "execution_count": null,
   "metadata": {},
   "outputs": [],
   "source": []
  },
  {
   "cell_type": "code",
   "execution_count": null,
   "metadata": {},
   "outputs": [],
   "source": []
  },
  {
   "cell_type": "code",
   "execution_count": null,
   "metadata": {},
   "outputs": [],
   "source": []
  },
  {
   "cell_type": "code",
   "execution_count": null,
   "metadata": {},
   "outputs": [],
   "source": []
  },
  {
   "cell_type": "code",
   "execution_count": null,
   "metadata": {},
   "outputs": [],
   "source": []
  },
  {
   "cell_type": "code",
   "execution_count": null,
   "metadata": {},
   "outputs": [],
   "source": []
  },
  {
   "cell_type": "code",
   "execution_count": null,
   "metadata": {},
   "outputs": [],
   "source": []
  }
 ],
 "metadata": {
  "kernelspec": {
   "display_name": "Python 3",
   "language": "python",
   "name": "python3"
  },
  "language_info": {
   "codemirror_mode": {
    "name": "ipython",
    "version": 3
   },
   "file_extension": ".py",
   "mimetype": "text/x-python",
   "name": "python",
   "nbconvert_exporter": "python",
   "pygments_lexer": "ipython3",
   "version": "3.8.5"
  }
 },
 "nbformat": 4,
 "nbformat_minor": 4
}
