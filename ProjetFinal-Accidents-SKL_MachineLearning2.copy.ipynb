{
 "cells": [
  {
   "cell_type": "markdown",
   "metadata": {},
   "source": [
    "## Final Project - Road Accidents in France in 2019\n",
    "## N°1 / SKLEARN"
   ]
  },
  {
   "cell_type": "code",
   "execution_count": 1,
   "metadata": {},
   "outputs": [],
   "source": [
    "import os\n",
    "import pandas as pd\n",
    "import numpy as np\n",
    "import matplotlib.pyplot as plt\n",
    "%matplotlib inline \n",
    "import seaborn as sns\n",
    "import joblib\n",
    "\n",
    "import sklearn\n",
    "from sklearn import svm\n",
    "from sklearn.svm import SVC\n",
    "from sklearn.linear_model import LogisticRegression, Perceptron\n",
    "from sklearn.ensemble import RandomForestClassifier, GradientBoostingClassifier, ExtraTreesClassifier\n",
    "from sklearn.model_selection import train_test_split, GridSearchCV, cross_val_score\n",
    "from sklearn.neural_network import MLPClassifier\n",
    "from sklearn.metrics import balanced_accuracy_score\n",
    "\n",
    "from imblearn.ensemble import BalancedRandomForestClassifier, BalancedBaggingClassifier, RUSBoostClassifier, EasyEnsembleClassifier\n"
   ]
  },
  {
   "cell_type": "markdown",
   "metadata": {},
   "source": [
    "### Import des fichiers de données"
   ]
  },
  {
   "cell_type": "code",
   "execution_count": 2,
   "metadata": {},
   "outputs": [],
   "source": [
    "acc = pd.read_csv('../Final-Project/data/victime_clean_dummies.csv')"
   ]
  },
  {
   "cell_type": "code",
   "execution_count": 3,
   "metadata": {},
   "outputs": [
    {
     "data": {
      "text/plain": [
       "(130901, 141)"
      ]
     },
     "execution_count": 3,
     "metadata": {},
     "output_type": "execute_result"
    }
   ],
   "source": [
    "acc.shape"
   ]
  },
  {
   "cell_type": "markdown",
   "metadata": {},
   "source": [
    "## Machine Learning"
   ]
  },
  {
   "cell_type": "code",
   "execution_count": 4,
   "metadata": {},
   "outputs": [],
   "source": [
    "from sklearn.model_selection import train_test_split\n",
    "y = acc.pop('grav')\n",
    "X = acc"
   ]
  },
  {
   "cell_type": "code",
   "execution_count": 5,
   "metadata": {},
   "outputs": [],
   "source": [
    "# Pour l'évaluation des modèles, nous utiliserons le score de Balanced Accuracy (\"exactitude pondérée\") \n",
    "# plutôt que le score d'Accuracy, car nos classes cibles sont de tailles respectives déséquilibrées. \n",
    "\n",
    "def display_scores(scores):\n",
    "    print(\"Mean Balanced Accuracy Score:\", round(scores.mean(),3))\n",
    "    print(\"Standard deviation:\", round(scores.std(),5))"
   ]
  },
  {
   "cell_type": "markdown",
   "metadata": {},
   "source": [
    "#### Choix et Entraînement de divers modèles initialisés par défaut"
   ]
  },
  {
   "cell_type": "markdown",
   "metadata": {},
   "source": [
    "On essaie plusieurs modèles de classification, initialisés par défaut.\n",
    "https://scikit-learn.org/stable/modules/multiclass.html"
   ]
  },
  {
   "cell_type": "markdown",
   "metadata": {},
   "source": [
    "**Inherently Multiclass**"
   ]
  },
  {
   "cell_type": "code",
   "execution_count": 6,
   "metadata": {},
   "outputs": [],
   "source": [
    "##Premier modèle : RANDOM FOREST\n",
    "X_train, X_test, y_train, y_test = train_test_split(X, y, test_size=0.2)\n",
    "rf1 = RandomForestClassifier()"
   ]
  },
  {
   "cell_type": "code",
   "execution_count": 7,
   "metadata": {},
   "outputs": [
    {
     "name": "stdout",
     "output_type": "stream",
     "text": [
      "Mean Balanced Accuracy Score: 0.472\n",
      "Standard deviation: 0.0033728625888018835\n"
     ]
    }
   ],
   "source": [
    "# Cross-evaluation (Le jeu d'apprentissage est scindé en \"sous-jeux\", et l'apprentissage a lieu n fois d'affilée sur n-1 sous-jeux différents avec une évaluation sur le nème sous-jeu (\"pli de validation\").)\n",
    "rf1_scores = cross_val_score(rf1, X_train, y_train, scoring='balanced_accuracy', cv=5)\n",
    "display_scores(rf1_scores)"
   ]
  },
  {
   "cell_type": "code",
   "execution_count": 8,
   "metadata": {},
   "outputs": [],
   "source": [
    "# Modèle : EXTRA-TREES\n",
    "X_train, X_test, y_train, y_test = train_test_split(X, y, test_size=0.2)\n",
    "etc1 = ExtraTreesClassifier()"
   ]
  },
  {
   "cell_type": "code",
   "execution_count": 10,
   "metadata": {},
   "outputs": [
    {
     "name": "stdout",
     "output_type": "stream",
     "text": [
      "Mean Balanced Accuracy Score: 0.475\n",
      "Standard deviation: 0.004092551997902736\n"
     ]
    }
   ],
   "source": [
    "# Cross-evaluation (Le jeu d'apprentissage est scindé en \"sous-jeux\", et l'apprentissage a lieu n fois d'affilée sur n-1 sous-jeux différents avec une évaluation sur le nème sous-jeu (\"pli de validation\").)\n",
    "etc1_scores = cross_val_score(etc1, X_train, y_train, scoring='balanced_accuracy', cv=5)\n",
    "display_scores(etc1_scores)"
   ]
  },
  {
   "cell_type": "code",
   "execution_count": 11,
   "metadata": {},
   "outputs": [],
   "source": [
    "# Modèle : MULTI-LAYER PERCEPTRON\n",
    "X_train, X_test, y_train, y_test = train_test_split(X, y, test_size=0.2)\n",
    "mlp = MLPClassifier()"
   ]
  },
  {
   "cell_type": "code",
   "execution_count": 12,
   "metadata": {},
   "outputs": [
    {
     "name": "stderr",
     "output_type": "stream",
     "text": [
      "C:\\Users\\mailb\\Anaconda3\\lib\\site-packages\\sklearn\\neural_network\\_multilayer_perceptron.py:614: ConvergenceWarning: Stochastic Optimizer: Maximum iterations (200) reached and the optimization hasn't converged yet.\n",
      "  warnings.warn(\n",
      "C:\\Users\\mailb\\Anaconda3\\lib\\site-packages\\sklearn\\neural_network\\_multilayer_perceptron.py:614: ConvergenceWarning: Stochastic Optimizer: Maximum iterations (200) reached and the optimization hasn't converged yet.\n",
      "  warnings.warn(\n",
      "C:\\Users\\mailb\\Anaconda3\\lib\\site-packages\\sklearn\\neural_network\\_multilayer_perceptron.py:614: ConvergenceWarning: Stochastic Optimizer: Maximum iterations (200) reached and the optimization hasn't converged yet.\n",
      "  warnings.warn(\n",
      "C:\\Users\\mailb\\Anaconda3\\lib\\site-packages\\sklearn\\neural_network\\_multilayer_perceptron.py:614: ConvergenceWarning: Stochastic Optimizer: Maximum iterations (200) reached and the optimization hasn't converged yet.\n",
      "  warnings.warn(\n",
      "C:\\Users\\mailb\\Anaconda3\\lib\\site-packages\\sklearn\\neural_network\\_multilayer_perceptron.py:619: UserWarning: Training interrupted by user.\n",
      "  warnings.warn(\"Training interrupted by user.\")\n"
     ]
    },
    {
     "name": "stdout",
     "output_type": "stream",
     "text": [
      "Mean Balanced Accuracy Score: 0.478\n",
      "Standard deviation: 0.008951767888773032\n"
     ]
    }
   ],
   "source": [
    "# Cross-evaluation (Le jeu d'apprentissage est scindé en \"sous-jeux\", et l'apprentissage a lieu n fois d'affilée sur n-1 sous-jeux différents avec une évaluation sur le nème sous-jeu (\"pli de validation\").)\n",
    "mlp_scores = cross_val_score(mlp, X_train, y_train, scoring='balanced_accuracy', cv=5)\n",
    "display_scores(mlp_scores)"
   ]
  },
  {
   "cell_type": "code",
   "execution_count": 21,
   "metadata": {},
   "outputs": [],
   "source": [
    "# Modèle : GRADIENT BOOSTING\n",
    "X_train, X_test, y_train, y_test = train_test_split(X, y, test_size=0.2)\n",
    "gbc1 = GradientBoostingClassifier()"
   ]
  },
  {
   "cell_type": "code",
   "execution_count": 22,
   "metadata": {},
   "outputs": [
    {
     "name": "stdout",
     "output_type": "stream",
     "text": [
      "Mean Balanced Accuracy Score: 0.45\n",
      "Standard deviation: 0.006637171832434143\n"
     ]
    }
   ],
   "source": [
    "# Cross-evaluation (Le jeu d'apprentissage est scindé en \"sous-jeux\", et l'apprentissage a lieu n fois d'affilée sur n-1 sous-jeux différents avec une évaluation sur le nème sous-jeu (\"pli de validation\").)\n",
    "gbc1_scores = cross_val_score(gbc1, X_train, y_train, scoring='balanced_accuracy', cv=5)\n",
    "display_scores(gbc1_scores)"
   ]
  },
  {
   "cell_type": "code",
   "execution_count": 23,
   "metadata": {},
   "outputs": [],
   "source": [
    "# Modèle : LOGISTIC REGRESSION (MULTI-CLASS)\n",
    "X_train, X_test, y_train, y_test = train_test_split(X, y, test_size=0.2)\n",
    "logreg1 = LogisticRegression(multi_class= \"multinomial\", max_iter=10000)"
   ]
  },
  {
   "cell_type": "code",
   "execution_count": 24,
   "metadata": {},
   "outputs": [
    {
     "name": "stdout",
     "output_type": "stream",
     "text": [
      "Mean Balanced Accuracy Score: 0.457\n",
      "Standard deviation: 0.003177029661972765\n"
     ]
    }
   ],
   "source": [
    "# Cross-evaluation (Le jeu d'apprentissage est scindé en \"sous-jeux\", et l'apprentissage a lieu n fois d'affilée sur n-1 sous-jeux différents avec une évaluation sur le nème sous-jeu (\"pli de validation\").)\n",
    "logreg1_scores = cross_val_score(logreg1, X_train, y_train, scoring='balanced_accuracy', cv=5)\n",
    "display_scores(logreg1_scores)"
   ]
  },
  {
   "cell_type": "markdown",
   "metadata": {},
   "source": [
    "**Multiclass as One-Vs-The-Rest**"
   ]
  },
  {
   "cell_type": "code",
   "execution_count": 25,
   "metadata": {},
   "outputs": [],
   "source": [
    "# Modèle : Multiclass as One-Vs-The-Rest / PERCEPTRON\n",
    "X_train, X_test, y_train, y_test = train_test_split(X, y, test_size=0.2)\n",
    "pclf = Perceptron()"
   ]
  },
  {
   "cell_type": "code",
   "execution_count": 26,
   "metadata": {},
   "outputs": [
    {
     "name": "stdout",
     "output_type": "stream",
     "text": [
      "Mean Balanced Accuracy Score: 0.391\n",
      "Standard deviation: 0.03656106522928551\n"
     ]
    }
   ],
   "source": [
    "# Cross-evaluation (Le jeu d'apprentissage est scindé en \"sous-jeux\", et l'apprentissage a lieu n fois d'affilée sur n-1 sous-jeux différents avec une évaluation sur le nème sous-jeu (\"pli de validation\").)\n",
    "pclf_scores = cross_val_score(pclf, X_train, y_train, scoring='balanced_accuracy', cv=5)\n",
    "display_scores(pclf_scores)"
   ]
  },
  {
   "cell_type": "markdown",
   "metadata": {},
   "source": [
    "**Multiclass as One-Vs-One**"
   ]
  },
  {
   "cell_type": "code",
   "execution_count": 27,
   "metadata": {},
   "outputs": [],
   "source": [
    "# Modèle : SVM SVC\n",
    "X_train, X_test, y_train, y_test = train_test_split(X, y, test_size=0.2)\n",
    "svmsvc = svm.SVC()"
   ]
  },
  {
   "cell_type": "code",
   "execution_count": 28,
   "metadata": {},
   "outputs": [
    {
     "name": "stdout",
     "output_type": "stream",
     "text": [
      "Mean Balanced Accuracy Score: 0.37\n",
      "Standard deviation: 0.002051391220954859\n"
     ]
    }
   ],
   "source": [
    "# Cross-evaluation (Le jeu d'apprentissage est scindé en \"sous-jeux\", et l'apprentissage a lieu n fois d'affilée sur n-1 sous-jeux différents avec une évaluation sur le nème sous-jeu (\"pli de validation\").)\n",
    "svmsvc_scores = cross_val_score(svmsvc, X_train, y_train, scoring='balanced_accuracy', cv=5)\n",
    "display_scores(svmsvc_scores)"
   ]
  },
  {
   "cell_type": "markdown",
   "metadata": {},
   "source": [
    "Dans un second fichier, on utilisera la solution proposée par le module imblearn.ensemble : des modèles d'ensembles destinés aux classes déséquilibrées."
   ]
  },
  {
   "cell_type": "code",
   "execution_count": 29,
   "metadata": {},
   "outputs": [
    {
     "data": {
      "text/html": [
       "<style  type=\"text/css\" >\n",
       "</style><table id=\"T_d049a6fd_f7d4_11eb_86a5_b9cc9fbfc9f6\" ><thead>    <tr>        <th class=\"col_heading level0 col0\" >Model Name</th>        <th class=\"col_heading level0 col1\" >Balanced Accuracy on Train</th>    </tr></thead><tbody>\n",
       "                <tr>\n",
       "                                <td id=\"T_d049a6fd_f7d4_11eb_86a5_b9cc9fbfc9f6row0_col0\" class=\"data row0 col0\" >MULTI-LAYER PERCEPTRON</td>\n",
       "                        <td id=\"T_d049a6fd_f7d4_11eb_86a5_b9cc9fbfc9f6row0_col1\" class=\"data row0 col1\" >0.477549</td>\n",
       "            </tr>\n",
       "            <tr>\n",
       "                                <td id=\"T_d049a6fd_f7d4_11eb_86a5_b9cc9fbfc9f6row1_col0\" class=\"data row1 col0\" >EXTRA-TREES</td>\n",
       "                        <td id=\"T_d049a6fd_f7d4_11eb_86a5_b9cc9fbfc9f6row1_col1\" class=\"data row1 col1\" >0.475005</td>\n",
       "            </tr>\n",
       "            <tr>\n",
       "                                <td id=\"T_d049a6fd_f7d4_11eb_86a5_b9cc9fbfc9f6row2_col0\" class=\"data row2 col0\" >RANDOM FOREST</td>\n",
       "                        <td id=\"T_d049a6fd_f7d4_11eb_86a5_b9cc9fbfc9f6row2_col1\" class=\"data row2 col1\" >0.472273</td>\n",
       "            </tr>\n",
       "            <tr>\n",
       "                                <td id=\"T_d049a6fd_f7d4_11eb_86a5_b9cc9fbfc9f6row3_col0\" class=\"data row3 col0\" >LOGISTIC REGRESSION (MULTI-CLASS)</td>\n",
       "                        <td id=\"T_d049a6fd_f7d4_11eb_86a5_b9cc9fbfc9f6row3_col1\" class=\"data row3 col1\" >0.457220</td>\n",
       "            </tr>\n",
       "            <tr>\n",
       "                                <td id=\"T_d049a6fd_f7d4_11eb_86a5_b9cc9fbfc9f6row4_col0\" class=\"data row4 col0\" >GRADIENT BOOSTING</td>\n",
       "                        <td id=\"T_d049a6fd_f7d4_11eb_86a5_b9cc9fbfc9f6row4_col1\" class=\"data row4 col1\" >0.449952</td>\n",
       "            </tr>\n",
       "            <tr>\n",
       "                                <td id=\"T_d049a6fd_f7d4_11eb_86a5_b9cc9fbfc9f6row5_col0\" class=\"data row5 col0\" >PERCEPTRON</td>\n",
       "                        <td id=\"T_d049a6fd_f7d4_11eb_86a5_b9cc9fbfc9f6row5_col1\" class=\"data row5 col1\" >0.390707</td>\n",
       "            </tr>\n",
       "            <tr>\n",
       "                                <td id=\"T_d049a6fd_f7d4_11eb_86a5_b9cc9fbfc9f6row6_col0\" class=\"data row6 col0\" >SVM.SVC</td>\n",
       "                        <td id=\"T_d049a6fd_f7d4_11eb_86a5_b9cc9fbfc9f6row6_col1\" class=\"data row6 col1\" >0.370407</td>\n",
       "            </tr>\n",
       "    </tbody></table>"
      ],
      "text/plain": [
       "<pandas.io.formats.style.Styler at 0x269410b0a60>"
      ]
     },
     "execution_count": 29,
     "metadata": {},
     "output_type": "execute_result"
    }
   ],
   "source": [
    "# Summary:\n",
    "\n",
    "scordict = { \"Model Name\":['RANDOM FOREST', 'EXTRA-TREES', 'MULTI-LAYER PERCEPTRON', 'GRADIENT BOOSTING','LOGISTIC REGRESSION (MULTI-CLASS)','PERCEPTRON','SVM.SVC'],\n",
    "            \"Balanced Accuracy on Train\": [rf1_scores.mean(), etc1_scores.mean(), mlp_scores.mean(), gbc1_scores.mean(), logreg1_scores.mean(), pclf_scores.mean(),svmsvc_scores.mean()]\n",
    "           }\n",
    "df_scores = pd.DataFrame(scordict)\n",
    "df_scores.sort_values(by='Balanced Accuracy on Train', ascending=False).style.hide_index()"
   ]
  },
  {
   "cell_type": "markdown",
   "metadata": {},
   "source": [
    "#### CONCLUSION\n",
    "\n",
    "Avec un score inférieur à 50% sur le jeu d'entraînement, tous les modèles par défaut sont décevants. On est dans l'\"underfit\" (sous-apprentissage)"
   ]
  },
  {
   "cell_type": "code",
   "execution_count": 30,
   "metadata": {},
   "outputs": [
    {
     "name": "stdout",
     "output_type": "stream",
     "text": [
      "Finished! Please see next file.\n"
     ]
    }
   ],
   "source": [
    "print('Finished! Please see next file.')"
   ]
  },
  {
   "cell_type": "code",
   "execution_count": null,
   "metadata": {},
   "outputs": [],
   "source": []
  }
 ],
 "metadata": {
  "kernelspec": {
   "display_name": "Python 3",
   "language": "python",
   "name": "python3"
  },
  "language_info": {
   "codemirror_mode": {
    "name": "ipython",
    "version": 3
   },
   "file_extension": ".py",
   "mimetype": "text/x-python",
   "name": "python",
   "nbconvert_exporter": "python",
   "pygments_lexer": "ipython3",
   "version": "3.8.5"
  }
 },
 "nbformat": 4,
 "nbformat_minor": 4
}
