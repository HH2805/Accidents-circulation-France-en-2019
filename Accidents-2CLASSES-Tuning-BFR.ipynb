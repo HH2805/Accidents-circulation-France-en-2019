{
 "cells": [
  {
   "cell_type": "markdown",
   "metadata": {},
   "source": [
    "## Final Project - Road Accidents in France in 2019\n",
    "## N°3 / Fine-Tuning de Balanced Random Forest"
   ]
  },
  {
   "cell_type": "code",
   "execution_count": 1,
   "metadata": {},
   "outputs": [],
   "source": [
    "import os\n",
    "import pandas as pd\n",
    "import numpy as np\n",
    "import joblib\n",
    "import sklearn\n",
    "from sklearn.model_selection import train_test_split, GridSearchCV, cross_val_score, RandomizedSearchCV\n",
    "from imblearn.ensemble import BalancedRandomForestClassifier, BalancedBaggingClassifier, RUSBoostClassifier, EasyEnsembleClassifier\n",
    "from sklearn.metrics import balanced_accuracy_score, accuracy_score"
   ]
  },
  {
   "cell_type": "markdown",
   "metadata": {},
   "source": [
    "### Import des fichiers de données"
   ]
  },
  {
   "cell_type": "code",
   "execution_count": 2,
   "metadata": {},
   "outputs": [
    {
     "data": {
      "text/plain": [
       "'C:\\\\Users\\\\mailb\\\\Documents_Administrateur\\\\Ironhack\\\\DA_BOOTCAMP\\\\3.Labs\\\\dataV2-labs\\\\module-3\\\\Final-Project'"
      ]
     },
     "execution_count": 2,
     "metadata": {},
     "output_type": "execute_result"
    }
   ],
   "source": [
    "os.getcwd()"
   ]
  },
  {
   "cell_type": "code",
   "execution_count": 3,
   "metadata": {},
   "outputs": [],
   "source": [
    "acc = pd.read_csv('../Final-Project/data/victml_clean_dummies_2CLASSES.csv')"
   ]
  },
  {
   "cell_type": "code",
   "execution_count": 4,
   "metadata": {},
   "outputs": [
    {
     "data": {
      "text/plain": [
       "(130901, 141)"
      ]
     },
     "execution_count": 4,
     "metadata": {},
     "output_type": "execute_result"
    }
   ],
   "source": [
    "acc.shape"
   ]
  },
  {
   "cell_type": "markdown",
   "metadata": {},
   "source": [
    "## Machine Learning"
   ]
  },
  {
   "cell_type": "code",
   "execution_count": 5,
   "metadata": {},
   "outputs": [],
   "source": [
    "y = acc.pop('grav')\n",
    "X = acc"
   ]
  },
  {
   "cell_type": "code",
   "execution_count": 6,
   "metadata": {},
   "outputs": [],
   "source": [
    "# Pour l'évaluation des modèles, nous utiliserons le score de Balanced Accuracy (\"exactitude pondérée\") \n",
    "# plutôt que le score d'Accuracy, car nos classes cibles sont de tailles respectives déséquilibrées. \n",
    "\n",
    "def display_scores(scores):\n",
    "    meansc = round(scores.mean(),3)\n",
    "    print(meansc)"
   ]
  },
  {
   "cell_type": "markdown",
   "metadata": {},
   "source": [
    "#### Fine-Tuning de Balanced Random Forest"
   ]
  },
  {
   "cell_type": "code",
   "execution_count": 7,
   "metadata": {},
   "outputs": [],
   "source": [
    "X_train, X_test, y_train, y_test = train_test_split(X, y, test_size=0.2)"
   ]
  },
  {
   "cell_type": "markdown",
   "metadata": {},
   "source": [
    "#### Réglage des Hyperparamètres avec RandomSearch"
   ]
  },
  {
   "cell_type": "markdown",
   "metadata": {},
   "source": [
    "Essayons d'améliorer le modèle Gradient Boosting en jouant sur ses hyper-paramètres."
   ]
  },
  {
   "cell_type": "code",
   "execution_count": 9,
   "metadata": {},
   "outputs": [
    {
     "name": "stderr",
     "output_type": "stream",
     "text": [
      "C:\\Users\\mailb\\Anaconda3\\lib\\site-packages\\sklearn\\model_selection\\_search.py:922: UserWarning: One or more of the test scores are non-finite: [0.79196316 0.78192466        nan 0.71698643 0.76845881 0.7605809\n",
      "        nan 0.71731629 0.7702071  0.75229914]\n",
      "  warnings.warn(\n"
     ]
    },
    {
     "data": {
      "text/plain": [
       "RandomizedSearchCV(estimator=BalancedRandomForestClassifier(), n_jobs=-1,\n",
       "                   param_distributions={'bootstrap': [True, False],\n",
       "                                        'max_depth': [2, 3, 10, 15, 20],\n",
       "                                        'max_features': ['sqrt', 'log2', 2, 50,\n",
       "                                                         141],\n",
       "                                        'min_samples_leaf': [1, 2, 4],\n",
       "                                        'min_samples_split': [2, 5, 10],\n",
       "                                        'n_estimators': [100, 200, 500, 1000,\n",
       "                                                         1500, 2000],\n",
       "                                        'random_state': [0, 42]},\n",
       "                   scoring='balanced_accuracy')"
      ]
     },
     "execution_count": 9,
     "metadata": {},
     "output_type": "execute_result"
    }
   ],
   "source": [
    "model = BalancedRandomForestClassifier()\n",
    "\n",
    "parameters = {\"bootstrap\": [True, False],\n",
    "              \"n_estimators\" : [100, 200, 500, 1000, 1500, 2000],\n",
    "              \"max_depth\"    : [2, 3, 10, 15, 20],\n",
    "              \"max_features\" : ['sqrt','log2',2,50,141],\n",
    "              \"random_state\" : [0, 42],\n",
    "              'min_samples_leaf': [1, 2, 4],\n",
    "              'min_samples_split': [2, 5, 10]\n",
    "              }\n",
    "\n",
    "randm = RandomizedSearchCV(model, parameters, n_jobs=-1, scoring = 'balanced_accuracy')\n",
    "randm.fit(X_train, y_train)"
   ]
  },
  {
   "cell_type": "code",
   "execution_count": 10,
   "metadata": {},
   "outputs": [
    {
     "data": {
      "text/plain": [
       "BalancedRandomForestClassifier(max_depth=20, max_features=50,\n",
       "                               min_samples_split=5, n_estimators=1500,\n",
       "                               random_state=42)"
      ]
     },
     "execution_count": 10,
     "metadata": {},
     "output_type": "execute_result"
    }
   ],
   "source": [
    "randm.best_estimator_"
   ]
  },
  {
   "cell_type": "code",
   "execution_count": 11,
   "metadata": {},
   "outputs": [
    {
     "name": "stdout",
     "output_type": "stream",
     "text": [
      "The mean cross-validated score of the best estimator is: 0.7919631647829775\n"
     ]
    }
   ],
   "source": [
    "print(f\"The mean cross-validated score of the best estimator is: {randm.best_score_}\")"
   ]
  },
  {
   "cell_type": "markdown",
   "metadata": {},
   "source": [
    "#### Evaluation Finale sur le Jeu de Test"
   ]
  },
  {
   "cell_type": "code",
   "execution_count": 12,
   "metadata": {},
   "outputs": [
    {
     "name": "stdout",
     "output_type": "stream",
     "text": [
      "Final Balanced Accuracy Score on Test Set = 0.785\n"
     ]
    }
   ],
   "source": [
    "final_model = randm.best_estimator_\n",
    "\n",
    "final_pred_test = final_model.predict(X_test)\n",
    "\n",
    "final_score_test = balanced_accuracy_score(y_test, final_pred_test)\n",
    "\n",
    "print(\"Final Balanced Accuracy Score on Test Set =\", round(final_score_test,3))"
   ]
  },
  {
   "cell_type": "markdown",
   "metadata": {},
   "source": [
    "#### Variables les plus importantes\n",
    "Etudions les variables qui sont plus déterminantes que les autres dans la classification par notre modèle."
   ]
  },
  {
   "cell_type": "code",
   "execution_count": 13,
   "metadata": {},
   "outputs": [
    {
     "data": {
      "text/plain": [
       "[(0.05609852351229347, 'type_veh_7'),\n",
       " (0.04713224707005582, 'type_route_3'),\n",
       " (0.04348311271837383, 'obst_mobile_IRLVT'),\n",
       " (0.0404320632016042, 'vitesse_autorisee'),\n",
       " (0.03434572645739244, 'agglo_2'),\n",
       " (0.030904598334980094, 'obst_fixe_IRLVT'),\n",
       " (0.029792256369172432, 'nb_voies'),\n",
       " (0.026950115715606675, 'type_veh_33'),\n",
       " (0.02356831075523367, 'type_circu_2'),\n",
       " (0.021243651427606817, 'type_veh_10'),\n",
       " (0.016513531028459868, 'obst_mobile_2'),\n",
       " (0.015102187612750399, 'dep_Nord Est'),\n",
       " (0.01385171281868869, 'dep_Sud Est'),\n",
       " (0.013844377222826687, 'type_usager_3'),\n",
       " (0.013801528522196333, 'loc_pieton_IRLVT'),\n",
       " (0.013670827464469728, 'type_veh_autre'),\n",
       " (0.01342673100866057, 'pieton_seul_IRLVT'),\n",
       " (0.01312729311522477, 'place_veh_10'),\n",
       " (0.012714116647623607, 'dep_Sud Ouest'),\n",
       " (0.012427470241164305, 'manoeuvre_veh_13'),\n",
       " (0.012108309711479475, 'situ_acc_3'),\n",
       " (0.01206977957847713, 'an_nais_Moins de 35 ans'),\n",
       " (0.010856617324914697, 'dep_Nord-Ouest'),\n",
       " (0.0104483219637275, 'type_veh_2'),\n",
       " (0.010106837982865253, 'num_veh_B01'),\n",
       " (0.009793931255756911, 'sexe_2'),\n",
       " (0.00901110291454815, 'sens_circu_IRLVT'),\n",
       " (0.00889851714465341, 'sens_circu_2'),\n",
       " (0.00877828198008194, 'collision_3'),\n",
       " (0.00876005333292011, 'type_route_4'),\n",
       " (0.008743657431588165, 'collision_6'),\n",
       " (0.00825776313810845, 'an_nais_36-75 ans'),\n",
       " (0.00821909150919025, 'collision_2'),\n",
       " (0.008165642268380348, 'type_usager_2'),\n",
       " (0.007572846573241482, 'intersection_IRLVT'),\n",
       " (0.007550591442649132, 'choc_2'),\n",
       " (0.007426145237973893, 'declivite_2'),\n",
       " (0.007264922846006203, 'choc_3'),\n",
       " (0.006973612982615232, 'surface_2'),\n",
       " (0.006943664341311442, 'choc_4'),\n",
       " (0.006834808719325398, 'lum_3'),\n",
       " (0.0065938966826221785, 'mois_6'),\n",
       " (0.006527306569492107, 'collision_IRLVT'),\n",
       " (0.006299123487942469, 'lum_5'),\n",
       " (0.006207334787139639, 'manoeuvre_veh_2'),\n",
       " (0.006189136308816462, 'mois_10'),\n",
       " (0.006185685159397598, 'place_veh_2'),\n",
       " (0.006181809590091308, 'mois_7'),\n",
       " (0.006118776239030732, 'mois_9'),\n",
       " (0.006036744609482116, 'meteo_2'),\n",
       " (0.006033022100699743, 'rectitude_3'),\n",
       " (0.005992081090325494, 'mois_8'),\n",
       " (0.005913631091615234, 'infrastructure_IRLVT'),\n",
       " (0.005907938704135749, 'rectitude_2'),\n",
       " (0.005849691496348453, 'mois_5'),\n",
       " (0.0057735098568566815, 'mois_3'),\n",
       " (0.005687550038423661, 'collision_4'),\n",
       " (0.005650526258360862, 'mois_12'),\n",
       " (0.005610013120246566, 'choc_8'),\n",
       " (0.005570255754506082, 'mois_11'),\n",
       " (0.005512378578530503, 'mois_4'),\n",
       " (0.00543947874460997, 'mois_2'),\n",
       " (0.005159186943432679, 'intersection_3'),\n",
       " (0.00514031942061355, 'choc_7'),\n",
       " (0.005103046191272841, 'manoeuvre_veh_15'),\n",
       " (0.005037649758391326, 'type_route_2'),\n",
       " (0.005019296277257376, 'type_veh_37'),\n",
       " (0.004974711219035771, 'lum_2'),\n",
       " (0.004916348653337587, 'type_circu_3'),\n",
       " (0.0047736729541013306, 'manoeuvre_veh_17'),\n",
       " (0.004354981224405705, 'choc_IRLVT'),\n",
       " (0.004294475025718029, 'collision_5'),\n",
       " (0.0042933526575165285, 'manoeuvre_veh_26'),\n",
       " (0.003905989660841062, 'infrastructure_5'),\n",
       " (0.0037666456924068015, 'type_veh_31'),\n",
       " (0.0036958459722405295, 'choc_6'),\n",
       " (0.003688974322774664, 'meteo_8'),\n",
       " (0.0036704507045490116, 'num_veh_C01'),\n",
       " (0.0035952978003536587, 'situ_acc_8'),\n",
       " (0.0035892565085141413, 'manoeuvre_veh_5'),\n",
       " (0.003474697102056449, 'intersection_9'),\n",
       " (0.00339703783988007, 'obst_fixe_6'),\n",
       " (0.003218583132890142, 'manoeuvre_veh_autre'),\n",
       " (0.0031966215745047027, 'infrastructure_9'),\n",
       " (0.003103866566412002, 'intersection_6'),\n",
       " (0.0029283834723814574, 'meteo_3'),\n",
       " (0.0028584661907636766, 'type_veh_30'),\n",
       " (0.0028009048075041875, 'manoeuvre_veh_19'),\n",
       " (0.002794583628892169, 'obst_fixe_autre'),\n",
       " (0.002748503551542248, 'manoeuvre_veh_21'),\n",
       " (0.002640333485225387, 'choc_9'),\n",
       " (0.002594909790155581, 'situ_acc_autre'),\n",
       " (0.002506846453242936, 'situ_acc_2'),\n",
       " (0.00247836450435122, 'choc_5'),\n",
       " (0.0024603758556928025, 'manoeuvre_veh_16'),\n",
       " (0.0024234748358489947, 'meteo_Autre'),\n",
       " (0.002409109052061654, 'declivite_3'),\n",
       " (0.0023841821483271777, 'obst_mobile_autre'),\n",
       " (0.0023627267657110977, 'declivite_4'),\n",
       " (0.002357423403348294, 'manoeuvre_veh_14'),\n",
       " (0.0023517010118027292, 'meteo_7'),\n",
       " (0.0023188499251603364, 'type_veh_32'),\n",
       " (0.002317411249086651, 'manoeuvre_veh_9'),\n",
       " (0.002179123860118058, 'infrastructure_2'),\n",
       " (0.0021631885663087446, 'surface_autre'),\n",
       " (0.002123289312632002, 'place_veh_9'),\n",
       " (0.002091721510697223, 'obst_fixe_2'),\n",
       " (0.0020499240202537373, 'rectitude_4'),\n",
       " (0.0020207764130855846, 'place_veh_autre'),\n",
       " (0.0019779452880240617, 'type_route_7'),\n",
       " (0.001967211818727663, 'manoeuvre_veh_23'),\n",
       " (0.001954796634796072, 'intersection_4'),\n",
       " (0.0018979149188148498, 'type_veh_34'),\n",
       " (0.0018621976503915307, 'manoeuvre_veh_3'),\n",
       " (0.0018586403086857312, 'place_veh_4'),\n",
       " (0.001813971393859876, 'place_veh_7'),\n",
       " (0.0017783186542864899, 'obst_fixe_13'),\n",
       " (0.0016397847613630423, 'infrastructure_3'),\n",
       " (0.0016320083950492237, 'infrastructure_autre'),\n",
       " (0.0016276306464052838, 'place_veh_3'),\n",
       " (0.0016114884791066256, 'lum_4'),\n",
       " (0.0016080145603435323, 'obst_fixe_3'),\n",
       " (0.001533265358988102, 'loc_pieton_4'),\n",
       " (0.0015300074576467223, 'obst_fixe_4'),\n",
       " (0.0015298883392952038, 'loc_pieton_3'),\n",
       " (0.001442926706217671, 'num_veh_autre'),\n",
       " (0.0013811854655878808, 'obst_fixe_8'),\n",
       " (0.0013594616932739478, 'pieton_seul_2'),\n",
       " (0.0012972064526614732, 'infrastructure_4'),\n",
       " (0.001158270727058434, 'loc_pieton_autre'),\n",
       " (0.0011464044446145728, 'type_route_autre'),\n",
       " (0.0010881017876869165, 'loc_pieton_2'),\n",
       " (0.001063406681632803, 'manoeuvre_veh_11'),\n",
       " (0.00099380075663551, 'infrastructure_6'),\n",
       " (0.00097248548187628, 'intersection_7'),\n",
       " (0.0009337200202403772, 'intersection_autre'),\n",
       " (0.0008425990336312105, 'type_circu_4'),\n",
       " (0.0008020424353318428, 'manoeuvre_veh_12'),\n",
       " (0.0007910143735657346, 'num_veh_D01'),\n",
       " (0.000674637064628866, 'pieton_seul_3')]"
      ]
     },
     "execution_count": 13,
     "metadata": {},
     "output_type": "execute_result"
    }
   ],
   "source": [
    "feature_importances = randm.best_estimator_.feature_importances_\n",
    "list_feat = list(feature_importances)\n",
    "list_col = list(X_train.columns)\n",
    "sorted([t for t in zip(list_feat, list_col)], key=lambda t: t[0], reverse=True)"
   ]
  },
  {
   "cell_type": "code",
   "execution_count": 17,
   "metadata": {},
   "outputs": [
    {
     "data": {
      "text/plain": [
       "['my_model_2021-08-10.pkl']"
      ]
     },
     "execution_count": 17,
     "metadata": {},
     "output_type": "execute_result"
    }
   ],
   "source": [
    "# Pour sauvegarder le modèle\n",
    "joblib.dump(randm.best_estimator_, \"my_model_2021-08-10.pkl\")\n",
    "# Pour le réutiliser\n",
    "#my_model_loaded = joblib.load(\"my_model.pkl\")"
   ]
  },
  {
   "cell_type": "code",
   "execution_count": 15,
   "metadata": {},
   "outputs": [
    {
     "name": "stdout",
     "output_type": "stream",
     "text": [
      "Done!!\n"
     ]
    }
   ],
   "source": [
    "print(\"Done!!\")"
   ]
  },
  {
   "cell_type": "code",
   "execution_count": null,
   "metadata": {},
   "outputs": [],
   "source": []
  }
 ],
 "metadata": {
  "kernelspec": {
   "display_name": "Python 3",
   "language": "python",
   "name": "python3"
  },
  "language_info": {
   "codemirror_mode": {
    "name": "ipython",
    "version": 3
   },
   "file_extension": ".py",
   "mimetype": "text/x-python",
   "name": "python",
   "nbconvert_exporter": "python",
   "pygments_lexer": "ipython3",
   "version": "3.8.5"
  }
 },
 "nbformat": 4,
 "nbformat_minor": 4
}
