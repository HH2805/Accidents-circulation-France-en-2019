{
 "cells": [
  {
   "cell_type": "markdown",
   "metadata": {},
   "source": [
    "## Mini_project  Module 3  - Forecasting models for traffic accidents"
   ]
  },
  {
   "cell_type": "code",
   "execution_count": 1,
   "metadata": {},
   "outputs": [],
   "source": [
    "import os\n",
    "import pandas as pd\n",
    "import numpy as np\n",
    "import matplotlib.pyplot as plt\n",
    "%matplotlib inline \n",
    "import seaborn as sns\n",
    "\n",
    "\n",
    "import sklearn\n",
    "from sklearn.cluster import KMeans\n",
    "from sklearn.ensemble import RandomForestClassifier, GradientBoostingClassifier\n",
    "from sklearn.model_selection import train_test_split, GridSearchCV\n",
    "from sklearn.preprocessing import normalize\n",
    "from sklearn.metrics import accuracy_score, balanced_accuracy_score\n"
   ]
  },
  {
   "cell_type": "markdown",
   "metadata": {},
   "source": [
    "### Import des fichiers de données"
   ]
  },
  {
   "cell_type": "code",
   "execution_count": 2,
   "metadata": {},
   "outputs": [],
   "source": [
    "carac = pd.read_csv(\"./data/caracteristiques-2019.csv\", sep=\";\") # nous donne des caractéristiques sur les accidents\n",
    "lieux = pd.read_csv(\"./data/lieux-2019.csv\", sep=\";\") # recense des données sur les lieux des accidents\n",
    "veh = pd.read_csv(\"./data/vehicules-2019.csv\", sep=\";\") # donne des informations sur les véhicules impliqués\n",
    "vict = pd.read_csv(\"./data/usagers-2019.csv\", sep=\";\") # donne des informations sur les victimes"
   ]
  },
  {
   "cell_type": "code",
   "execution_count": 3,
   "metadata": {},
   "outputs": [
    {
     "name": "stdout",
     "output_type": "stream",
     "text": [
      "Forme de carac = (58840, 15)\n",
      "Forme de lieux = (58840, 18)\n",
      "Forme de veh = (100710, 11)\n",
      "Forme de vict = (132977, 15)\n"
     ]
    }
   ],
   "source": [
    "print(f'Forme de carac = {carac.shape}')\n",
    "print(f'Forme de lieux = {lieux.shape}')\n",
    "print(f'Forme de veh = {veh.shape}')\n",
    "print(f'Forme de vict = {vict.shape}')"
   ]
  },
  {
   "cell_type": "code",
   "execution_count": 4,
   "metadata": {},
   "outputs": [
    {
     "name": "stdout",
     "output_type": "stream",
     "text": [
      "{'Num_Acc'}\n",
      "{'Num_Acc', 'id_vehicule', 'num_veh'}\n"
     ]
    }
   ],
   "source": [
    "print(set(veh.columns).intersection(set(lieux.columns).intersection(set(carac.columns).intersection(set(vict.columns)))))\n",
    "print(set(veh.columns).intersection(set(vict.columns)))"
   ]
  },
  {
   "cell_type": "markdown",
   "metadata": {},
   "source": [
    "**Observations**\n",
    "\n",
    "Les 4 fichiers ont en commun la colonne 'NumAcc' (numéro d'accident).\n",
    "\n",
    "Les fichiers 'veh' et 'vict' ont en commun 2 autres colonnes : 'num_veh' (identifiant de véhicule) et 'id_vehicule' (identifiant unique du véhicule). "
   ]
  },
  {
   "cell_type": "code",
   "execution_count": 5,
   "metadata": {},
   "outputs": [
    {
     "name": "stdout",
     "output_type": "stream",
     "text": [
      "'carac' file:\n",
      "Number of NumAcc unique values = 58840\n",
      "Max count by NumAcc unique value = 1\n",
      "Number of rows = 58840\n",
      "\n",
      "'lieux' file:\n",
      "Number of NumAcc unique values = 58840\n",
      "Max count by NumAcc unique value = 1\n",
      "Number of rows = 58840\n",
      "\n",
      "'veh' file:\n",
      "Number of NumAcc unique values = 58840\n",
      "Max count by NumAcc unique value = 12\n",
      "Number of rows = 100710\n",
      "\n",
      "'vict' file:\n",
      "Number of NumAcc unique values = 58840\n",
      "Max count by NumAcc unique value = 33\n",
      "Number of rows = 132977\n",
      "\n"
     ]
    }
   ],
   "source": [
    "print(\"'carac' file:\")\n",
    "print(f\"Number of NumAcc unique values = {carac.Num_Acc.nunique()}\")\n",
    "print(f'Max count by NumAcc unique value = {max(list(carac.Num_Acc.value_counts().values))}')\n",
    "print(f'Number of rows = {len(carac)}')\n",
    "print()\n",
    "print(\"'lieux' file:\")\n",
    "print(f\"Number of NumAcc unique values = {lieux.Num_Acc.nunique()}\")\n",
    "print(f'Max count by NumAcc unique value = {max(list(lieux.Num_Acc.value_counts().values))}')\n",
    "print(f'Number of rows = {len(lieux)}')\n",
    "print()\n",
    "print(\"'veh' file:\")\n",
    "print(f\"Number of NumAcc unique values = {veh.Num_Acc.nunique()}\")\n",
    "print(f'Max count by NumAcc unique value = {max(list(veh.Num_Acc.value_counts().values))}')\n",
    "print(f'Number of rows = {len(veh)}')\n",
    "print()\n",
    "print(\"'vict' file:\")\n",
    "print(f\"Number of NumAcc unique values = {vict.Num_Acc.nunique()}\")\n",
    "print(f'Max count by NumAcc unique value = {max(list(vict.Num_Acc.value_counts().values))}')\n",
    "print(f'Number of rows = {len(vict)}')\n",
    "print()"
   ]
  },
  {
   "cell_type": "markdown",
   "metadata": {},
   "source": [
    "**Observations**\n",
    "\n",
    "A ce stade on peut supposer que : \n",
    "- chaque fichier recense les mêmes 58140 accidents distincts, identifiés par un identifiant unique. \n",
    "- ces 58140 accidents sont survenus chacun dans un lieu distinct (d'où 58140 lieux distincts), ont impliqué un nombre de véhicules plus ou moins grand (de 1 à 12) et occasionné un nombre de victimes plus ou moins grand (de 1 à 33).\n",
    "Pour confirmer ces chiffres, nous devrons au préalable supprimer les éventuelles lignes en double dans chaque fichier."
   ]
  },
  {
   "cell_type": "markdown",
   "metadata": {},
   "source": [
    "### Fusion des fichiers"
   ]
  },
  {
   "cell_type": "markdown",
   "metadata": {},
   "source": [
    "Notre étude porte sur la gravité des accidents pour les victimes, nous souhaitons donc disposer d'un fichier unique qui comptera 1 ligne par victime distincte.\n",
    "Nous fusionnons donc le fichier 'vict' avec les 3 autres en excluant les lignes supplémentaires éventuelles de ces autres fichiers."
   ]
  },
  {
   "cell_type": "code",
   "execution_count": 6,
   "metadata": {},
   "outputs": [],
   "source": [
    "victime = (vict.merge(veh,\n",
    "                      on=['Num_Acc','num_veh','id_vehicule'], \n",
    "                      how='left')\n",
    "           .merge(carac,\n",
    "                  on = 'Num_Acc', \n",
    "                  how='left')\n",
    "           .merge(lieux, \n",
    "                  on=['Num_Acc'], \n",
    "                  how='left'))\n"
   ]
  },
  {
   "cell_type": "markdown",
   "metadata": {},
   "source": [
    "### Premières observations sur le fichier"
   ]
  },
  {
   "cell_type": "code",
   "execution_count": 7,
   "metadata": {},
   "outputs": [
    {
     "data": {
      "text/plain": [
       "(132977, 54)"
      ]
     },
     "execution_count": 7,
     "metadata": {},
     "output_type": "execute_result"
    }
   ],
   "source": [
    "victime.shape"
   ]
  },
  {
   "cell_type": "code",
   "execution_count": 8,
   "metadata": {},
   "outputs": [
    {
     "data": {
      "text/plain": [
       "101"
      ]
     },
     "execution_count": 8,
     "metadata": {},
     "output_type": "execute_result"
    }
   ],
   "source": [
    "victime.duplicated().sum()"
   ]
  },
  {
   "cell_type": "code",
   "execution_count": 9,
   "metadata": {},
   "outputs": [
    {
     "data": {
      "text/plain": [
       "(132876, 54)"
      ]
     },
     "execution_count": 9,
     "metadata": {},
     "output_type": "execute_result"
    }
   ],
   "source": [
    "victime = victime.drop_duplicates()\n",
    "victime.shape"
   ]
  },
  {
   "cell_type": "code",
   "execution_count": 10,
   "metadata": {},
   "outputs": [
    {
     "data": {
      "text/html": [
       "<div>\n",
       "<style scoped>\n",
       "    .dataframe tbody tr th:only-of-type {\n",
       "        vertical-align: middle;\n",
       "    }\n",
       "\n",
       "    .dataframe tbody tr th {\n",
       "        vertical-align: top;\n",
       "    }\n",
       "\n",
       "    .dataframe thead th {\n",
       "        text-align: right;\n",
       "    }\n",
       "</style>\n",
       "<table border=\"1\" class=\"dataframe\">\n",
       "  <thead>\n",
       "    <tr style=\"text-align: right;\">\n",
       "      <th></th>\n",
       "      <th>Num_Acc</th>\n",
       "      <th>id_vehicule</th>\n",
       "      <th>num_veh</th>\n",
       "      <th>place</th>\n",
       "      <th>catu</th>\n",
       "      <th>grav</th>\n",
       "      <th>sexe</th>\n",
       "      <th>an_nais</th>\n",
       "      <th>trajet</th>\n",
       "      <th>secu1</th>\n",
       "      <th>...</th>\n",
       "      <th>prof</th>\n",
       "      <th>pr</th>\n",
       "      <th>pr1</th>\n",
       "      <th>plan</th>\n",
       "      <th>lartpc</th>\n",
       "      <th>larrout</th>\n",
       "      <th>surf</th>\n",
       "      <th>infra</th>\n",
       "      <th>situ</th>\n",
       "      <th>vma</th>\n",
       "    </tr>\n",
       "  </thead>\n",
       "  <tbody>\n",
       "    <tr>\n",
       "      <th>0</th>\n",
       "      <td>201900000001</td>\n",
       "      <td>138 306 524</td>\n",
       "      <td>B01</td>\n",
       "      <td>2</td>\n",
       "      <td>2</td>\n",
       "      <td>4</td>\n",
       "      <td>2</td>\n",
       "      <td>2002</td>\n",
       "      <td>0</td>\n",
       "      <td>1</td>\n",
       "      <td>...</td>\n",
       "      <td>1</td>\n",
       "      <td>6</td>\n",
       "      <td>900</td>\n",
       "      <td>2</td>\n",
       "      <td>NaN</td>\n",
       "      <td>NaN</td>\n",
       "      <td>1</td>\n",
       "      <td>2</td>\n",
       "      <td>1</td>\n",
       "      <td>70</td>\n",
       "    </tr>\n",
       "    <tr>\n",
       "      <th>1</th>\n",
       "      <td>201900000001</td>\n",
       "      <td>138 306 524</td>\n",
       "      <td>B01</td>\n",
       "      <td>1</td>\n",
       "      <td>1</td>\n",
       "      <td>4</td>\n",
       "      <td>2</td>\n",
       "      <td>1993</td>\n",
       "      <td>5</td>\n",
       "      <td>1</td>\n",
       "      <td>...</td>\n",
       "      <td>1</td>\n",
       "      <td>6</td>\n",
       "      <td>900</td>\n",
       "      <td>2</td>\n",
       "      <td>NaN</td>\n",
       "      <td>NaN</td>\n",
       "      <td>1</td>\n",
       "      <td>2</td>\n",
       "      <td>1</td>\n",
       "      <td>70</td>\n",
       "    </tr>\n",
       "    <tr>\n",
       "      <th>2</th>\n",
       "      <td>201900000001</td>\n",
       "      <td>138 306 525</td>\n",
       "      <td>A01</td>\n",
       "      <td>1</td>\n",
       "      <td>1</td>\n",
       "      <td>1</td>\n",
       "      <td>1</td>\n",
       "      <td>1959</td>\n",
       "      <td>0</td>\n",
       "      <td>1</td>\n",
       "      <td>...</td>\n",
       "      <td>1</td>\n",
       "      <td>6</td>\n",
       "      <td>900</td>\n",
       "      <td>2</td>\n",
       "      <td>NaN</td>\n",
       "      <td>NaN</td>\n",
       "      <td>1</td>\n",
       "      <td>2</td>\n",
       "      <td>1</td>\n",
       "      <td>70</td>\n",
       "    </tr>\n",
       "    <tr>\n",
       "      <th>3</th>\n",
       "      <td>201900000002</td>\n",
       "      <td>138 306 523</td>\n",
       "      <td>A01</td>\n",
       "      <td>1</td>\n",
       "      <td>1</td>\n",
       "      <td>4</td>\n",
       "      <td>2</td>\n",
       "      <td>1994</td>\n",
       "      <td>0</td>\n",
       "      <td>1</td>\n",
       "      <td>...</td>\n",
       "      <td>4</td>\n",
       "      <td>3</td>\n",
       "      <td>845</td>\n",
       "      <td>2</td>\n",
       "      <td>NaN</td>\n",
       "      <td>NaN</td>\n",
       "      <td>1</td>\n",
       "      <td>0</td>\n",
       "      <td>1</td>\n",
       "      <td>70</td>\n",
       "    </tr>\n",
       "    <tr>\n",
       "      <th>4</th>\n",
       "      <td>201900000003</td>\n",
       "      <td>138 306 520</td>\n",
       "      <td>A01</td>\n",
       "      <td>1</td>\n",
       "      <td>1</td>\n",
       "      <td>1</td>\n",
       "      <td>1</td>\n",
       "      <td>1996</td>\n",
       "      <td>0</td>\n",
       "      <td>1</td>\n",
       "      <td>...</td>\n",
       "      <td>1</td>\n",
       "      <td>10</td>\n",
       "      <td>500</td>\n",
       "      <td>3</td>\n",
       "      <td>NaN</td>\n",
       "      <td>NaN</td>\n",
       "      <td>1</td>\n",
       "      <td>0</td>\n",
       "      <td>1</td>\n",
       "      <td>90</td>\n",
       "    </tr>\n",
       "  </tbody>\n",
       "</table>\n",
       "<p>5 rows × 54 columns</p>\n",
       "</div>"
      ],
      "text/plain": [
       "        Num_Acc  id_vehicule num_veh  place  catu  grav  sexe  an_nais  \\\n",
       "0  201900000001  138 306 524     B01      2     2     4     2     2002   \n",
       "1  201900000001  138 306 524     B01      1     1     4     2     1993   \n",
       "2  201900000001  138 306 525     A01      1     1     1     1     1959   \n",
       "3  201900000002  138 306 523     A01      1     1     4     2     1994   \n",
       "4  201900000003  138 306 520     A01      1     1     1     1     1996   \n",
       "\n",
       "   trajet  secu1  ...  prof  pr  pr1 plan  lartpc  larrout  surf  infra  situ  \\\n",
       "0       0      1  ...     1   6  900    2     NaN      NaN     1      2     1   \n",
       "1       5      1  ...     1   6  900    2     NaN      NaN     1      2     1   \n",
       "2       0      1  ...     1   6  900    2     NaN      NaN     1      2     1   \n",
       "3       0      1  ...     4   3  845    2     NaN      NaN     1      0     1   \n",
       "4       0      1  ...     1  10  500    3     NaN      NaN     1      0     1   \n",
       "\n",
       "   vma  \n",
       "0   70  \n",
       "1   70  \n",
       "2   70  \n",
       "3   70  \n",
       "4   90  \n",
       "\n",
       "[5 rows x 54 columns]"
      ]
     },
     "execution_count": 10,
     "metadata": {},
     "output_type": "execute_result"
    }
   ],
   "source": [
    "victime.head()"
   ]
  },
  {
   "cell_type": "code",
   "execution_count": 11,
   "metadata": {},
   "outputs": [
    {
     "name": "stdout",
     "output_type": "stream",
     "text": [
      "<class 'pandas.core.frame.DataFrame'>\n",
      "Int64Index: 132876 entries, 0 to 132976\n",
      "Data columns (total 54 columns):\n",
      " #   Column       Non-Null Count   Dtype  \n",
      "---  ------       --------------   -----  \n",
      " 0   Num_Acc      132876 non-null  int64  \n",
      " 1   id_vehicule  132876 non-null  object \n",
      " 2   num_veh      132876 non-null  object \n",
      " 3   place        132876 non-null  int64  \n",
      " 4   catu         132876 non-null  int64  \n",
      " 5   grav         132876 non-null  int64  \n",
      " 6   sexe         132876 non-null  int64  \n",
      " 7   an_nais      132876 non-null  int64  \n",
      " 8   trajet       132876 non-null  int64  \n",
      " 9   secu1        132876 non-null  int64  \n",
      " 10  secu2        132876 non-null  int64  \n",
      " 11  secu3        132876 non-null  int64  \n",
      " 12  locp         132876 non-null  int64  \n",
      " 13  actp         132876 non-null  object \n",
      " 14  etatp        132876 non-null  int64  \n",
      " 15  senc         132876 non-null  int64  \n",
      " 16  catv         132876 non-null  int64  \n",
      " 17  obs          132876 non-null  int64  \n",
      " 18  obsm         132876 non-null  int64  \n",
      " 19  choc         132876 non-null  int64  \n",
      " 20  manv         132876 non-null  int64  \n",
      " 21  motor        132876 non-null  int64  \n",
      " 22  occutc       1834 non-null    float64\n",
      " 23  jour         132876 non-null  int64  \n",
      " 24  mois         132876 non-null  int64  \n",
      " 25  an           132876 non-null  int64  \n",
      " 26  hrmn         132876 non-null  object \n",
      " 27  lum          132876 non-null  int64  \n",
      " 28  dep          132876 non-null  object \n",
      " 29  com          132876 non-null  object \n",
      " 30  agg          132876 non-null  int64  \n",
      " 31  int          132876 non-null  int64  \n",
      " 32  atm          132876 non-null  int64  \n",
      " 33  col          132876 non-null  int64  \n",
      " 34  adr          131857 non-null  object \n",
      " 35  lat          132876 non-null  object \n",
      " 36  long         132876 non-null  object \n",
      " 37  catr         132876 non-null  int64  \n",
      " 38  voie         126963 non-null  object \n",
      " 39  v1           108312 non-null  float64\n",
      " 40  v2           9729 non-null    object \n",
      " 41  circ         132876 non-null  int64  \n",
      " 42  nbv          132876 non-null  int64  \n",
      " 43  vosp         132876 non-null  int64  \n",
      " 44  prof         132876 non-null  int64  \n",
      " 45  pr           132876 non-null  object \n",
      " 46  pr1          132876 non-null  object \n",
      " 47  plan         132876 non-null  int64  \n",
      " 48  lartpc       467 non-null     float64\n",
      " 49  larrout      831 non-null     float64\n",
      " 50  surf         132876 non-null  int64  \n",
      " 51  infra        132876 non-null  int64  \n",
      " 52  situ         132876 non-null  int64  \n",
      " 53  vma          132876 non-null  int64  \n",
      "dtypes: float64(4), int64(37), object(13)\n",
      "memory usage: 55.8+ MB\n"
     ]
    }
   ],
   "source": [
    "victime.info()"
   ]
  },
  {
   "cell_type": "markdown",
   "metadata": {},
   "source": [
    "**Observations**\n",
    "- La plupart des données sont catégorielles, et codifiées sous forme de chiffre de 1 à 10.\n",
    "- Plusieurs colonnes sont en format \"objet\". En vue du traitement ultérieur de machine learning, nous devons convertir en format numérique celles dont le contenu est chiffré. \n",
    "- Nous observons des colonnes dont les valeurs sont manquantes, nous devrons y remédier.\n",
    "- Nous commencerons par la conversion en format numérique des colonnes, celle-ci étant susceptible de générer des valeurs manquantes."
   ]
  },
  {
   "cell_type": "code",
   "execution_count": 12,
   "metadata": {},
   "outputs": [
    {
     "data": {
      "text/plain": [
       "Index(['Num_Acc', 'id_vehicule', 'num_veh', 'place', 'catu', 'grav', 'sexe',\n",
       "       'an_nais', 'trajet', 'secu1', 'secu2', 'secu3', 'locp', 'actp', 'etatp',\n",
       "       'senc', 'catv', 'obs', 'obsm', 'choc', 'manv', 'motor', 'occutc',\n",
       "       'jour', 'mois', 'an', 'hrmn', 'lum', 'dep', 'com', 'agg', 'int', 'atm',\n",
       "       'col', 'adr', 'lat', 'long', 'catr', 'voie', 'v1', 'v2', 'circ', 'nbv',\n",
       "       'vosp', 'prof', 'pr', 'pr1', 'plan', 'lartpc', 'larrout', 'surf',\n",
       "       'infra', 'situ', 'vma'],\n",
       "      dtype='object')"
      ]
     },
     "execution_count": 12,
     "metadata": {},
     "output_type": "execute_result"
    }
   ],
   "source": [
    "victime.columns"
   ]
  },
  {
   "cell_type": "markdown",
   "metadata": {},
   "source": [
    "### Preprocessing "
   ]
  },
  {
   "cell_type": "markdown",
   "metadata": {},
   "source": [
    "**Etude de la nature des variables - Sélection de colonnes**\n",
    "Les variables suivantes ne nous paraissent pas de nature à influencer positivement la classification de la variable cible (non pertinence ou risque de surapprentissage/overfitting). Nous choisissons de les écarter : - année de naissance de la victime, nombre d'occupants du transport en commpun, jour de l'accident (on garde le mois), heure/min de l'accident (on garde l'éclairage), adresse postale et code insee de la commune (on garde le département et la distinction agglo/hors agglo), indices du numéro de voie v1 et v2, pr et pr1 (n° du point de repère le plus proche et distance au point), voie (numéro de la route)."
   ]
  },
  {
   "cell_type": "code",
   "execution_count": 13,
   "metadata": {},
   "outputs": [
    {
     "name": "stdout",
     "output_type": "stream",
     "text": [
      "(132876, 43)\n"
     ]
    }
   ],
   "source": [
    "victime.drop(['an_nais', 'occutc', 'jour', 'hrmn', 'adr', 'com', 'v1', 'v2', 'pr', 'pr1', 'voie'], axis=1, inplace=True)\n",
    "\n",
    "#check\n",
    "print(victime.shape)"
   ]
  },
  {
   "cell_type": "markdown",
   "metadata": {},
   "source": [
    "**Unités de valeur**\n",
    "La plupart des informations sont présentées sous forme de code numérique (par exemple 0='jaune', 1='rouge', 2=bleu, etc.)\n",
    "Dans ce code, le \"-1\" signifie toujours \"valeur non renseignée\"."
   ]
  },
  {
   "cell_type": "markdown",
   "metadata": {},
   "source": [
    "**Format des colonnes**"
   ]
  },
  {
   "cell_type": "code",
   "execution_count": 14,
   "metadata": {},
   "outputs": [
    {
     "name": "stdout",
     "output_type": "stream",
     "text": [
      "Initialement, 6 colonnes sont au format \"objet\" : ['id_vehicule', 'num_veh', 'actp', 'dep', 'lat', 'long']\n"
     ]
    }
   ],
   "source": [
    "print(f'Initialement, {len(list(victime.dtypes[victime.dtypes == object]))} colonnes sont au format \"objet\" : {list(victime.dtypes[victime.dtypes == object].index)}')"
   ]
  },
  {
   "cell_type": "markdown",
   "metadata": {},
   "source": [
    "**Observations**\n",
    "\n",
    "La série 'id_véhicule' doit être nettoyée pour pouvoir être convertie en format numérique."
   ]
  },
  {
   "cell_type": "code",
   "execution_count": 15,
   "metadata": {},
   "outputs": [
    {
     "data": {
      "text/plain": [
       "'138\\xa0306\\xa0524'"
      ]
     },
     "execution_count": 15,
     "metadata": {},
     "output_type": "execute_result"
    }
   ],
   "source": [
    "victime.loc[0,'id_vehicule']"
   ]
  },
  {
   "cell_type": "code",
   "execution_count": 16,
   "metadata": {},
   "outputs": [
    {
     "data": {
      "text/plain": [
       "dtype('int64')"
      ]
     },
     "execution_count": 16,
     "metadata": {},
     "output_type": "execute_result"
    }
   ],
   "source": [
    "from unicodedata import normalize\n",
    "import re\n",
    "def clean_up(text):\n",
    "    text = normalize('NFKD', text)\n",
    "    text = re.sub('\\W*','',text)\n",
    "    return int(text)\n",
    "\n",
    "victime['id_vehicule'] = victime['id_vehicule'].apply(clean_up)\n",
    "\n",
    "#check\n",
    "victime['id_vehicule'].dtypes"
   ]
  },
  {
   "cell_type": "code",
   "execution_count": 17,
   "metadata": {},
   "outputs": [
    {
     "data": {
      "text/plain": [
       "0    138306524\n",
       "1    138306524\n",
       "2    138306525\n",
       "3    138306523\n",
       "4    138306520\n",
       "5    138306520\n",
       "Name: id_vehicule, dtype: int64"
      ]
     },
     "execution_count": 17,
     "metadata": {},
     "output_type": "execute_result"
    }
   ],
   "source": [
    "victime.loc[:5,'id_vehicule']"
   ]
  },
  {
   "cell_type": "markdown",
   "metadata": {},
   "source": [
    "**Observations**"
   ]
  },
  {
   "cell_type": "code",
   "execution_count": 18,
   "metadata": {},
   "outputs": [
    {
     "data": {
      "text/plain": [
       "0"
      ]
     },
     "execution_count": 18,
     "metadata": {},
     "output_type": "execute_result"
    }
   ],
   "source": [
    "victime.vma.isna().sum()"
   ]
  },
  {
   "cell_type": "code",
   "execution_count": 19,
   "metadata": {},
   "outputs": [
    {
     "name": "stdout",
     "output_type": "stream",
     "text": [
      "Les colonnes suivantes peuvent être directement converties au format numérique : ['actp', 'dep']\n"
     ]
    }
   ],
   "source": [
    "aconvertir = ['actp','dep']\n",
    "print(f\"Les colonnes suivantes peuvent être directement converties au format numérique : {aconvertir}\")"
   ]
  },
  {
   "cell_type": "code",
   "execution_count": 20,
   "metadata": {},
   "outputs": [
    {
     "name": "stdout",
     "output_type": "stream",
     "text": [
      "Num_Acc          int64\n",
      "id_vehicule      int64\n",
      "num_veh         object\n",
      "place            int64\n",
      "catu             int64\n",
      "grav             int64\n",
      "sexe             int64\n",
      "trajet           int64\n",
      "secu1            int64\n",
      "secu2            int64\n",
      "secu3            int64\n",
      "locp             int64\n",
      "actp           float64\n",
      "etatp            int64\n",
      "senc             int64\n",
      "catv             int64\n",
      "obs              int64\n",
      "obsm             int64\n",
      "choc             int64\n",
      "manv             int64\n",
      "motor            int64\n",
      "mois             int64\n",
      "an               int64\n",
      "lum              int64\n",
      "dep            float64\n",
      "agg              int64\n",
      "int              int64\n",
      "atm              int64\n",
      "col              int64\n",
      "lat             object\n",
      "long            object\n",
      "catr             int64\n",
      "circ             int64\n",
      "nbv              int64\n",
      "vosp             int64\n",
      "prof             int64\n",
      "plan             int64\n",
      "lartpc         float64\n",
      "larrout        float64\n",
      "surf             int64\n",
      "infra            int64\n",
      "situ             int64\n",
      "vma              int64\n",
      "dtype: object\n"
     ]
    }
   ],
   "source": [
    "def convert_to_numeric(col):\n",
    "    victime[col] = pd.to_numeric(victime[col], errors='coerce')\n",
    "\n",
    "for c in aconvertir:\n",
    "    convert_to_numeric(c) \n",
    "\n",
    "print(victime.dtypes)"
   ]
  },
  {
   "cell_type": "code",
   "execution_count": 21,
   "metadata": {},
   "outputs": [
    {
     "name": "stdout",
     "output_type": "stream",
     "text": [
      "Les 3 dernières colonnes comprennent par nature du texte, et resteront au format 'objet' :\n",
      "['num_veh', 'lat', 'long']\n"
     ]
    }
   ],
   "source": [
    "print(f\"Les {len(list(victime.dtypes[victime.dtypes == object].index))} dernières colonnes comprennent par nature du texte, et resteront au format 'objet' :\")\n",
    "print(list(victime.dtypes[victime.dtypes == object].index))"
   ]
  },
  {
   "cell_type": "code",
   "execution_count": 22,
   "metadata": {},
   "outputs": [
    {
     "name": "stdout",
     "output_type": "stream",
     "text": [
      "Nous avons donc, dans notre jeu de données, 3 colonnes de type 'texte' et 40 de type 'chiffre' (entier ou décimal).\n"
     ]
    }
   ],
   "source": [
    "print(f\"Nous avons donc, dans notre jeu de données, {len(list(victime.dtypes[victime.dtypes == object].index))} colonnes de type 'texte' et {len(list(victime.dtypes[victime.dtypes != object].index))} de type 'chiffre' (entier ou décimal).\")"
   ]
  },
  {
   "cell_type": "markdown",
   "metadata": {},
   "source": [
    "**Valeurs manquantes**"
   ]
  },
  {
   "cell_type": "markdown",
   "metadata": {},
   "source": [
    "Les valeurs manquantes sont repérées par la valeur 'NaN', mais également par la valeur '-1' dont le référentiel nous indique qu'elle signifie \"non renseigné\". \n",
    "Par ailleurs, la feature \"trajet\" utilise le code \"0\" pour indiquer les valeurs manquantes. \n",
    "Afin de comptabiliser l'intégralité des valeurs manquantes, on remplace ces chiffres par 'NaN'."
   ]
  },
  {
   "cell_type": "code",
   "execution_count": 23,
   "metadata": {},
   "outputs": [],
   "source": [
    "victime.replace(-1,np.NaN, inplace=True)"
   ]
  },
  {
   "cell_type": "code",
   "execution_count": 24,
   "metadata": {},
   "outputs": [],
   "source": [
    "victime.trajet.replace(0,np.NaN, inplace=True)"
   ]
  },
  {
   "cell_type": "markdown",
   "metadata": {},
   "source": [
    "Imprimons toutes les colonnes qui comprennent des valeurs manquantes."
   ]
  },
  {
   "cell_type": "code",
   "execution_count": 25,
   "metadata": {},
   "outputs": [
    {
     "data": {
      "text/html": [
       "<div>\n",
       "<style scoped>\n",
       "    .dataframe tbody tr th:only-of-type {\n",
       "        vertical-align: middle;\n",
       "    }\n",
       "\n",
       "    .dataframe tbody tr th {\n",
       "        vertical-align: top;\n",
       "    }\n",
       "\n",
       "    .dataframe thead th {\n",
       "        text-align: right;\n",
       "    }\n",
       "</style>\n",
       "<table border=\"1\" class=\"dataframe\">\n",
       "  <thead>\n",
       "    <tr style=\"text-align: right;\">\n",
       "      <th></th>\n",
       "      <th>column_name</th>\n",
       "      <th>missing_percent</th>\n",
       "    </tr>\n",
       "  </thead>\n",
       "  <tbody>\n",
       "    <tr>\n",
       "      <th>0</th>\n",
       "      <td>lartpc</td>\n",
       "      <td>99.648545</td>\n",
       "    </tr>\n",
       "    <tr>\n",
       "      <th>1</th>\n",
       "      <td>larrout</td>\n",
       "      <td>99.374605</td>\n",
       "    </tr>\n",
       "    <tr>\n",
       "      <th>2</th>\n",
       "      <td>secu3</td>\n",
       "      <td>98.679972</td>\n",
       "    </tr>\n",
       "    <tr>\n",
       "      <th>3</th>\n",
       "      <td>etatp</td>\n",
       "      <td>91.704296</td>\n",
       "    </tr>\n",
       "    <tr>\n",
       "      <th>4</th>\n",
       "      <td>locp</td>\n",
       "      <td>37.976008</td>\n",
       "    </tr>\n",
       "    <tr>\n",
       "      <th>5</th>\n",
       "      <td>secu2</td>\n",
       "      <td>30.186038</td>\n",
       "    </tr>\n",
       "    <tr>\n",
       "      <th>6</th>\n",
       "      <td>trajet</td>\n",
       "      <td>26.265089</td>\n",
       "    </tr>\n",
       "    <tr>\n",
       "      <th>7</th>\n",
       "      <td>actp</td>\n",
       "      <td>20.225624</td>\n",
       "    </tr>\n",
       "    <tr>\n",
       "      <th>8</th>\n",
       "      <td>circ</td>\n",
       "      <td>5.058099</td>\n",
       "    </tr>\n",
       "    <tr>\n",
       "      <th>9</th>\n",
       "      <td>vma</td>\n",
       "      <td>1.428399</td>\n",
       "    </tr>\n",
       "    <tr>\n",
       "      <th>10</th>\n",
       "      <td>dep</td>\n",
       "      <td>1.082965</td>\n",
       "    </tr>\n",
       "    <tr>\n",
       "      <th>11</th>\n",
       "      <td>vosp</td>\n",
       "      <td>1.075439</td>\n",
       "    </tr>\n",
       "    <tr>\n",
       "      <th>12</th>\n",
       "      <td>nbv</td>\n",
       "      <td>1.056624</td>\n",
       "    </tr>\n",
       "    <tr>\n",
       "      <th>13</th>\n",
       "      <td>motor</td>\n",
       "      <td>0.278455</td>\n",
       "    </tr>\n",
       "    <tr>\n",
       "      <th>14</th>\n",
       "      <td>situ</td>\n",
       "      <td>0.170836</td>\n",
       "    </tr>\n",
       "    <tr>\n",
       "      <th>15</th>\n",
       "      <td>infra</td>\n",
       "      <td>0.074506</td>\n",
       "    </tr>\n",
       "    <tr>\n",
       "      <th>16</th>\n",
       "      <td>obsm</td>\n",
       "      <td>0.066980</td>\n",
       "    </tr>\n",
       "    <tr>\n",
       "      <th>17</th>\n",
       "      <td>secu1</td>\n",
       "      <td>0.066227</td>\n",
       "    </tr>\n",
       "    <tr>\n",
       "      <th>18</th>\n",
       "      <td>choc</td>\n",
       "      <td>0.036876</td>\n",
       "    </tr>\n",
       "    <tr>\n",
       "      <th>19</th>\n",
       "      <td>senc</td>\n",
       "      <td>0.034619</td>\n",
       "    </tr>\n",
       "    <tr>\n",
       "      <th>20</th>\n",
       "      <td>manv</td>\n",
       "      <td>0.034619</td>\n",
       "    </tr>\n",
       "    <tr>\n",
       "      <th>21</th>\n",
       "      <td>obs</td>\n",
       "      <td>0.032361</td>\n",
       "    </tr>\n",
       "    <tr>\n",
       "      <th>22</th>\n",
       "      <td>surf</td>\n",
       "      <td>0.030103</td>\n",
       "    </tr>\n",
       "    <tr>\n",
       "      <th>23</th>\n",
       "      <td>prof</td>\n",
       "      <td>0.023330</td>\n",
       "    </tr>\n",
       "    <tr>\n",
       "      <th>24</th>\n",
       "      <td>plan</td>\n",
       "      <td>0.012041</td>\n",
       "    </tr>\n",
       "    <tr>\n",
       "      <th>25</th>\n",
       "      <td>col</td>\n",
       "      <td>0.001505</td>\n",
       "    </tr>\n",
       "    <tr>\n",
       "      <th>26</th>\n",
       "      <td>atm</td>\n",
       "      <td>0.000753</td>\n",
       "    </tr>\n",
       "  </tbody>\n",
       "</table>\n",
       "</div>"
      ],
      "text/plain": [
       "   column_name  missing_percent\n",
       "0       lartpc        99.648545\n",
       "1      larrout        99.374605\n",
       "2        secu3        98.679972\n",
       "3        etatp        91.704296\n",
       "4         locp        37.976008\n",
       "5        secu2        30.186038\n",
       "6       trajet        26.265089\n",
       "7         actp        20.225624\n",
       "8         circ         5.058099\n",
       "9          vma         1.428399\n",
       "10         dep         1.082965\n",
       "11        vosp         1.075439\n",
       "12         nbv         1.056624\n",
       "13       motor         0.278455\n",
       "14        situ         0.170836\n",
       "15       infra         0.074506\n",
       "16        obsm         0.066980\n",
       "17       secu1         0.066227\n",
       "18        choc         0.036876\n",
       "19        senc         0.034619\n",
       "20        manv         0.034619\n",
       "21         obs         0.032361\n",
       "22        surf         0.030103\n",
       "23        prof         0.023330\n",
       "24        plan         0.012041\n",
       "25         col         0.001505\n",
       "26         atm         0.000753"
      ]
     },
     "execution_count": 25,
     "metadata": {},
     "output_type": "execute_result"
    }
   ],
   "source": [
    "percent_missing = victime.isna().sum() * 100 / len(victime)\n",
    "missing_value_df = pd.DataFrame({'column_name': victime.columns, 'missing_percent': percent_missing}).sort_values(by='missing_percent', ascending=False).reset_index(drop=True)\n",
    "missing_value_df = missing_value_df[missing_value_df['missing_percent']>0]\n",
    "missing_value_df"
   ]
  },
  {
   "cell_type": "markdown",
   "metadata": {},
   "source": [
    "Supprimons les colonnes qui contiennent plus de 10% de valeurs manquantes : \n",
    "lartpc, larrout, secu3, etatp, locp, secu2, trajet, actp"
   ]
  },
  {
   "cell_type": "code",
   "execution_count": 26,
   "metadata": {},
   "outputs": [],
   "source": [
    "missing_value_df_morethan10 = missing_value_df[(missing_value_df['missing_percent']>10)]"
   ]
  },
  {
   "cell_type": "code",
   "execution_count": 27,
   "metadata": {},
   "outputs": [
    {
     "data": {
      "text/html": [
       "<div>\n",
       "<style scoped>\n",
       "    .dataframe tbody tr th:only-of-type {\n",
       "        vertical-align: middle;\n",
       "    }\n",
       "\n",
       "    .dataframe tbody tr th {\n",
       "        vertical-align: top;\n",
       "    }\n",
       "\n",
       "    .dataframe thead th {\n",
       "        text-align: right;\n",
       "    }\n",
       "</style>\n",
       "<table border=\"1\" class=\"dataframe\">\n",
       "  <thead>\n",
       "    <tr style=\"text-align: right;\">\n",
       "      <th></th>\n",
       "      <th>column_name</th>\n",
       "      <th>missing_percent</th>\n",
       "    </tr>\n",
       "  </thead>\n",
       "  <tbody>\n",
       "    <tr>\n",
       "      <th>0</th>\n",
       "      <td>lartpc</td>\n",
       "      <td>99.648545</td>\n",
       "    </tr>\n",
       "    <tr>\n",
       "      <th>1</th>\n",
       "      <td>larrout</td>\n",
       "      <td>99.374605</td>\n",
       "    </tr>\n",
       "    <tr>\n",
       "      <th>2</th>\n",
       "      <td>secu3</td>\n",
       "      <td>98.679972</td>\n",
       "    </tr>\n",
       "    <tr>\n",
       "      <th>3</th>\n",
       "      <td>etatp</td>\n",
       "      <td>91.704296</td>\n",
       "    </tr>\n",
       "    <tr>\n",
       "      <th>4</th>\n",
       "      <td>locp</td>\n",
       "      <td>37.976008</td>\n",
       "    </tr>\n",
       "    <tr>\n",
       "      <th>5</th>\n",
       "      <td>secu2</td>\n",
       "      <td>30.186038</td>\n",
       "    </tr>\n",
       "    <tr>\n",
       "      <th>6</th>\n",
       "      <td>trajet</td>\n",
       "      <td>26.265089</td>\n",
       "    </tr>\n",
       "    <tr>\n",
       "      <th>7</th>\n",
       "      <td>actp</td>\n",
       "      <td>20.225624</td>\n",
       "    </tr>\n",
       "  </tbody>\n",
       "</table>\n",
       "</div>"
      ],
      "text/plain": [
       "  column_name  missing_percent\n",
       "0      lartpc        99.648545\n",
       "1     larrout        99.374605\n",
       "2       secu3        98.679972\n",
       "3       etatp        91.704296\n",
       "4        locp        37.976008\n",
       "5       secu2        30.186038\n",
       "6      trajet        26.265089\n",
       "7        actp        20.225624"
      ]
     },
     "execution_count": 27,
     "metadata": {},
     "output_type": "execute_result"
    }
   ],
   "source": [
    "missing_value_df_morethan10"
   ]
  },
  {
   "cell_type": "code",
   "execution_count": 28,
   "metadata": {},
   "outputs": [],
   "source": [
    "missing_value_df_morethan10_list = list(missing_value_df_morethan10['column_name'])"
   ]
  },
  {
   "cell_type": "code",
   "execution_count": 29,
   "metadata": {},
   "outputs": [],
   "source": [
    "victime.drop(columns=missing_value_df_morethan10_list, axis = 1, inplace = True)"
   ]
  },
  {
   "cell_type": "code",
   "execution_count": 30,
   "metadata": {},
   "outputs": [
    {
     "data": {
      "text/html": [
       "<div>\n",
       "<style scoped>\n",
       "    .dataframe tbody tr th:only-of-type {\n",
       "        vertical-align: middle;\n",
       "    }\n",
       "\n",
       "    .dataframe tbody tr th {\n",
       "        vertical-align: top;\n",
       "    }\n",
       "\n",
       "    .dataframe thead th {\n",
       "        text-align: right;\n",
       "    }\n",
       "</style>\n",
       "<table border=\"1\" class=\"dataframe\">\n",
       "  <thead>\n",
       "    <tr style=\"text-align: right;\">\n",
       "      <th></th>\n",
       "      <th>column_name</th>\n",
       "      <th>missing_percent</th>\n",
       "    </tr>\n",
       "  </thead>\n",
       "  <tbody>\n",
       "    <tr>\n",
       "      <th>0</th>\n",
       "      <td>circ</td>\n",
       "      <td>5.058099</td>\n",
       "    </tr>\n",
       "    <tr>\n",
       "      <th>1</th>\n",
       "      <td>vma</td>\n",
       "      <td>1.428399</td>\n",
       "    </tr>\n",
       "    <tr>\n",
       "      <th>2</th>\n",
       "      <td>dep</td>\n",
       "      <td>1.082965</td>\n",
       "    </tr>\n",
       "    <tr>\n",
       "      <th>3</th>\n",
       "      <td>vosp</td>\n",
       "      <td>1.075439</td>\n",
       "    </tr>\n",
       "    <tr>\n",
       "      <th>4</th>\n",
       "      <td>nbv</td>\n",
       "      <td>1.056624</td>\n",
       "    </tr>\n",
       "    <tr>\n",
       "      <th>5</th>\n",
       "      <td>motor</td>\n",
       "      <td>0.278455</td>\n",
       "    </tr>\n",
       "    <tr>\n",
       "      <th>6</th>\n",
       "      <td>situ</td>\n",
       "      <td>0.170836</td>\n",
       "    </tr>\n",
       "    <tr>\n",
       "      <th>7</th>\n",
       "      <td>infra</td>\n",
       "      <td>0.074506</td>\n",
       "    </tr>\n",
       "    <tr>\n",
       "      <th>8</th>\n",
       "      <td>obsm</td>\n",
       "      <td>0.066980</td>\n",
       "    </tr>\n",
       "    <tr>\n",
       "      <th>9</th>\n",
       "      <td>secu1</td>\n",
       "      <td>0.066227</td>\n",
       "    </tr>\n",
       "    <tr>\n",
       "      <th>10</th>\n",
       "      <td>choc</td>\n",
       "      <td>0.036876</td>\n",
       "    </tr>\n",
       "    <tr>\n",
       "      <th>11</th>\n",
       "      <td>senc</td>\n",
       "      <td>0.034619</td>\n",
       "    </tr>\n",
       "    <tr>\n",
       "      <th>12</th>\n",
       "      <td>manv</td>\n",
       "      <td>0.034619</td>\n",
       "    </tr>\n",
       "    <tr>\n",
       "      <th>13</th>\n",
       "      <td>obs</td>\n",
       "      <td>0.032361</td>\n",
       "    </tr>\n",
       "    <tr>\n",
       "      <th>14</th>\n",
       "      <td>surf</td>\n",
       "      <td>0.030103</td>\n",
       "    </tr>\n",
       "    <tr>\n",
       "      <th>15</th>\n",
       "      <td>prof</td>\n",
       "      <td>0.023330</td>\n",
       "    </tr>\n",
       "    <tr>\n",
       "      <th>16</th>\n",
       "      <td>plan</td>\n",
       "      <td>0.012041</td>\n",
       "    </tr>\n",
       "    <tr>\n",
       "      <th>17</th>\n",
       "      <td>col</td>\n",
       "      <td>0.001505</td>\n",
       "    </tr>\n",
       "    <tr>\n",
       "      <th>18</th>\n",
       "      <td>atm</td>\n",
       "      <td>0.000753</td>\n",
       "    </tr>\n",
       "  </tbody>\n",
       "</table>\n",
       "</div>"
      ],
      "text/plain": [
       "   column_name  missing_percent\n",
       "0         circ         5.058099\n",
       "1          vma         1.428399\n",
       "2          dep         1.082965\n",
       "3         vosp         1.075439\n",
       "4          nbv         1.056624\n",
       "5        motor         0.278455\n",
       "6         situ         0.170836\n",
       "7        infra         0.074506\n",
       "8         obsm         0.066980\n",
       "9        secu1         0.066227\n",
       "10        choc         0.036876\n",
       "11        senc         0.034619\n",
       "12        manv         0.034619\n",
       "13         obs         0.032361\n",
       "14        surf         0.030103\n",
       "15        prof         0.023330\n",
       "16        plan         0.012041\n",
       "17         col         0.001505\n",
       "18         atm         0.000753"
      ]
     },
     "execution_count": 30,
     "metadata": {},
     "output_type": "execute_result"
    }
   ],
   "source": [
    "percent_missing = victime.isna().sum() * 100 / len(victime)\n",
    "missing_value_df = pd.DataFrame({'column_name': victime.columns, 'missing_percent': percent_missing}).sort_values(by='missing_percent', ascending=False).reset_index(drop=True)\n",
    "missing_value_df = missing_value_df[missing_value_df['missing_percent']>0]\n",
    "missing_value_df"
   ]
  },
  {
   "cell_type": "markdown",
   "metadata": {},
   "source": [
    "Ensuite, suppprimons les lignes dont les valeurs manquantes représentent moins d'1% de leurs colonnes respectives."
   ]
  },
  {
   "cell_type": "code",
   "execution_count": 31,
   "metadata": {},
   "outputs": [
    {
     "data": {
      "text/html": [
       "<div>\n",
       "<style scoped>\n",
       "    .dataframe tbody tr th:only-of-type {\n",
       "        vertical-align: middle;\n",
       "    }\n",
       "\n",
       "    .dataframe tbody tr th {\n",
       "        vertical-align: top;\n",
       "    }\n",
       "\n",
       "    .dataframe thead th {\n",
       "        text-align: right;\n",
       "    }\n",
       "</style>\n",
       "<table border=\"1\" class=\"dataframe\">\n",
       "  <thead>\n",
       "    <tr style=\"text-align: right;\">\n",
       "      <th></th>\n",
       "      <th>column_name</th>\n",
       "      <th>missing_percent</th>\n",
       "    </tr>\n",
       "  </thead>\n",
       "  <tbody>\n",
       "    <tr>\n",
       "      <th>0</th>\n",
       "      <td>circ</td>\n",
       "      <td>4.776110</td>\n",
       "    </tr>\n",
       "    <tr>\n",
       "      <th>1</th>\n",
       "      <td>dep</td>\n",
       "      <td>1.103303</td>\n",
       "    </tr>\n",
       "    <tr>\n",
       "      <th>2</th>\n",
       "      <td>vma</td>\n",
       "      <td>1.051021</td>\n",
       "    </tr>\n",
       "  </tbody>\n",
       "</table>\n",
       "</div>"
      ],
      "text/plain": [
       "  column_name  missing_percent\n",
       "0        circ         4.776110\n",
       "1         dep         1.103303\n",
       "2         vma         1.051021"
      ]
     },
     "execution_count": 31,
     "metadata": {},
     "output_type": "execute_result"
    }
   ],
   "source": [
    "missing_value_df_lessthan1 = missing_value_df[(missing_value_df['missing_percent']>0)&(missing_value_df['missing_percent']<1)]\n",
    "missing_list = list(missing_value_df_lessthan1['column_name'])\n",
    "\n",
    "for i in range(len(missing_list)):\n",
    "    if len(missing_list)>0:\n",
    "        victime.dropna(subset=[missing_list[0]], inplace=True)\n",
    "        victime.reset_index(drop=True)\n",
    "        missing_value_df = pd.DataFrame({'column_name': victime.columns, 'missing_percent': victime.isna().sum() * 100 / len(victime)}).sort_values(by='missing_percent', ascending=False).reset_index(drop=True)\n",
    "        missing_value_df_lessthan1 = missing_value_df[(missing_value_df['missing_percent']>0) & (missing_value_df['missing_percent']<1)]\n",
    "        missing_list = list(missing_value_df_lessthan1['column_name'])\n",
    "    else:\n",
    "        break\n",
    "\n",
    "percent_missing = victime.isna().sum() * 100 / len(victime)\n",
    "missing_value_df = pd.DataFrame({'column_name': victime.columns, 'missing_percent': percent_missing}).sort_values(by='missing_percent', ascending=False).reset_index(drop=True)\n",
    "missing_value_df = missing_value_df[missing_value_df['missing_percent']>0]\n",
    "missing_value_df"
   ]
  },
  {
   "cell_type": "code",
   "execution_count": 32,
   "metadata": {},
   "outputs": [
    {
     "name": "stdout",
     "output_type": "stream",
     "text": [
      "3 colonnes ont un ratio de valeurs manquantes comprises entre 1 et 10%.\n",
      "Nous décidons de remplacer les valeurs manquantes des séries catégorielles par la valeur majoritaire, et celles des séries numériques par la médiane.\n",
      "Nous remplaçons les numéros de département qui manquent par la valeur 0 (inconnu).\n"
     ]
    }
   ],
   "source": [
    "print(f\"{len(missing_value_df)} colonnes ont un ratio de valeurs manquantes comprises entre 1 et 10%.\")\n",
    "print(\"Nous décidons de remplacer les valeurs manquantes des séries catégorielles par la valeur majoritaire, et celles des séries numériques par la médiane.\")\n",
    "print(\"Nous remplaçons les numéros de département qui manquent par la valeur 0 (inconnu).\")"
   ]
  },
  {
   "cell_type": "code",
   "execution_count": 33,
   "metadata": {},
   "outputs": [],
   "source": [
    "victime.dep.fillna(0, inplace=True)\n",
    "victime.circ.fillna(victime.circ.mode()[0], inplace=True)\n",
    "victime.vma.fillna(victime.vma.median(), inplace=True)\n",
    "\n",
    "percent_missing = victime.isna().sum() * 100 / len(victime)\n",
    "missing_value_df = pd.DataFrame({'column_name': victime.columns, 'missing_percent': percent_missing}).sort_values(by='missing_percent', ascending=False).reset_index(drop=True)\n",
    "missing_value_df = missing_value_df[missing_value_df['missing_percent']>0]"
   ]
  },
  {
   "cell_type": "markdown",
   "metadata": {},
   "source": [
    "Vérifions que notre jeu de données ne comprend plus aucune valeur manquante :"
   ]
  },
  {
   "cell_type": "code",
   "execution_count": null,
   "metadata": {},
   "outputs": [],
   "source": []
  },
  {
   "cell_type": "code",
   "execution_count": 34,
   "metadata": {},
   "outputs": [
    {
     "name": "stdout",
     "output_type": "stream",
     "text": [
      "Plus de valeur manquante dans le jeu de données.\n"
     ]
    }
   ],
   "source": [
    "if victime.isna().sum().any() == False:\n",
    "    print('Plus de valeur manquante dans le jeu de données.')\n",
    "else:\n",
    "    print(victime.isna().sum())"
   ]
  },
  {
   "cell_type": "code",
   "execution_count": 35,
   "metadata": {},
   "outputs": [
    {
     "data": {
      "text/plain": [
       "(130064, 35)"
      ]
     },
     "execution_count": 35,
     "metadata": {},
     "output_type": "execute_result"
    }
   ],
   "source": [
    "victime.shape"
   ]
  },
  {
   "cell_type": "markdown",
   "metadata": {},
   "source": [
    "**Valeurs aberrantes**\n",
    "\n",
    "Repérons et traitons les valeurs aberrantes."
   ]
  },
  {
   "cell_type": "code",
   "execution_count": 36,
   "metadata": {},
   "outputs": [
    {
     "data": {
      "text/plain": [
       "Num_Acc        201900058840\n",
       "id_vehicule       138306525\n",
       "num_veh                 \\01\n",
       "place                    10\n",
       "catu                      3\n",
       "grav                      4\n",
       "sexe                      2\n",
       "secu1                     9\n",
       "senc                      3\n",
       "catv                     99\n",
       "obs                      17\n",
       "obsm                      9\n",
       "choc                      9\n",
       "manv                     26\n",
       "motor                     6\n",
       "mois                     12\n",
       "an                     2019\n",
       "lum                       5\n",
       "dep                     988\n",
       "agg                       2\n",
       "int                       9\n",
       "atm                       9\n",
       "col                       7\n",
       "lat              63,5680660\n",
       "long              9,5507480\n",
       "catr                      9\n",
       "circ                      4\n",
       "nbv                      12\n",
       "vosp                      3\n",
       "prof                      4\n",
       "plan                      4\n",
       "surf                      9\n",
       "infra                     9\n",
       "situ                      8\n",
       "vma                     800\n",
       "dtype: object"
      ]
     },
     "execution_count": 36,
     "metadata": {},
     "output_type": "execute_result"
    }
   ],
   "source": [
    "victime.max()"
   ]
  },
  {
   "cell_type": "markdown",
   "metadata": {},
   "source": [
    "**Observations**\n",
    "\n",
    "En premier lieu, la colonne 'vma' (= vitesse maximale autorisée au lieu de l'accident), avec une valeur maximale de 800 km/h, comprend de toute évidence des valeurs aberrantes.\n",
    "Nous décidons de la winsoriser."
   ]
  },
  {
   "cell_type": "code",
   "execution_count": 37,
   "metadata": {},
   "outputs": [
    {
     "data": {
      "text/plain": [
       "<AxesSubplot:>"
      ]
     },
     "execution_count": 37,
     "metadata": {},
     "output_type": "execute_result"
    },
    {
     "data": {
      "image/png": "[encoded data removed]",
      "text/plain": [
       "<Figure size 432x288 with 1 Axes>"
      ]
     },
     "metadata": {
      "needs_background": "light"
     },
     "output_type": "display_data"
    }
   ],
   "source": [
    "victime.boxplot(column=['vma'])"
   ]
  },
  {
   "cell_type": "code",
   "execution_count": 38,
   "metadata": {},
   "outputs": [
    {
     "data": {
      "text/plain": [
       "130.0"
      ]
     },
     "execution_count": 38,
     "metadata": {},
     "output_type": "execute_result"
    }
   ],
   "source": [
    "upper = 130\n",
    "lower = 10\n",
    "victime.vma = victime['vma'].clip(lower, upper)\n",
    "\n",
    "victime.vma.max()"
   ]
  },
  {
   "cell_type": "code",
   "execution_count": 39,
   "metadata": {},
   "outputs": [
    {
     "data": {
      "text/plain": [
       "<AxesSubplot:>"
      ]
     },
     "execution_count": 39,
     "metadata": {},
     "output_type": "execute_result"
    },
    {
     "data": {
      "image/png": "[encoded data removed]",
      "text/plain": [
       "<Figure size 432x288 with 1 Axes>"
      ]
     },
     "metadata": {
      "needs_background": "light"
     },
     "output_type": "display_data"
    }
   ],
   "source": [
    "victime.boxplot(column=['vma'])"
   ]
  },
  {
   "cell_type": "markdown",
   "metadata": {},
   "source": [
    "**Binning**"
   ]
  },
  {
   "cell_type": "code",
   "execution_count": 40,
   "metadata": {},
   "outputs": [
    {
     "data": {
      "text/plain": [
       "<AxesSubplot:xlabel='place', ylabel='count'>"
      ]
     },
     "execution_count": 40,
     "metadata": {},
     "output_type": "execute_result"
    },
    {
     "data": {
      "image/png": "[encoded data removed]",
      "text/plain": [
       "<Figure size 432x288 with 1 Axes>"
      ]
     },
     "metadata": {
      "needs_background": "light"
     },
     "output_type": "display_data"
    }
   ],
   "source": [
    "sns.countplot(data=victime, x=\"place\")"
   ]
  },
  {
   "cell_type": "markdown",
   "metadata": {},
   "source": [
    "On vérifie que la valeur 10 dans 'place' correspond au statut 'pieton'.\n",
    "On garde les valeurs 1, 2 et 10 de 'place'."
   ]
  },
  {
   "cell_type": "code",
   "execution_count": 41,
   "metadata": {},
   "outputs": [
    {
     "data": {
      "text/plain": [
       "1    41.561846\n",
       "4    40.027986\n",
       "3    15.759165\n",
       "2     2.651003\n",
       "Name: grav, dtype: float64"
      ]
     },
     "execution_count": 41,
     "metadata": {},
     "output_type": "execute_result"
    }
   ],
   "source": [
    "victime.grav.value_counts()*100/len(victime)"
   ]
  },
  {
   "cell_type": "code",
   "execution_count": 42,
   "metadata": {},
   "outputs": [
    {
     "data": {
      "text/plain": [
       "1    95381\n",
       "2    23904\n",
       "3    10779\n",
       "Name: catu, dtype: int64"
      ]
     },
     "execution_count": 42,
     "metadata": {},
     "output_type": "execute_result"
    }
   ],
   "source": [
    "victime.catu.value_counts()"
   ]
  },
  {
   "cell_type": "code",
   "execution_count": 43,
   "metadata": {},
   "outputs": [
    {
     "data": {
      "text/plain": [
       "A01     78630\n",
       "B01     43597\n",
       "C01      5328\n",
       "D01      1126\n",
       "Z01       793\n",
       "E01       272\n",
       "F01       101\n",
       "Y01        61\n",
       "G01        42\n",
       "H01        20\n",
       "T01        17\n",
       "I01        16\n",
       "M01        11\n",
       "K01         9\n",
       "J01         8\n",
       "L01         7\n",
       "X01         4\n",
       "W01         4\n",
       "N01         3\n",
       "O01         3\n",
       "U01         2\n",
       "MA01        2\n",
       "Q01         2\n",
       "LB01        1\n",
       "CB01        1\n",
       "VF01        1\n",
       "P01         1\n",
       "V01         1\n",
       "\\01         1\n",
       "Name: num_veh, dtype: int64"
      ]
     },
     "execution_count": 43,
     "metadata": {},
     "output_type": "execute_result"
    }
   ],
   "source": [
    "victime.num_veh.value_counts()"
   ]
  },
  {
   "cell_type": "code",
   "execution_count": 44,
   "metadata": {},
   "outputs": [
    {
     "data": {
      "text/html": [
       "<div>\n",
       "<style scoped>\n",
       "    .dataframe tbody tr th:only-of-type {\n",
       "        vertical-align: middle;\n",
       "    }\n",
       "\n",
       "    .dataframe tbody tr th {\n",
       "        vertical-align: top;\n",
       "    }\n",
       "\n",
       "    .dataframe thead th {\n",
       "        text-align: right;\n",
       "    }\n",
       "</style>\n",
       "<table border=\"1\" class=\"dataframe\">\n",
       "  <thead>\n",
       "    <tr style=\"text-align: right;\">\n",
       "      <th>col_0</th>\n",
       "      <th>count</th>\n",
       "    </tr>\n",
       "    <tr>\n",
       "      <th>Num_Acc</th>\n",
       "      <th></th>\n",
       "    </tr>\n",
       "  </thead>\n",
       "  <tbody>\n",
       "    <tr>\n",
       "      <th>201900029632</th>\n",
       "      <td>30</td>\n",
       "    </tr>\n",
       "    <tr>\n",
       "      <th>201900049689</th>\n",
       "      <td>28</td>\n",
       "    </tr>\n",
       "    <tr>\n",
       "      <th>201900027084</th>\n",
       "      <td>25</td>\n",
       "    </tr>\n",
       "    <tr>\n",
       "      <th>201900054644</th>\n",
       "      <td>24</td>\n",
       "    </tr>\n",
       "    <tr>\n",
       "      <th>201900057551</th>\n",
       "      <td>24</td>\n",
       "    </tr>\n",
       "    <tr>\n",
       "      <th>...</th>\n",
       "      <td>...</td>\n",
       "    </tr>\n",
       "    <tr>\n",
       "      <th>201900048228</th>\n",
       "      <td>1</td>\n",
       "    </tr>\n",
       "    <tr>\n",
       "      <th>201900011416</th>\n",
       "      <td>1</td>\n",
       "    </tr>\n",
       "    <tr>\n",
       "      <th>201900036759</th>\n",
       "      <td>1</td>\n",
       "    </tr>\n",
       "    <tr>\n",
       "      <th>201900048232</th>\n",
       "      <td>1</td>\n",
       "    </tr>\n",
       "    <tr>\n",
       "      <th>201900049910</th>\n",
       "      <td>1</td>\n",
       "    </tr>\n",
       "  </tbody>\n",
       "</table>\n",
       "<p>57586 rows × 1 columns</p>\n",
       "</div>"
      ],
      "text/plain": [
       "col_0         count\n",
       "Num_Acc            \n",
       "201900029632     30\n",
       "201900049689     28\n",
       "201900027084     25\n",
       "201900054644     24\n",
       "201900057551     24\n",
       "...             ...\n",
       "201900048228      1\n",
       "201900011416      1\n",
       "201900036759      1\n",
       "201900048232      1\n",
       "201900049910      1\n",
       "\n",
       "[57586 rows x 1 columns]"
      ]
     },
     "execution_count": 44,
     "metadata": {},
     "output_type": "execute_result"
    }
   ],
   "source": [
    "pd.DataFrame(pd.crosstab(index=victime.Num_Acc, columns = 'count')).sort_values(by='count', ascending=False)"
   ]
  },
  {
   "cell_type": "code",
   "execution_count": 45,
   "metadata": {},
   "outputs": [
    {
     "data": {
      "text/plain": [
       "7     64.193013\n",
       "33     6.988867\n",
       "10     6.593677\n",
       "1      3.917302\n",
       "2      3.231486\n",
       "30     2.709435\n",
       "32     2.120495\n",
       "31     1.595368\n",
       "34     1.202485\n",
       "37     0.991819\n",
       "3      0.894944\n",
       "15     0.802682\n",
       "14     0.684279\n",
       "17     0.659675\n",
       "50     0.541272\n",
       "43     0.418256\n",
       "99     0.403647\n",
       "38     0.382888\n",
       "13     0.367511\n",
       "21     0.209128\n",
       "80     0.195288\n",
       "20     0.190675\n",
       "0      0.163766\n",
       "36     0.152233\n",
       "40     0.146082\n",
       "60     0.108408\n",
       "39     0.043056\n",
       "16     0.033061\n",
       "42     0.029216\n",
       "35     0.019990\n",
       "41     0.009995\n",
       "Name: catv, dtype: float64"
      ]
     },
     "execution_count": 45,
     "metadata": {},
     "output_type": "execute_result"
    }
   ],
   "source": [
    "victime.catv.value_counts()*100/len(victime)"
   ]
  },
  {
   "cell_type": "code",
   "execution_count": 46,
   "metadata": {},
   "outputs": [
    {
     "data": {
      "text/plain": [
       "0.0     84.010180\n",
       "1.0      2.315014\n",
       "13.0     2.117419\n",
       "2.0      1.739144\n",
       "3.0      1.632273\n",
       "4.0      1.532323\n",
       "6.0      1.283983\n",
       "8.0      1.250154\n",
       "14.0     0.781154\n",
       "12.0     0.748862\n",
       "15.0     0.616620\n",
       "9.0      0.472844\n",
       "16.0     0.453623\n",
       "7.0      0.335988\n",
       "11.0     0.213741\n",
       "17.0     0.177605\n",
       "5.0      0.175298\n",
       "10.0     0.143775\n",
       "Name: obs, dtype: float64"
      ]
     },
     "execution_count": 46,
     "metadata": {},
     "output_type": "execute_result"
    }
   ],
   "source": [
    "victime.obs.value_counts()*100/len(victime)"
   ]
  },
  {
   "cell_type": "code",
   "execution_count": 47,
   "metadata": {},
   "outputs": [
    {
     "data": {
      "text/plain": [
       "2.0    64.155339\n",
       "0.0    19.030631\n",
       "1.0    15.315537\n",
       "9.0     0.759626\n",
       "6.0     0.614313\n",
       "4.0     0.068428\n",
       "5.0     0.056126\n",
       "Name: obsm, dtype: float64"
      ]
     },
     "execution_count": 47,
     "metadata": {},
     "output_type": "execute_result"
    }
   ],
   "source": [
    "victime.obsm.value_counts()*100/len(victime)"
   ]
  },
  {
   "cell_type": "code",
   "execution_count": 48,
   "metadata": {},
   "outputs": [
    {
     "data": {
      "text/plain": [
       "1.0    81.875077\n",
       "2.0     8.510426\n",
       "3.0     8.379721\n",
       "4.0     1.234777\n",
       "Name: plan, dtype: float64"
      ]
     },
     "execution_count": 48,
     "metadata": {},
     "output_type": "execute_result"
    }
   ],
   "source": [
    "victime.plan.value_counts()*100/len(victime)"
   ]
  },
  {
   "cell_type": "code",
   "execution_count": 49,
   "metadata": {},
   "outputs": [
    {
     "data": {
      "text/plain": [
       "1.0    36.168348\n",
       "3.0    15.197903\n",
       "2.0    12.992834\n",
       "4.0    10.265715\n",
       "8.0     6.611361\n",
       "7.0     5.662597\n",
       "0.0     5.083651\n",
       "6.0     3.517499\n",
       "5.0     2.839371\n",
       "9.0     1.660721\n",
       "Name: choc, dtype: float64"
      ]
     },
     "execution_count": 49,
     "metadata": {},
     "output_type": "execute_result"
    }
   ],
   "source": [
    "victime.choc.value_counts()*100/len(victime)"
   ]
  },
  {
   "cell_type": "code",
   "execution_count": 50,
   "metadata": {},
   "outputs": [
    {
     "data": {
      "text/plain": [
       "1.0     42.007012\n",
       "2.0     11.199102\n",
       "15.0     7.827685\n",
       "0.0      5.392730\n",
       "13.0     4.461650\n",
       "26.0     3.662812\n",
       "17.0     3.406016\n",
       "23.0     2.754029\n",
       "9.0      2.724044\n",
       "16.0     2.584881\n",
       "19.0     2.394206\n",
       "14.0     2.212757\n",
       "21.0     1.636118\n",
       "11.0     1.054865\n",
       "5.0      0.986437\n",
       "12.0     0.980287\n",
       "3.0      0.968754\n",
       "10.0     0.663519\n",
       "20.0     0.609700\n",
       "4.0      0.606624\n",
       "18.0     0.497447\n",
       "24.0     0.387502\n",
       "22.0     0.301390\n",
       "25.0     0.249877\n",
       "7.0      0.245264\n",
       "6.0      0.148388\n",
       "8.0      0.036905\n",
       "Name: manv, dtype: float64"
      ]
     },
     "execution_count": 50,
     "metadata": {},
     "output_type": "execute_result"
    }
   ],
   "source": [
    "victime.manv.value_counts()*100/len(victime)"
   ]
  },
  {
   "cell_type": "code",
   "execution_count": 51,
   "metadata": {},
   "outputs": [
    {
     "data": {
      "text/plain": [
       "1.0    82.404047\n",
       "0.0    10.248032\n",
       "5.0     3.509042\n",
       "6.0     1.549237\n",
       "3.0     1.430834\n",
       "2.0     0.791918\n",
       "4.0     0.066890\n",
       "Name: motor, dtype: float64"
      ]
     },
     "execution_count": 51,
     "metadata": {},
     "output_type": "execute_result"
    }
   ],
   "source": [
    "victime.motor.value_counts()*100/len(victime)"
   ]
  },
  {
   "cell_type": "code",
   "execution_count": 52,
   "metadata": {},
   "outputs": [
    {
     "data": {
      "text/plain": [
       "2019    100.0\n",
       "Name: an, dtype: float64"
      ]
     },
     "execution_count": 52,
     "metadata": {},
     "output_type": "execute_result"
    }
   ],
   "source": [
    "victime.an.value_counts()*100/len(victime)"
   ]
  },
  {
   "cell_type": "code",
   "execution_count": 53,
   "metadata": {},
   "outputs": [
    {
     "data": {
      "text/plain": [
       "1    66.646420\n",
       "5    15.819135\n",
       "3    10.397958\n",
       "2     6.226934\n",
       "4     0.909552\n",
       "Name: lum, dtype: float64"
      ]
     },
     "execution_count": 53,
     "metadata": {},
     "output_type": "execute_result"
    }
   ],
   "source": [
    "victime.lum.value_counts()*100/len(victime)"
   ]
  },
  {
   "cell_type": "code",
   "execution_count": 54,
   "metadata": {},
   "outputs": [
    {
     "data": {
      "text/plain": [
       "Num_Acc          int64\n",
       "id_vehicule      int64\n",
       "num_veh         object\n",
       "place            int64\n",
       "catu             int64\n",
       "grav             int64\n",
       "sexe             int64\n",
       "secu1          float64\n",
       "senc           float64\n",
       "catv             int64\n",
       "obs            float64\n",
       "obsm           float64\n",
       "choc           float64\n",
       "manv           float64\n",
       "motor          float64\n",
       "mois             int64\n",
       "an               int64\n",
       "lum              int64\n",
       "dep            float64\n",
       "agg              int64\n",
       "int              int64\n",
       "atm            float64\n",
       "col            float64\n",
       "lat             object\n",
       "long            object\n",
       "catr             int64\n",
       "circ           float64\n",
       "nbv            float64\n",
       "vosp           float64\n",
       "prof           float64\n",
       "plan           float64\n",
       "surf           float64\n",
       "infra          float64\n",
       "situ           float64\n",
       "vma            float64\n",
       "dtype: object"
      ]
     },
     "execution_count": 54,
     "metadata": {},
     "output_type": "execute_result"
    }
   ],
   "source": [
    "victime.dtypes"
   ]
  },
  {
   "cell_type": "markdown",
   "metadata": {},
   "source": [
    "**Décisions de binning :**\n",
    "\n",
    "- place : on garde 1,2 et 10, le reste \"autres\" => DONE\n",
    "- secu1 : On garde, 1,2,8 et0 => DOne\n",
    "- catv : on garde, 7, 33, 10 => done\n",
    "- obs : on garde que 0 => Done\n",
    "- obsm : 0,1,2 on garde => Done\n",
    "- choc : on garde 1,2,3,4 seuelement => done\n",
    "- manv : on garde 1 , 2, 15 => done\n",
    "- motor : on apprend juste que 82% des véhicules sont en hydrocarbure : on supprime la colonne\n",
    "- an : une seule valeur (l'année 2019) : on supprime la colonne\n",
    "- lum  : on garde, 1, 5 et 3 => done\n",
    "- dep : on garde paris, region parisienne et autres => done"
   ]
  },
  {
   "cell_type": "code",
   "execution_count": 55,
   "metadata": {},
   "outputs": [],
   "source": [
    "victime.drop('an', axis=1, inplace=True)\n",
    "victime.drop('motor', axis=1, inplace=True)"
   ]
  },
  {
   "cell_type": "code",
   "execution_count": 56,
   "metadata": {},
   "outputs": [],
   "source": [
    "victime.place.replace([3,4,9,7,5,8,6],'Other', inplace=True)\n",
    "victime.secu1.replace([3.0,9.0,5.0,6.0,4.0,7.0],'Other', inplace=True)\n",
    "victime.catv.replace([1,2,30,32,31,34,37,3,15,14,17,50,43,99,38,13,21,80,20,0,36,40,60,39,16,42,35,41],'Other', inplace=True)\n",
    "victime.obs.replace([1.0,13.0,2.0,3.0,4.0,6.0,8.0,14.0,12.0,15.0,9.0,16.0,7.0,11.0,17.0,5.0,10.0],'Other', inplace=True, regex=True)\n",
    "victime.obsm.replace([5.0,4.0,6.0,9.0,],'Other', inplace=True, regex=True)\n",
    "victime.choc.replace([5.0,6.0,9.0,0.0,8.0,7.0],'Other', inplace=True, regex=True)\n",
    "victime.manv.replace([0.0,13.0,26.0,17.0,23.0,9.0,16.0,19.0,14.0,21.0,11.0,5.0,12.0,3.0,10.0,20.0,4.0,18.0,24.0,22.0,25.0,7.0,6.0,8.0],'Other', inplace=True, regex=True)\n",
    "victime.lum.replace([2,4],'Other', inplace=True, regex=True)"
   ]
  },
  {
   "cell_type": "code",
   "execution_count": 57,
   "metadata": {},
   "outputs": [],
   "source": [
    "victime.dep.replace([77.0,78.0,91.0,92.0,93.0,94.0,95.0],'Ile de france', inplace=True)\n",
    "victime.dep.replace(75.0,'Paris', inplace=True)\n",
    "other_dep = (victime.dep.value_counts()*100).index[2:]\n",
    "victime.dep.replace(other_dep,'Other', inplace=True)"
   ]
  },
  {
   "cell_type": "code",
   "execution_count": 58,
   "metadata": {},
   "outputs": [
    {
     "data": {
      "text/plain": [
       "Num_Acc          int64\n",
       "id_vehicule      int64\n",
       "num_veh         object\n",
       "place           object\n",
       "catu             int64\n",
       "grav             int64\n",
       "sexe             int64\n",
       "secu1           object\n",
       "senc           float64\n",
       "catv            object\n",
       "obs             object\n",
       "obsm            object\n",
       "choc            object\n",
       "manv            object\n",
       "mois             int64\n",
       "lum             object\n",
       "dep             object\n",
       "agg              int64\n",
       "int              int64\n",
       "atm            float64\n",
       "col            float64\n",
       "lat             object\n",
       "long            object\n",
       "catr             int64\n",
       "circ           float64\n",
       "nbv            float64\n",
       "vosp           float64\n",
       "prof           float64\n",
       "plan           float64\n",
       "surf           float64\n",
       "infra          float64\n",
       "situ           float64\n",
       "vma            float64\n",
       "dtype: object"
      ]
     },
     "execution_count": 58,
     "metadata": {},
     "output_type": "execute_result"
    }
   ],
   "source": [
    "victime.dtypes"
   ]
  },
  {
   "cell_type": "markdown",
   "metadata": {},
   "source": [
    "**Observations**\n",
    "\n",
    "Notre jeu de données a désormais la forme suivante."
   ]
  },
  {
   "cell_type": "code",
   "execution_count": 59,
   "metadata": {},
   "outputs": [
    {
     "data": {
      "text/plain": [
       "(130064, 33)"
      ]
     },
     "execution_count": 59,
     "metadata": {},
     "output_type": "execute_result"
    }
   ],
   "source": [
    "victime.shape"
   ]
  },
  {
   "cell_type": "markdown",
   "metadata": {},
   "source": [
    "Conscients du fléau de la dimension, nous savons que le nombre de lignes doit être exponentiellement proportionnel au nombre de features. Nous vérifions ci-dessous que c'est bien le cas."
   ]
  },
  {
   "cell_type": "code",
   "execution_count": 60,
   "metadata": {},
   "outputs": [
    {
     "data": {
      "text/plain": [
       "3941.3333333333335"
      ]
     },
     "execution_count": 60,
     "metadata": {},
     "output_type": "execute_result"
    }
   ],
   "source": [
    "victime.shape[0]/victime.shape[1]"
   ]
  },
  {
   "cell_type": "code",
   "execution_count": null,
   "metadata": {},
   "outputs": [],
   "source": []
  },
  {
   "cell_type": "markdown",
   "metadata": {},
   "source": [
    "**Corrélations / Fléau de la dimension**\n",
    "\n",
    "Recherchons les fortes corrélations entre colonnes (qui sont à éviter). \n",
    "Nous fixons à 90% le seuil à partir duquel nous considérons que la corrélation entre 2 colonnes est tellement élevée qu'il convient de supprimer l'une des 2 colonnes.\n",
    "En l'occurrence, ce seuil n'est atteint pour aucune paire de colonnes, aussi nous n'identifions pas de colonnes redondantes."
   ]
  },
  {
   "cell_type": "code",
   "execution_count": 61,
   "metadata": {},
   "outputs": [
    {
     "data": {
      "text/plain": [
       "<AxesSubplot:>"
      ]
     },
     "execution_count": 61,
     "metadata": {},
     "output_type": "execute_result"
    },
    {
     "data": {
      "image/png": "[encoded data removed]",
      "text/plain": [
       "<Figure size 1440x1440 with 2 Axes>"
      ]
     },
     "metadata": {
      "needs_background": "light"
     },
     "output_type": "display_data"
    }
   ],
   "source": [
    "plt.figure(figsize=(20, 20))\n",
    "sns.heatmap(np.abs(victime.corr())>0.9, annot=True)"
   ]
  },
  {
   "cell_type": "code",
   "execution_count": null,
   "metadata": {},
   "outputs": [],
   "source": []
  },
  {
   "cell_type": "markdown",
   "metadata": {},
   "source": [
    "\n",
    "**Sur les séries catégorielles : matrice de CRAMER, pas de pearson**\n"
   ]
  },
  {
   "cell_type": "code",
   "execution_count": null,
   "metadata": {},
   "outputs": [],
   "source": []
  },
  {
   "cell_type": "markdown",
   "metadata": {},
   "source": [
    "**POUR PANDAS PROFILE et GRAPHIQUES TABLEAU** "
   ]
  },
  {
   "cell_type": "code",
   "execution_count": 62,
   "metadata": {},
   "outputs": [],
   "source": [
    "#victime.vma = victime.vma.astype('int')"
   ]
  },
  {
   "cell_type": "code",
   "execution_count": 63,
   "metadata": {},
   "outputs": [
    {
     "data": {
      "text/plain": [
       "Num_Acc         object\n",
       "id_vehicule     object\n",
       "num_veh         object\n",
       "place           object\n",
       "catu            object\n",
       "grav            object\n",
       "sexe            object\n",
       "secu1           object\n",
       "senc            object\n",
       "catv            object\n",
       "obs             object\n",
       "obsm            object\n",
       "choc            object\n",
       "manv            object\n",
       "mois            object\n",
       "lum             object\n",
       "dep             object\n",
       "agg             object\n",
       "int             object\n",
       "atm             object\n",
       "col             object\n",
       "lat             object\n",
       "long            object\n",
       "catr            object\n",
       "circ            object\n",
       "nbv            float64\n",
       "vosp            object\n",
       "prof            object\n",
       "plan            object\n",
       "surf            object\n",
       "infra           object\n",
       "situ            object\n",
       "vma            float64\n",
       "dtype: object"
      ]
     },
     "execution_count": 63,
     "metadata": {},
     "output_type": "execute_result"
    }
   ],
   "source": [
    "def convert_to_string(col):\n",
    "    victime[col] = victime[col].astype(str)\n",
    "convert_to_string('mois')\n",
    "convert_to_string('int')\n",
    "convert_to_string('atm')\n",
    "convert_to_string('col')\n",
    "convert_to_string('catr')\n",
    "convert_to_string('surf')\n",
    "convert_to_string('infra')\n",
    "convert_to_string('Num_Acc')\n",
    "convert_to_string('id_vehicule')\n",
    "convert_to_string('catu')\n",
    "convert_to_string('grav')\n",
    "convert_to_string('sexe')\n",
    "convert_to_string('senc')\n",
    "convert_to_string('agg')\n",
    "convert_to_string('circ')\n",
    "convert_to_string('vosp')\n",
    "convert_to_string('prof')\n",
    "convert_to_string('plan')\n",
    "convert_to_string('situ')\n",
    "\n",
    "victime.dtypes"
   ]
  },
  {
   "cell_type": "code",
   "execution_count": 64,
   "metadata": {},
   "outputs": [],
   "source": [
    "victime.to_csv('./data/victime_pandas_profile.csv', index=False)"
   ]
  },
  {
   "cell_type": "code",
   "execution_count": 65,
   "metadata": {},
   "outputs": [
    {
     "data": {
      "text/plain": [
       "Num_Acc          int64\n",
       "id_vehicule      int64\n",
       "num_veh         object\n",
       "place           object\n",
       "catu             int64\n",
       "grav             int64\n",
       "sexe             int64\n",
       "secu1           object\n",
       "senc           float64\n",
       "catv            object\n",
       "obs             object\n",
       "obsm            object\n",
       "choc            object\n",
       "manv            object\n",
       "mois             int64\n",
       "lum             object\n",
       "dep             object\n",
       "agg              int64\n",
       "int              int64\n",
       "atm            float64\n",
       "col            float64\n",
       "lat             object\n",
       "long            object\n",
       "catr             int64\n",
       "circ           float64\n",
       "nbv            float64\n",
       "vosp           float64\n",
       "prof           float64\n",
       "plan           float64\n",
       "surf           float64\n",
       "infra          float64\n",
       "situ           float64\n",
       "vma            float64\n",
       "dtype: object"
      ]
     },
     "execution_count": 65,
     "metadata": {},
     "output_type": "execute_result"
    }
   ],
   "source": [
    "from pandas_profiling import ProfileReport\n",
    "victime = pd.read_csv(\"./data/victime_pandas_profile.csv\")\n",
    "victime.dtypes"
   ]
  },
  {
   "cell_type": "code",
   "execution_count": 66,
   "metadata": {},
   "outputs": [
    {
     "data": {
      "text/plain": [
       "0"
      ]
     },
     "execution_count": 66,
     "metadata": {},
     "output_type": "execute_result"
    }
   ],
   "source": [
    "victime.vma.isna().sum()"
   ]
  },
  {
   "cell_type": "code",
   "execution_count": 67,
   "metadata": {},
   "outputs": [
    {
     "data": {
      "text/plain": [
       "50.0     72535\n",
       "80.0     20206\n",
       "70.0      9885\n",
       "90.0      8710\n",
       "30.0      7965\n",
       "110.0     5638\n",
       "130.0     3713\n",
       "60.0       481\n",
       "10.0       343\n",
       "20.0       282\n",
       "40.0       120\n",
       "15.0        61\n",
       "45.0        53\n",
       "100.0       30\n",
       "25.0        19\n",
       "35.0        11\n",
       "42.0         4\n",
       "65.0         4\n",
       "120.0        2\n",
       "12.0         2\n",
       "Name: vma, dtype: int64"
      ]
     },
     "execution_count": 67,
     "metadata": {},
     "output_type": "execute_result"
    }
   ],
   "source": [
    "victime.vma.value_counts()"
   ]
  },
  {
   "cell_type": "code",
   "execution_count": 68,
   "metadata": {},
   "outputs": [
    {
     "data": {
      "text/plain": [
       "Num_Acc         object\n",
       "id_vehicule     object\n",
       "num_veh         object\n",
       "place           object\n",
       "catu            object\n",
       "grav            object\n",
       "sexe            object\n",
       "secu1           object\n",
       "senc            object\n",
       "catv            object\n",
       "obs             object\n",
       "obsm            object\n",
       "choc            object\n",
       "manv            object\n",
       "mois            object\n",
       "lum             object\n",
       "dep             object\n",
       "agg             object\n",
       "int             object\n",
       "atm             object\n",
       "col             object\n",
       "lat             object\n",
       "long            object\n",
       "catr            object\n",
       "circ            object\n",
       "nbv            float64\n",
       "vosp            object\n",
       "prof            object\n",
       "plan            object\n",
       "surf            object\n",
       "infra           object\n",
       "situ            object\n",
       "vma            float64\n",
       "dtype: object"
      ]
     },
     "execution_count": 68,
     "metadata": {},
     "output_type": "execute_result"
    }
   ],
   "source": [
    "def convert_to_string(col):\n",
    "    victime[col] = victime[col].astype(str)\n",
    "convert_to_string('mois')\n",
    "convert_to_string('int')\n",
    "convert_to_string('atm')\n",
    "convert_to_string('col')\n",
    "convert_to_string('catr')\n",
    "convert_to_string('surf')\n",
    "convert_to_string('infra')\n",
    "convert_to_string('Num_Acc')\n",
    "convert_to_string('id_vehicule')\n",
    "convert_to_string('catu')\n",
    "convert_to_string('grav')\n",
    "convert_to_string('sexe')\n",
    "convert_to_string('senc')\n",
    "convert_to_string('agg')\n",
    "convert_to_string('circ')\n",
    "convert_to_string('vosp')\n",
    "convert_to_string('prof')\n",
    "convert_to_string('plan')\n",
    "convert_to_string('situ')\n",
    "\n",
    "victime.dtypes"
   ]
  },
  {
   "cell_type": "markdown",
   "metadata": {},
   "source": [
    "**Orphée, j'ai laissé ceci en inopérant pour l'instant, car c'est très long.\n",
    "C'est ce qui permet de télécharger le rapport Pandas Profile.\n",
    "\n",
    "#profile_v2 = ProfileReport(victime, title=\"Pandas Profiling Report\")\n",
    "#profile_v2.to_file(\"victimes_report.html\")"
   ]
  },
  {
   "cell_type": "markdown",
   "metadata": {},
   "source": [
    "**One-hot-encoding**\n",
    "\n",
    "On procède à l'encodage des variables catégorielles afin de les transformer en valeurs numériques."
   ]
  },
  {
   "cell_type": "code",
   "execution_count": 69,
   "metadata": {},
   "outputs": [],
   "source": [
    "y = victime['grav']\n",
    "\n",
    "features = victime[['catu', 'sexe', 'senc', 'catv', 'obsm', 'choc',\n",
    "            'mois', 'lum', 'dep', 'agg', 'atm', 'catr', 'circ','vosp',\n",
    "           'prof', 'surf', 'infra', 'situ']]\n",
    "\n",
    "# On garde que les variable catégorielles\n",
    "X_train_data = pd.get_dummies(features.astype(str), drop_first=True)"
   ]
  },
  {
   "cell_type": "code",
   "execution_count": 70,
   "metadata": {},
   "outputs": [
    {
     "data": {
      "text/plain": [
       "(130064, 80)"
      ]
     },
     "execution_count": 70,
     "metadata": {},
     "output_type": "execute_result"
    }
   ],
   "source": [
    "X_train_data.shape"
   ]
  },
  {
   "cell_type": "code",
   "execution_count": 71,
   "metadata": {},
   "outputs": [
    {
     "data": {
      "text/plain": [
       "Index(['catu_2', 'catu_3', 'sexe_2', 'senc_1.0', 'senc_2.0', 'senc_3.0',\n",
       "       'catv_33', 'catv_7', 'catv_Other', 'obsm_1.0', 'obsm_2.0', 'obsm_Other',\n",
       "       'choc_2.0', 'choc_3.0', 'choc_4.0', 'choc_Other', 'mois_10', 'mois_11',\n",
       "       'mois_12', 'mois_2', 'mois_3', 'mois_4', 'mois_5', 'mois_6', 'mois_7',\n",
       "       'mois_8', 'mois_9', 'lum_3', 'lum_5', 'lum_Other', 'dep_Other',\n",
       "       'dep_Paris', 'agg_2', 'atm_2.0', 'atm_3.0', 'atm_4.0', 'atm_5.0',\n",
       "       'atm_6.0', 'atm_7.0', 'atm_8.0', 'atm_9.0', 'catr_2', 'catr_3',\n",
       "       'catr_4', 'catr_5', 'catr_6', 'catr_7', 'catr_9', 'circ_2.0',\n",
       "       'circ_3.0', 'circ_4.0', 'vosp_1.0', 'vosp_2.0', 'vosp_3.0', 'prof_2.0',\n",
       "       'prof_3.0', 'prof_4.0', 'surf_2.0', 'surf_3.0', 'surf_4.0', 'surf_5.0',\n",
       "       'surf_6.0', 'surf_7.0', 'surf_8.0', 'surf_9.0', 'infra_1.0',\n",
       "       'infra_2.0', 'infra_3.0', 'infra_4.0', 'infra_5.0', 'infra_6.0',\n",
       "       'infra_7.0', 'infra_8.0', 'infra_9.0', 'situ_2.0', 'situ_3.0',\n",
       "       'situ_4.0', 'situ_5.0', 'situ_6.0', 'situ_8.0'],\n",
       "      dtype='object')"
      ]
     },
     "execution_count": 71,
     "metadata": {},
     "output_type": "execute_result"
    }
   ],
   "source": [
    "X_train_data.columns"
   ]
  },
  {
   "cell_type": "code",
   "execution_count": null,
   "metadata": {},
   "outputs": [],
   "source": []
  },
  {
   "cell_type": "markdown",
   "metadata": {},
   "source": [
    "## Machine Learning"
   ]
  },
  {
   "cell_type": "code",
   "execution_count": 72,
   "metadata": {},
   "outputs": [
    {
     "name": "stdout",
     "output_type": "stream",
     "text": [
      "104051\n",
      "26013\n"
     ]
    },
    {
     "data": {
      "text/plain": [
       "True"
      ]
     },
     "execution_count": 72,
     "metadata": {},
     "output_type": "execute_result"
    }
   ],
   "source": [
    "from sklearn.model_selection import train_test_split\n",
    "X = X_train_data\n",
    "y = victime.grav\n",
    "X_train, X_test, y_train, y_test = train_test_split(X, y, test_size=0.2)\n",
    "\n",
    "print(len(X_train))\n",
    "print(len(X_test))\n",
    "#check\n",
    "len(X_test)+len(X_train)==len(victime)\n"
   ]
  },
  {
   "cell_type": "markdown",
   "metadata": {},
   "source": [
    "### Choix et Apprentissage de divers Modèles"
   ]
  },
  {
   "cell_type": "markdown",
   "metadata": {},
   "source": [
    "On essaie 2 modèles de classification : Random Forest et Gradient Boosting.\n",
    "D'abord en procédant à une évaluation \"simple\", puis en \"cross-validation\"."
   ]
  },
  {
   "cell_type": "code",
   "execution_count": 73,
   "metadata": {},
   "outputs": [],
   "source": [
    "X_trainrf, X_testrf, y_trainrf, y_testrf = train_test_split(X_train_data,y)\n",
    "\n",
    "model_rf1 = RandomForestClassifier(n_estimators=100,\n",
    "                                  max_depth=8\n",
    "                                  )\n",
    "\n",
    "model_rf1.fit(X_trainrf, y_trainrf)\n",
    "predictions = model_rf1.predict(X_testrf)\n",
    "predictions_train = model_rf1.predict(X_trainrf)"
   ]
  },
  {
   "cell_type": "code",
   "execution_count": 74,
   "metadata": {},
   "outputs": [
    {
     "data": {
      "text/plain": [
       "1    41.561846\n",
       "4    40.027986\n",
       "3    15.759165\n",
       "2     2.651003\n",
       "Name: grav, dtype: float64"
      ]
     },
     "execution_count": 74,
     "metadata": {},
     "output_type": "execute_result"
    }
   ],
   "source": [
    "# Nous utiliserons le score de Balanced Accuracy (\"exactitude pondérée\") plutôt que le score d'Accuracy,\n",
    "# car nos classes cibles sont de tailles respectives déséquilibrées. Pour mémoire :\n",
    "y.value_counts()*100/len(victime)"
   ]
  },
  {
   "cell_type": "code",
   "execution_count": 75,
   "metadata": {},
   "outputs": [
    {
     "name": "stdout",
     "output_type": "stream",
     "text": [
      "0.3925231670098349\n",
      "0.3873759281423673\n"
     ]
    }
   ],
   "source": [
    "train_bal_acc = balanced_accuracy_score(y_trainrf, predictions_train)\n",
    "print(\"Score de Balanced Accuracy sur le jeu d'entraînement :\", train_bal_acc)\n",
    "test_bal_acc = balanced_accuracy_score(y_testrf, predictions)\n",
    "print(\"Score de Balanced Accuracy sur le jeu de test :\", test_bal_acc)"
   ]
  },
  {
   "cell_type": "code",
   "execution_count": 76,
   "metadata": {},
   "outputs": [
    {
     "name": "stdout",
     "output_type": "stream",
     "text": [
      "0.6041128470086522\n",
      "0.5937077131258457\n"
     ]
    }
   ],
   "source": [
    "# A titre de comparaison :\n",
    "train_acc = accuracy_score(y_trainrf, predictions_train)\n",
    "print(\" A titre de comparaison, score d'Accuracy sur le jeu d'entraînement :\", train_acc)\n",
    "test_acc = accuracy_score(y_testrf, predictions)\n",
    "print(\"A titre de comparaison, score de Balanced Accuracy sur le jeu de test :\", test_acc)"
   ]
  },
  {
   "cell_type": "markdown",
   "metadata": {},
   "source": [
    "**Observations sur le premier modèle**\n",
    "On a 2 scores d'évaluation proche mais peu élevés (moins de 40% de balanced accuracy). On est dans un cas d'underfitting (algorithme peu performant)"
   ]
  },
  {
   "cell_type": "markdown",
   "metadata": {},
   "source": [
    "Créons un deuxième modèle."
   ]
  },
  {
   "cell_type": "code",
   "execution_count": 77,
   "metadata": {},
   "outputs": [],
   "source": [
    "X_train, X_test, y_train, y_test = train_test_split(X_train_data,y)\n",
    "\n",
    "model_boosting = GradientBoostingClassifier(loss=\"deviance\",\n",
    "    learning_rate=0.2,\n",
    "    max_depth=5,\n",
    "    max_features=\"sqrt\",\n",
    "    subsample=0.95,\n",
    "    n_estimators=200)\n",
    "\n",
    "# On lance l'apprentissage :\n",
    "model_boosting.fit(X_train, y_train)\n",
    "\n",
    "# On calcule les prédictions\n",
    "predictions_test_xgb = model_boosting.predict(X_test)\n",
    "predictions_train_xgb = model_boosting.predict(X_train)"
   ]
  },
  {
   "cell_type": "code",
   "execution_count": 78,
   "metadata": {},
   "outputs": [
    {
     "name": "stdout",
     "output_type": "stream",
     "text": [
      "0.4899541199501334\n",
      "0.4446050190537302\n"
     ]
    }
   ],
   "source": [
    "train_bal_acc_xgb = balanced_accuracy_score(y_train, predictions_train_xgb)\n",
    "print(train_bal_acc_xgb)\n",
    "test_bal_acc_xgb = balanced_accuracy_score(y_test, predictions_test_xgb)\n",
    "print(test_bal_acc_xgb)"
   ]
  },
  {
   "cell_type": "code",
   "execution_count": null,
   "metadata": {},
   "outputs": [],
   "source": []
  },
  {
   "cell_type": "markdown",
   "metadata": {},
   "source": [
    "### Cross-Validation pour améliorer l'évaluation de l'efficacité des modèles"
   ]
  },
  {
   "cell_type": "markdown",
   "metadata": {},
   "source": [
    "Le jeu d'apprentissage est scindé en 10 \"sous-jeux\", et l'apprentissage a lieu 10 fois d'affilée sur 9 sous-jeux différents avec une évaluation sur le 10ème sous-jeu. On obtient donc 10 scores distincts d'efficacité, dont on calcule la moyenne et l'écart-type."
   ]
  },
  {
   "cell_type": "code",
   "execution_count": 79,
   "metadata": {},
   "outputs": [
    {
     "name": "stdout",
     "output_type": "stream",
     "text": [
      "Scores: [0.39662362 0.38390652 0.39311139 0.39227081 0.38464585 0.38702898\n",
      " 0.38577717 0.38853766 0.38481696 0.38522495]\n",
      "Mean: 0.3881943901239797\n",
      "Standard deviation: 0.004127562033886649\n"
     ]
    }
   ],
   "source": [
    "# Cross-validation of rf1 using balanced accuracy score\n",
    "from sklearn.model_selection import cross_val_score\n",
    "\n",
    "rf1_scores = cross_val_score(model_rf1, X_train, y_train, scoring='balanced_accuracy', cv=10)\n",
    "def display_scores(scores):\n",
    "    print(\"Balanced Accuracy Scores:\", scores)\n",
    "    print(\"Mean Score:\", scores.mean())\n",
    "    print(\"Standard deviation:\", scores.std())\n",
    "display_scores(rf1_scores)"
   ]
  },
  {
   "cell_type": "code",
   "execution_count": 80,
   "metadata": {},
   "outputs": [
    {
     "name": "stdout",
     "output_type": "stream",
     "text": [
      "Scores: [0.45149659 0.44129906 0.45114669 0.44411934 0.43499713 0.44846875\n",
      " 0.44555075 0.45035415 0.44205481 0.44979605]\n",
      "Mean: 0.4459283307692294\n",
      "Standard deviation: 0.005085056099217209\n"
     ]
    }
   ],
   "source": [
    "# Cross-validation of model_boosting using balanced accuracy score\n",
    "\n",
    "boost_scores = cross_val_score(model_boosting, X_train, y_train, scoring='balanced_accuracy', cv=10)\n",
    "display_scores(boost_scores)"
   ]
  },
  {
   "cell_type": "markdown",
   "metadata": {},
   "source": [
    "**Observation:**\n",
    "La cross-validation confirme les résultats obtenus plus simplement : le modèle \"Gradient Boosting\" est plus efficace que le modèle \"Random Forest\"."
   ]
  },
  {
   "cell_type": "markdown",
   "metadata": {},
   "source": [
    "Etudions plus finement les hyper-paramètres à utiliser pour améliorer le modèle Gradient Boosting."
   ]
  },
  {
   "cell_type": "markdown",
   "metadata": {},
   "source": [
    "### Réglage des Hyperparamètres"
   ]
  },
  {
   "cell_type": "code",
   "execution_count": null,
   "metadata": {},
   "outputs": [],
   "source": [
    "from sklearn.model_selection import GridSearchCV\n",
    "param_grid =  {'n_estimators': [3, 10, 30, 100, 200, 300], 'max_features': [2, 4, 10, 30, 'sqrt', 'log2']}\n",
    "model_boosting = GradientBoostingClassifier()\n",
    "grid_search = GridSearchCV(model_boosting, param_grid, cv=5, scoring='balanced_accuracy', return_train_score=True)\n",
    "grid_search.fit(X_train, y_train)"
   ]
  },
  {
   "cell_type": "code",
   "execution_count": null,
   "metadata": {},
   "outputs": [],
   "source": [
    "grid_search.best_estimator_"
   ]
  },
  {
   "cell_type": "code",
   "execution_count": null,
   "metadata": {},
   "outputs": [],
   "source": [
    "grid_search.best_params_"
   ]
  },
  {
   "cell_type": "code",
   "execution_count": null,
   "metadata": {},
   "outputs": [],
   "source": [
    "# Pour sauvegarder notre modèle\n",
    "import joblib\n",
    "joblib.dump(grid_search.best_estimator_, \"my_model_2021-07-26.pkl\")\n",
    "# Pour le réutiliser\n",
    "#my_model_loaded = joblib.load(\"my_model.pkl\")"
   ]
  },
  {
   "cell_type": "markdown",
   "metadata": {},
   "source": [
    "### Variables les plus importantes"
   ]
  },
  {
   "cell_type": "markdown",
   "metadata": {},
   "source": [
    "Etudions les variables qui sont plus déterminantes que les autres dans la classification par notre modèle."
   ]
  },
  {
   "cell_type": "code",
   "execution_count": null,
   "metadata": {},
   "outputs": [],
   "source": [
    "feature_importances = grid_search.best_estimator_.feature_importances_\n",
    "list_feat = list(feature_importances)\n",
    "list_col = list(X_train_data.columns)\n",
    "sorted([t for t in zip(list_feat, list_col)], key=lambda t: t[0], reverse=True)"
   ]
  },
  {
   "cell_type": "markdown",
   "metadata": {},
   "source": [
    "### Evaluation Finale sur le Jeu de Test"
   ]
  },
  {
   "cell_type": "code",
   "execution_count": null,
   "metadata": {},
   "outputs": [],
   "source": [
    "final_model = grid_search.best_estimator_\n",
    "\n",
    "final_predictions_train = final_model.predict(X_train)\n",
    "final_predictions_test = final_model.predict(X_test)\n",
    "\n",
    "final_score_train = balanced_accuracy_score(y_train, final_predictions_train)\n",
    "final_score_test = balanced_accuracy_score(y_test, final_predictions_test)\n",
    "print(\"Final Balanced Accuracy Score on Train Set =\", round(final_score_train,3))\n",
    "print(\"Final Balanced Accuracy Score on Test Set =\", round(final_score_test,3))"
   ]
  },
  {
   "cell_type": "markdown",
   "metadata": {},
   "source": [
    "\n",
    "\n",
    "**Conclusion :**\n",
    "Notre modèle le plus performant est assez décevant avec un score de balanced accuracy de 38%.\n",
    "Pistes d'amélioration : undersampling des 2 classes majoritaires, rajout de features pour complexifier le jeu d'apprentissage, sélection d'autres algorithmes plus complexes."
   ]
  },
  {
   "cell_type": "code",
   "execution_count": null,
   "metadata": {},
   "outputs": [],
   "source": []
  }
 ],
 "metadata": {
  "kernelspec": {
   "display_name": "Python 3",
   "language": "python",
   "name": "python3"
  },
  "language_info": {
   "codemirror_mode": {
    "name": "ipython",
    "version": 3
   },
   "file_extension": ".py",
   "mimetype": "text/x-python",
   "name": "python",
   "nbconvert_exporter": "python",
   "pygments_lexer": "ipython3",
   "version": "3.8.5"
  }
 },
 "nbformat": 4,
 "nbformat_minor": 4
}
