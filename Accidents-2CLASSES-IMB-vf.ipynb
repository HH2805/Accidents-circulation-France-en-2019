{
 "cells": [
  {
   "cell_type": "markdown",
   "metadata": {},
   "source": [
    "## Final Project - Road Accidents in France in 2019\n",
    "## N°2 / Module 'Imbalanced-Learn'"
   ]
  },
  {
   "cell_type": "code",
   "execution_count": null,
   "metadata": {},
   "outputs": [],
   "source": [
    "import os\n",
    "import pandas as pd\n",
    "import numpy as np\n",
    "import joblib\n",
    "import sklearn\n",
    "from sklearn import model_selection\n",
    "from sklearn.model_selection import train_test_split, GridSearchCV, cross_val_score, cross_validate\n",
    "from imblearn.ensemble import BalancedRandomForestClassifier, BalancedBaggingClassifier, RUSBoostClassifier, EasyEnsembleClassifier\n",
    "from sklearn.tree import DecisionTreeClassifier\n",
    "from sklearn.metrics import balanced_accuracy_score, accuracy_score, classification_report"
   ]
  },
  {
   "cell_type": "markdown",
   "metadata": {},
   "source": [
    "### Import des fichiers de données"
   ]
  },
  {
   "cell_type": "code",
   "execution_count": 2,
   "metadata": {},
   "outputs": [
    {
     "data": {
      "text/plain": [
       "'C:\\\\Users\\\\mailb\\\\Documents_Administrateur\\\\Ironhack\\\\DA_BOOTCAMP\\\\3.Labs\\\\dataV2-labs\\\\module-3\\\\Final-Project'"
      ]
     },
     "execution_count": 2,
     "metadata": {},
     "output_type": "execute_result"
    }
   ],
   "source": [
    "os.getcwd()"
   ]
  },
  {
   "cell_type": "code",
   "execution_count": 3,
   "metadata": {},
   "outputs": [],
   "source": [
    "acc = pd.read_csv('../Final-Project/data/victml_clean_dummies_2CLASSES.csv')"
   ]
  },
  {
   "cell_type": "code",
   "execution_count": 4,
   "metadata": {},
   "outputs": [
    {
     "data": {
      "text/plain": [
       "(130901, 141)"
      ]
     },
     "execution_count": 4,
     "metadata": {},
     "output_type": "execute_result"
    }
   ],
   "source": [
    "acc.shape"
   ]
  },
  {
   "cell_type": "markdown",
   "metadata": {},
   "source": [
    "## Machine Learning"
   ]
  },
  {
   "cell_type": "code",
   "execution_count": 5,
   "metadata": {},
   "outputs": [],
   "source": [
    "from sklearn.model_selection import train_test_split\n",
    "y = acc.pop('grav')\n",
    "X = acc"
   ]
  },
  {
   "cell_type": "code",
   "execution_count": null,
   "metadata": {},
   "outputs": [],
   "source": [
    "# Pour l'évaluation des modèles, nous utiliserons le score de Balanced Accuracy (\"exactitude pondérée\") \n",
    "# plutôt que le score d'Accuracy, car nos classes cibles sont de tailles respectives déséquilibrées. \n",
    "\n",
    "def display_scores(scores):\n",
    "    meansc = round(scores.mean(),3)\n",
    "    print(meansc)"
   ]
  },
  {
   "cell_type": "markdown",
   "metadata": {},
   "source": [
    "#### Choix et Entraînement de divers modèles initialisés par défaut"
   ]
  },
  {
   "cell_type": "markdown",
   "metadata": {},
   "source": [
    "On essaie plusieurs modèles de classification, initialisés par défaut.\n",
    "https://scikit-learn.org/stable/modules/multiclass.html"
   ]
  },
  {
   "cell_type": "markdown",
   "metadata": {},
   "source": [
    "Dans un second temps, on utilise la solution proposée par le module imblearn.ensemble : des modèles d'ensembles entraînés à chaque étape sur un échantillon rééquilibré automatiquement entre les différentes classes. Ce qui permet de se passer de méthodes de rééchantillonnage avant l'entraînement."
   ]
  },
  {
   "cell_type": "code",
   "execution_count": 7,
   "metadata": {},
   "outputs": [],
   "source": [
    "X_train, X_test, y_train, y_test = train_test_split(X, y, test_size=0.2)"
   ]
  },
  {
   "cell_type": "code",
   "execution_count": 8,
   "metadata": {},
   "outputs": [],
   "source": [
    "# Modèle : BALANCED FOREST\n",
    "brf1 = BalancedRandomForestClassifier()"
   ]
  },
  {
   "cell_type": "code",
   "execution_count": 9,
   "metadata": {},
   "outputs": [
    {
     "name": "stdout",
     "output_type": "stream",
     "text": [
      "Mean score: 0.785\n",
      "Standard deviation: 0.00421\n"
     ]
    }
   ],
   "source": [
    "brf1_bacc = cross_val_score(brf1, X_train, y_train, scoring='balanced_accuracy', cv=5)\n",
    "display_scores(brf1_bacc)"
   ]
  },
  {
   "cell_type": "code",
   "execution_count": 10,
   "metadata": {},
   "outputs": [
    {
     "name": "stdout",
     "output_type": "stream",
     "text": [
      "Mean score: 0.76\n",
      "Standard deviation: 0.00357\n"
     ]
    }
   ],
   "source": [
    "brf1_acc = cross_val_score(brf1, X_train, y_train, scoring='accuracy', cv=5)\n",
    "display_scores(brf1_acc)"
   ]
  },
  {
   "cell_type": "code",
   "execution_count": 11,
   "metadata": {},
   "outputs": [
    {
     "data": {
      "text/plain": [
       "BalancedRandomForestClassifier()"
      ]
     },
     "execution_count": 11,
     "metadata": {},
     "output_type": "execute_result"
    }
   ],
   "source": [
    "brf1.fit(X_train, y_train)"
   ]
  },
  {
   "cell_type": "code",
   "execution_count": 72,
   "metadata": {},
   "outputs": [
    {
     "data": {
      "text/plain": [
       "[('vitesse_autorisee', 0.03939756288207424),\n",
       " ('type_veh_7', 0.035636661092275854),\n",
       " ('nb_voies', 0.03181377601076886),\n",
       " ('obst_mobile_IRLVT', 0.022961019413465265),\n",
       " ('type_route_3', 0.02271141628758067),\n",
       " ('agglo_2', 0.02241197372056967),\n",
       " ('type_veh_33', 0.021362405037182848),\n",
       " ('obst_fixe_IRLVT', 0.019504183556215842),\n",
       " ('type_circu_2', 0.018938820666266544),\n",
       " ('sexe_2', 0.01650735120242056),\n",
       " ('sens_circu_2', 0.016078501905895),\n",
       " ('an_nais_Moins de 35 ans', 0.015704200515267587),\n",
       " ('type_route_4', 0.015087112706916582),\n",
       " ('dep_Sud Est', 0.014993629475947814),\n",
       " ('num_veh_B01', 0.014353678402190635)]"
      ]
     },
     "execution_count": 72,
     "metadata": {},
     "output_type": "execute_result"
    }
   ],
   "source": [
    "[(X.columns[i], brf1.feature_importances_[i]) for i in np.argsort(brf1.feature_importances_)[::-1]][:15]"
   ]
  },
  {
   "cell_type": "code",
   "execution_count": 13,
   "metadata": {},
   "outputs": [],
   "source": [
    "# Modèle : BALANCED BAGGING\n",
    "bbc1 = BalancedBaggingClassifier()"
   ]
  },
  {
   "cell_type": "code",
   "execution_count": 14,
   "metadata": {},
   "outputs": [
    {
     "name": "stdout",
     "output_type": "stream",
     "text": [
      "Mean score: 0.765\n",
      "Standard deviation: 0.00421\n"
     ]
    }
   ],
   "source": [
    "bbc1_bacc = cross_val_score(bbc1, X_train, y_train, scoring='balanced_accuracy', cv=5)\n",
    "display_scores(bbc1_bacc)"
   ]
  },
  {
   "cell_type": "code",
   "execution_count": 15,
   "metadata": {},
   "outputs": [
    {
     "name": "stdout",
     "output_type": "stream",
     "text": [
      "Mean score: 0.765\n",
      "Standard deviation: 0.00285\n"
     ]
    }
   ],
   "source": [
    "bbc1_acc = cross_val_score(bbc1, X_train, y_train, scoring='accuracy', cv=5)\n",
    "display_scores(bbc1_acc)"
   ]
  },
  {
   "cell_type": "code",
   "execution_count": 16,
   "metadata": {},
   "outputs": [
    {
     "data": {
      "text/plain": [
       "BalancedBaggingClassifier()"
      ]
     },
     "execution_count": 16,
     "metadata": {},
     "output_type": "execute_result"
    }
   ],
   "source": [
    "bbc1.fit(X_train, y_train)"
   ]
  },
  {
   "cell_type": "code",
   "execution_count": 73,
   "metadata": {},
   "outputs": [
    {
     "data": {
      "text/plain": [
       "[('vitesse_autorisee', 0.02611764427264131),\n",
       " ('type_veh_33', 0.024229403880799253),\n",
       " ('agglo_2', 0.021827297132591964),\n",
       " ('sexe_2', 0.02142362966010733),\n",
       " ('type_veh_7', 0.021385365593542836),\n",
       " ('sens_circu_2', 0.01969383352975583),\n",
       " ('nb_voies', 0.019556313710346877),\n",
       " ('an_nais_Moins de 35 ans', 0.01847014211364689),\n",
       " ('type_route_3', 0.01846318037156607),\n",
       " ('type_circu_2', 0.017926843214778405),\n",
       " ('obst_fixe_IRLVT', 0.01768272218956795),\n",
       " ('an_nais_36-75 ans', 0.01762115306905414),\n",
       " ('type_usager_2', 0.016693111490846534),\n",
       " ('dep_Sud Est', 0.01559246974652756),\n",
       " ('place_veh_2', 0.015145032161745411)]"
      ]
     },
     "execution_count": 73,
     "metadata": {},
     "output_type": "execute_result"
    }
   ],
   "source": [
    "forest = ExtraTreesClassifier(n_estimators=bbc1.n_estimators,\n",
    "                              random_state=bbc1.random_state)\n",
    "\n",
    "forest.fit(X_train, y_train)\n",
    "bbc1.feature_importances_ = forest.feature_importances_\n",
    "[(X.columns[i], bbc1.feature_importances_[i]) for i in np.argsort(bbc1.feature_importances_)[::-1]][:15]"
   ]
  },
  {
   "cell_type": "code",
   "execution_count": 28,
   "metadata": {},
   "outputs": [],
   "source": [
    "# Modèle : RUS BOOST\n",
    "rb1 = RUSBoostClassifier()"
   ]
  },
  {
   "cell_type": "code",
   "execution_count": 30,
   "metadata": {},
   "outputs": [
    {
     "name": "stdout",
     "output_type": "stream",
     "text": [
      "Mean score: 0.763\n",
      "Standard deviation: 0.00289\n"
     ]
    }
   ],
   "source": [
    "rb1_bacc = cross_val_score(rb1, X_train, y_train, scoring='balanced_accuracy', cv=5)\n",
    "display_scores(rb1_bacc)"
   ]
  },
  {
   "cell_type": "code",
   "execution_count": 31,
   "metadata": {},
   "outputs": [
    {
     "name": "stdout",
     "output_type": "stream",
     "text": [
      "Mean score: 0.754\n",
      "Standard deviation: 0.00264\n"
     ]
    }
   ],
   "source": [
    "rb1_acc = cross_val_score(rb1, X_train, y_train, scoring='accuracy', cv=5)\n",
    "display_scores(rb1_acc)"
   ]
  },
  {
   "cell_type": "code",
   "execution_count": 32,
   "metadata": {},
   "outputs": [
    {
     "data": {
      "text/plain": [
       "RUSBoostClassifier()"
      ]
     },
     "execution_count": 32,
     "metadata": {},
     "output_type": "execute_result"
    }
   ],
   "source": [
    "rb1.fit(X_train, y_train)"
   ]
  },
  {
   "cell_type": "code",
   "execution_count": 75,
   "metadata": {},
   "outputs": [
    {
     "data": {
      "text/plain": [
       "[('type_veh_7', 0.06),\n",
       " ('dep_Nord Est', 0.06),\n",
       " ('type_route_3', 0.04),\n",
       " ('dep_Nord-Ouest', 0.04),\n",
       " ('dep_Sud Ouest', 0.04),\n",
       " ('place_veh_10', 0.04),\n",
       " ('dep_Sud Est', 0.04),\n",
       " ('vitesse_autorisee', 0.04),\n",
       " ('obst_mobile_2', 0.04),\n",
       " ('choc_4', 0.02),\n",
       " ('obst_fixe_6', 0.02),\n",
       " ('obst_mobile_IRLVT', 0.02),\n",
       " ('agglo_2', 0.02),\n",
       " ('type_veh_31', 0.02),\n",
       " ('choc_2', 0.02)]"
      ]
     },
     "execution_count": 75,
     "metadata": {},
     "output_type": "execute_result"
    }
   ],
   "source": [
    "[(X.columns[i], rb1.feature_importances_[i]) for i in np.argsort(rb1.feature_importances_)[::-1]][:15]"
   ]
  },
  {
   "cell_type": "code",
   "execution_count": null,
   "metadata": {},
   "outputs": [],
   "source": []
  },
  {
   "cell_type": "code",
   "execution_count": 34,
   "metadata": {},
   "outputs": [],
   "source": [
    "# Modèle : EASY ENSEMBLE\n",
    "ee1 = EasyEnsembleClassifier()"
   ]
  },
  {
   "cell_type": "code",
   "execution_count": 35,
   "metadata": {},
   "outputs": [
    {
     "name": "stdout",
     "output_type": "stream",
     "text": [
      "Mean score: 0.764\n",
      "Standard deviation: 0.00405\n"
     ]
    }
   ],
   "source": [
    "ee1_bacc = cross_val_score(ee1, X_train, y_train, scoring='balanced_accuracy', cv=5)\n",
    "display_scores(ee1_bacc)"
   ]
  },
  {
   "cell_type": "code",
   "execution_count": 36,
   "metadata": {},
   "outputs": [
    {
     "name": "stdout",
     "output_type": "stream",
     "text": [
      "Mean score: 0.755\n",
      "Standard deviation: 0.00225\n"
     ]
    }
   ],
   "source": [
    "ee1_acc = cross_val_score(ee1, X_train, y_train, scoring='accuracy', cv=5)\n",
    "display_scores(ee1_acc)"
   ]
  },
  {
   "cell_type": "code",
   "execution_count": 37,
   "metadata": {},
   "outputs": [
    {
     "data": {
      "text/plain": [
       "EasyEnsembleClassifier()"
      ]
     },
     "execution_count": 37,
     "metadata": {},
     "output_type": "execute_result"
    }
   ],
   "source": [
    "ee1.fit(X_train, y_train)"
   ]
  },
  {
   "cell_type": "code",
   "execution_count": 74,
   "metadata": {},
   "outputs": [
    {
     "data": {
      "text/plain": [
       "[('vitesse_autorisee', 0.024961130263324492),\n",
       " ('agglo_2', 0.021883996222515002),\n",
       " ('sexe_2', 0.0212536375293672),\n",
       " ('type_route_3', 0.02102554193281265),\n",
       " ('nb_voies', 0.02065761420262817),\n",
       " ('sens_circu_2', 0.020399401205653842),\n",
       " ('type_veh_7', 0.020346456657038735),\n",
       " ('type_veh_33', 0.020292122644312818),\n",
       " ('an_nais_Moins de 35 ans', 0.0182735977235779),\n",
       " ('obst_fixe_IRLVT', 0.01801493666916875),\n",
       " ('type_circu_2', 0.01776367967087498),\n",
       " ('an_nais_36-75 ans', 0.017360114682035552),\n",
       " ('type_usager_2', 0.016697630379306515),\n",
       " ('dep_Sud Est', 0.015806308526349656),\n",
       " ('place_veh_2', 0.015056172358565215)]"
      ]
     },
     "execution_count": 74,
     "metadata": {},
     "output_type": "execute_result"
    }
   ],
   "source": [
    "forest = ExtraTreesClassifier(n_estimators=ee1.n_estimators,\n",
    "                              random_state=ee1.random_state)\n",
    "\n",
    "forest.fit(X_train, y_train)\n",
    "ee1.feature_importances_ = forest.feature_importances_\n",
    "[(X.columns[i], ee1.feature_importances_[i]) for i in np.argsort(ee1.feature_importances_)[::-1]][:15]"
   ]
  },
  {
   "cell_type": "markdown",
   "metadata": {},
   "source": [
    "#### RESUME"
   ]
  },
  {
   "cell_type": "code",
   "execution_count": 40,
   "metadata": {},
   "outputs": [
    {
     "data": {
      "text/html": [
       "<style  type=\"text/css\" >\n",
       "</style><table id=\"T_91e70ada_f9f8_11eb_933c_c3edd8a299d5\" ><thead>    <tr>        <th class=\"col_heading level0 col0\" >Model Name</th>        <th class=\"col_heading level0 col1\" >Mean Cross-Val Balanced Accuracy</th>        <th class=\"col_heading level0 col2\" >Mean Cross-Val Accuracy</th>    </tr></thead><tbody>\n",
       "                <tr>\n",
       "                                <td id=\"T_91e70ada_f9f8_11eb_933c_c3edd8a299d5row0_col0\" class=\"data row0 col0\" >BalancedRandomForestClassifier</td>\n",
       "                        <td id=\"T_91e70ada_f9f8_11eb_933c_c3edd8a299d5row0_col1\" class=\"data row0 col1\" >0.785360</td>\n",
       "                        <td id=\"T_91e70ada_f9f8_11eb_933c_c3edd8a299d5row0_col2\" class=\"data row0 col2\" >0.760294</td>\n",
       "            </tr>\n",
       "            <tr>\n",
       "                                <td id=\"T_91e70ada_f9f8_11eb_933c_c3edd8a299d5row1_col0\" class=\"data row1 col0\" >BalancedBaggingClassifier</td>\n",
       "                        <td id=\"T_91e70ada_f9f8_11eb_933c_c3edd8a299d5row1_col1\" class=\"data row1 col1\" >0.764916</td>\n",
       "                        <td id=\"T_91e70ada_f9f8_11eb_933c_c3edd8a299d5row1_col2\" class=\"data row1 col2\" >0.765336</td>\n",
       "            </tr>\n",
       "            <tr>\n",
       "                                <td id=\"T_91e70ada_f9f8_11eb_933c_c3edd8a299d5row2_col0\" class=\"data row2 col0\" >EasyEnsembleClassifier</td>\n",
       "                        <td id=\"T_91e70ada_f9f8_11eb_933c_c3edd8a299d5row2_col1\" class=\"data row2 col1\" >0.763927</td>\n",
       "                        <td id=\"T_91e70ada_f9f8_11eb_933c_c3edd8a299d5row2_col2\" class=\"data row2 col2\" >0.755080</td>\n",
       "            </tr>\n",
       "            <tr>\n",
       "                                <td id=\"T_91e70ada_f9f8_11eb_933c_c3edd8a299d5row3_col0\" class=\"data row3 col0\" >RUSBoostClassifier</td>\n",
       "                        <td id=\"T_91e70ada_f9f8_11eb_933c_c3edd8a299d5row3_col1\" class=\"data row3 col1\" >0.762812</td>\n",
       "                        <td id=\"T_91e70ada_f9f8_11eb_933c_c3edd8a299d5row3_col2\" class=\"data row3 col2\" >0.753829</td>\n",
       "            </tr>\n",
       "    </tbody></table>"
      ],
      "text/plain": [
       "<pandas.io.formats.style.Styler at 0x285d136df40>"
      ]
     },
     "execution_count": 40,
     "metadata": {},
     "output_type": "execute_result"
    }
   ],
   "source": [
    "scordict = { \"Model Name\":[\"BalancedRandomForestClassifier\", 'BalancedBaggingClassifier', 'RUSBoostClassifier', 'EasyEnsembleClassifier'],\n",
    "            \"Mean Cross-Val Balanced Accuracy\": [brf1_bacc.mean(), bbc1_bacc.mean(), rb1_bacc.mean(), ee1_bacc.mean()],\n",
    "            \"Mean Cross-Val Accuracy\": [brf1_acc.mean(), bbc1_acc.mean(), rb1_acc.mean(), ee1_acc.mean()]\n",
    "           }\n",
    "df_scores = pd.DataFrame(scordict)\n",
    "df_scores.sort_values(by='Mean Cross-Val Balanced Accuracy',ascending=False).style.hide_index()"
   ]
  },
  {
   "cell_type": "markdown",
   "metadata": {},
   "source": [
    "#### CONCLUSION\n",
    "Avec un score de 78,5% sur le jeu d'entraînement, le modèle \"Balanced Forest Classifier\", initialisé par défaut, est le plus prometteur. A la prochaine étape, nous procéderons au réglage des hyper-paramètres."
   ]
  },
  {
   "cell_type": "code",
   "execution_count": 42,
   "metadata": {},
   "outputs": [
    {
     "name": "stdout",
     "output_type": "stream",
     "text": [
      "finished! See next file.\n"
     ]
    }
   ],
   "source": [
    "print('finished! See next file.')"
   ]
  }
 ],
 "metadata": {
  "kernelspec": {
   "display_name": "Python 3",
   "language": "python",
   "name": "python3"
  },
  "language_info": {
   "codemirror_mode": {
    "name": "ipython",
    "version": 3
   },
   "file_extension": ".py",
   "mimetype": "text/x-python",
   "name": "python",
   "nbconvert_exporter": "python",
   "pygments_lexer": "ipython3",
   "version": "3.8.5"
  }
 },
 "nbformat": 4,
 "nbformat_minor": 4
}
